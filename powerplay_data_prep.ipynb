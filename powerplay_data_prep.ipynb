{
  "nbformat": 4,
  "nbformat_minor": 0,
  "metadata": {
    "colab": {
      "name": "powerplay_data_prep.ipynb",
      "provenance": [],
      "collapsed_sections": [],
      "authorship_tag": "ABX9TyPRPuLJqqwUOHx7vjYhQlQL",
      "include_colab_link": true
    },
    "kernelspec": {
      "name": "python3",
      "display_name": "Python 3"
    },
    "language_info": {
      "name": "python"
    },
    "widgets": {
      "application/vnd.jupyter.widget-state+json": {
        "933df070b98a4646a1d4ca5f7742d757": {
          "model_module": "@jupyter-widgets/controls",
          "model_name": "HBoxModel",
          "model_module_version": "1.5.0",
          "state": {
            "_dom_classes": [],
            "_model_module": "@jupyter-widgets/controls",
            "_model_module_version": "1.5.0",
            "_model_name": "HBoxModel",
            "_view_count": null,
            "_view_module": "@jupyter-widgets/controls",
            "_view_module_version": "1.5.0",
            "_view_name": "HBoxView",
            "box_style": "",
            "children": [
              "IPY_MODEL_91450376dbfa47268e9504a7abfdd090",
              "IPY_MODEL_1d1d5db94f614f61839ebdf73d1f378b",
              "IPY_MODEL_98a832f5237042fd89154ab933ddd2ae"
            ],
            "layout": "IPY_MODEL_0c45c39ca237447eb1f06566da005752"
          }
        },
        "91450376dbfa47268e9504a7abfdd090": {
          "model_module": "@jupyter-widgets/controls",
          "model_name": "HTMLModel",
          "model_module_version": "1.5.0",
          "state": {
            "_dom_classes": [],
            "_model_module": "@jupyter-widgets/controls",
            "_model_module_version": "1.5.0",
            "_model_name": "HTMLModel",
            "_view_count": null,
            "_view_module": "@jupyter-widgets/controls",
            "_view_module_version": "1.5.0",
            "_view_name": "HTMLView",
            "description": "",
            "description_tooltip": null,
            "layout": "IPY_MODEL_1bdd9f99815340ce9d7544af08cf187c",
            "placeholder": "​",
            "style": "IPY_MODEL_4b4eb2dda27b4982bd76371eb5b9327a",
            "value": "100%"
          }
        },
        "1d1d5db94f614f61839ebdf73d1f378b": {
          "model_module": "@jupyter-widgets/controls",
          "model_name": "FloatProgressModel",
          "model_module_version": "1.5.0",
          "state": {
            "_dom_classes": [],
            "_model_module": "@jupyter-widgets/controls",
            "_model_module_version": "1.5.0",
            "_model_name": "FloatProgressModel",
            "_view_count": null,
            "_view_module": "@jupyter-widgets/controls",
            "_view_module_version": "1.5.0",
            "_view_name": "ProgressView",
            "bar_style": "success",
            "description": "",
            "description_tooltip": null,
            "layout": "IPY_MODEL_28a7698befba486f866af834ee5f6045",
            "max": 6,
            "min": 0,
            "orientation": "horizontal",
            "style": "IPY_MODEL_f6d9d03c65c34b32a0e83a96ffd1e6d2",
            "value": 6
          }
        },
        "98a832f5237042fd89154ab933ddd2ae": {
          "model_module": "@jupyter-widgets/controls",
          "model_name": "HTMLModel",
          "model_module_version": "1.5.0",
          "state": {
            "_dom_classes": [],
            "_model_module": "@jupyter-widgets/controls",
            "_model_module_version": "1.5.0",
            "_model_name": "HTMLModel",
            "_view_count": null,
            "_view_module": "@jupyter-widgets/controls",
            "_view_module_version": "1.5.0",
            "_view_name": "HTMLView",
            "description": "",
            "description_tooltip": null,
            "layout": "IPY_MODEL_fea6c0866c6f4f1cb49ba19513a7cedb",
            "placeholder": "​",
            "style": "IPY_MODEL_ba465ae4d5584db4abb0d9d1078fab2d",
            "value": " 6/6 [01:31&lt;00:00, 15.47s/it]"
          }
        },
        "0c45c39ca237447eb1f06566da005752": {
          "model_module": "@jupyter-widgets/base",
          "model_name": "LayoutModel",
          "model_module_version": "1.2.0",
          "state": {
            "_model_module": "@jupyter-widgets/base",
            "_model_module_version": "1.2.0",
            "_model_name": "LayoutModel",
            "_view_count": null,
            "_view_module": "@jupyter-widgets/base",
            "_view_module_version": "1.2.0",
            "_view_name": "LayoutView",
            "align_content": null,
            "align_items": null,
            "align_self": null,
            "border": null,
            "bottom": null,
            "display": null,
            "flex": null,
            "flex_flow": null,
            "grid_area": null,
            "grid_auto_columns": null,
            "grid_auto_flow": null,
            "grid_auto_rows": null,
            "grid_column": null,
            "grid_gap": null,
            "grid_row": null,
            "grid_template_areas": null,
            "grid_template_columns": null,
            "grid_template_rows": null,
            "height": null,
            "justify_content": null,
            "justify_items": null,
            "left": null,
            "margin": null,
            "max_height": null,
            "max_width": null,
            "min_height": null,
            "min_width": null,
            "object_fit": null,
            "object_position": null,
            "order": null,
            "overflow": null,
            "overflow_x": null,
            "overflow_y": null,
            "padding": null,
            "right": null,
            "top": null,
            "visibility": null,
            "width": null
          }
        },
        "1bdd9f99815340ce9d7544af08cf187c": {
          "model_module": "@jupyter-widgets/base",
          "model_name": "LayoutModel",
          "model_module_version": "1.2.0",
          "state": {
            "_model_module": "@jupyter-widgets/base",
            "_model_module_version": "1.2.0",
            "_model_name": "LayoutModel",
            "_view_count": null,
            "_view_module": "@jupyter-widgets/base",
            "_view_module_version": "1.2.0",
            "_view_name": "LayoutView",
            "align_content": null,
            "align_items": null,
            "align_self": null,
            "border": null,
            "bottom": null,
            "display": null,
            "flex": null,
            "flex_flow": null,
            "grid_area": null,
            "grid_auto_columns": null,
            "grid_auto_flow": null,
            "grid_auto_rows": null,
            "grid_column": null,
            "grid_gap": null,
            "grid_row": null,
            "grid_template_areas": null,
            "grid_template_columns": null,
            "grid_template_rows": null,
            "height": null,
            "justify_content": null,
            "justify_items": null,
            "left": null,
            "margin": null,
            "max_height": null,
            "max_width": null,
            "min_height": null,
            "min_width": null,
            "object_fit": null,
            "object_position": null,
            "order": null,
            "overflow": null,
            "overflow_x": null,
            "overflow_y": null,
            "padding": null,
            "right": null,
            "top": null,
            "visibility": null,
            "width": null
          }
        },
        "4b4eb2dda27b4982bd76371eb5b9327a": {
          "model_module": "@jupyter-widgets/controls",
          "model_name": "DescriptionStyleModel",
          "model_module_version": "1.5.0",
          "state": {
            "_model_module": "@jupyter-widgets/controls",
            "_model_module_version": "1.5.0",
            "_model_name": "DescriptionStyleModel",
            "_view_count": null,
            "_view_module": "@jupyter-widgets/base",
            "_view_module_version": "1.2.0",
            "_view_name": "StyleView",
            "description_width": ""
          }
        },
        "28a7698befba486f866af834ee5f6045": {
          "model_module": "@jupyter-widgets/base",
          "model_name": "LayoutModel",
          "model_module_version": "1.2.0",
          "state": {
            "_model_module": "@jupyter-widgets/base",
            "_model_module_version": "1.2.0",
            "_model_name": "LayoutModel",
            "_view_count": null,
            "_view_module": "@jupyter-widgets/base",
            "_view_module_version": "1.2.0",
            "_view_name": "LayoutView",
            "align_content": null,
            "align_items": null,
            "align_self": null,
            "border": null,
            "bottom": null,
            "display": null,
            "flex": null,
            "flex_flow": null,
            "grid_area": null,
            "grid_auto_columns": null,
            "grid_auto_flow": null,
            "grid_auto_rows": null,
            "grid_column": null,
            "grid_gap": null,
            "grid_row": null,
            "grid_template_areas": null,
            "grid_template_columns": null,
            "grid_template_rows": null,
            "height": null,
            "justify_content": null,
            "justify_items": null,
            "left": null,
            "margin": null,
            "max_height": null,
            "max_width": null,
            "min_height": null,
            "min_width": null,
            "object_fit": null,
            "object_position": null,
            "order": null,
            "overflow": null,
            "overflow_x": null,
            "overflow_y": null,
            "padding": null,
            "right": null,
            "top": null,
            "visibility": null,
            "width": null
          }
        },
        "f6d9d03c65c34b32a0e83a96ffd1e6d2": {
          "model_module": "@jupyter-widgets/controls",
          "model_name": "ProgressStyleModel",
          "model_module_version": "1.5.0",
          "state": {
            "_model_module": "@jupyter-widgets/controls",
            "_model_module_version": "1.5.0",
            "_model_name": "ProgressStyleModel",
            "_view_count": null,
            "_view_module": "@jupyter-widgets/base",
            "_view_module_version": "1.2.0",
            "_view_name": "StyleView",
            "bar_color": null,
            "description_width": ""
          }
        },
        "fea6c0866c6f4f1cb49ba19513a7cedb": {
          "model_module": "@jupyter-widgets/base",
          "model_name": "LayoutModel",
          "model_module_version": "1.2.0",
          "state": {
            "_model_module": "@jupyter-widgets/base",
            "_model_module_version": "1.2.0",
            "_model_name": "LayoutModel",
            "_view_count": null,
            "_view_module": "@jupyter-widgets/base",
            "_view_module_version": "1.2.0",
            "_view_name": "LayoutView",
            "align_content": null,
            "align_items": null,
            "align_self": null,
            "border": null,
            "bottom": null,
            "display": null,
            "flex": null,
            "flex_flow": null,
            "grid_area": null,
            "grid_auto_columns": null,
            "grid_auto_flow": null,
            "grid_auto_rows": null,
            "grid_column": null,
            "grid_gap": null,
            "grid_row": null,
            "grid_template_areas": null,
            "grid_template_columns": null,
            "grid_template_rows": null,
            "height": null,
            "justify_content": null,
            "justify_items": null,
            "left": null,
            "margin": null,
            "max_height": null,
            "max_width": null,
            "min_height": null,
            "min_width": null,
            "object_fit": null,
            "object_position": null,
            "order": null,
            "overflow": null,
            "overflow_x": null,
            "overflow_y": null,
            "padding": null,
            "right": null,
            "top": null,
            "visibility": null,
            "width": null
          }
        },
        "ba465ae4d5584db4abb0d9d1078fab2d": {
          "model_module": "@jupyter-widgets/controls",
          "model_name": "DescriptionStyleModel",
          "model_module_version": "1.5.0",
          "state": {
            "_model_module": "@jupyter-widgets/controls",
            "_model_module_version": "1.5.0",
            "_model_name": "DescriptionStyleModel",
            "_view_count": null,
            "_view_module": "@jupyter-widgets/base",
            "_view_module_version": "1.2.0",
            "_view_name": "StyleView",
            "description_width": ""
          }
        },
        "5697058b2348438794beac4bb552bd80": {
          "model_module": "@jupyter-widgets/controls",
          "model_name": "HBoxModel",
          "model_module_version": "1.5.0",
          "state": {
            "_dom_classes": [],
            "_model_module": "@jupyter-widgets/controls",
            "_model_module_version": "1.5.0",
            "_model_name": "HBoxModel",
            "_view_count": null,
            "_view_module": "@jupyter-widgets/controls",
            "_view_module_version": "1.5.0",
            "_view_name": "HBoxView",
            "box_style": "",
            "children": [
              "IPY_MODEL_0f06dd0d181246d3a12ca997eaa274d2",
              "IPY_MODEL_324e1bbcae43475c848e7c2b8ff4ccac",
              "IPY_MODEL_c46bd41d67cb48d38dc4266f83c911fc"
            ],
            "layout": "IPY_MODEL_a7537d1a68bd4365b305f0eae4736840"
          }
        },
        "0f06dd0d181246d3a12ca997eaa274d2": {
          "model_module": "@jupyter-widgets/controls",
          "model_name": "HTMLModel",
          "model_module_version": "1.5.0",
          "state": {
            "_dom_classes": [],
            "_model_module": "@jupyter-widgets/controls",
            "_model_module_version": "1.5.0",
            "_model_name": "HTMLModel",
            "_view_count": null,
            "_view_module": "@jupyter-widgets/controls",
            "_view_module_version": "1.5.0",
            "_view_name": "HTMLView",
            "description": "",
            "description_tooltip": null,
            "layout": "IPY_MODEL_5461d9a2e5924abaa5737f41d3ed32be",
            "placeholder": "​",
            "style": "IPY_MODEL_959e25d12ff64c2ca74f968e0ccaddef",
            "value": "2022-02-08 Canada at USA: 100%"
          }
        },
        "324e1bbcae43475c848e7c2b8ff4ccac": {
          "model_module": "@jupyter-widgets/controls",
          "model_name": "FloatProgressModel",
          "model_module_version": "1.5.0",
          "state": {
            "_dom_classes": [],
            "_model_module": "@jupyter-widgets/controls",
            "_model_module_version": "1.5.0",
            "_model_name": "FloatProgressModel",
            "_view_count": null,
            "_view_module": "@jupyter-widgets/controls",
            "_view_module_version": "1.5.0",
            "_view_name": "ProgressView",
            "bar_style": "success",
            "description": "",
            "description_tooltip": null,
            "layout": "IPY_MODEL_44fa5baeeb6146598e40b50a67a3acbe",
            "max": 5,
            "min": 0,
            "orientation": "horizontal",
            "style": "IPY_MODEL_0c4cde9b5a66497f95e367c4af344327",
            "value": 5
          }
        },
        "c46bd41d67cb48d38dc4266f83c911fc": {
          "model_module": "@jupyter-widgets/controls",
          "model_name": "HTMLModel",
          "model_module_version": "1.5.0",
          "state": {
            "_dom_classes": [],
            "_model_module": "@jupyter-widgets/controls",
            "_model_module_version": "1.5.0",
            "_model_name": "HTMLModel",
            "_view_count": null,
            "_view_module": "@jupyter-widgets/controls",
            "_view_module_version": "1.5.0",
            "_view_name": "HTMLView",
            "description": "",
            "description_tooltip": null,
            "layout": "IPY_MODEL_da28beefd3b0461ea353a9fe32ef1563",
            "placeholder": "​",
            "style": "IPY_MODEL_88875df2473940afb7dee1ca5c3bfb52",
            "value": " 5/5 [00:24&lt;00:00,  3.89s/it]"
          }
        },
        "a7537d1a68bd4365b305f0eae4736840": {
          "model_module": "@jupyter-widgets/base",
          "model_name": "LayoutModel",
          "model_module_version": "1.2.0",
          "state": {
            "_model_module": "@jupyter-widgets/base",
            "_model_module_version": "1.2.0",
            "_model_name": "LayoutModel",
            "_view_count": null,
            "_view_module": "@jupyter-widgets/base",
            "_view_module_version": "1.2.0",
            "_view_name": "LayoutView",
            "align_content": null,
            "align_items": null,
            "align_self": null,
            "border": null,
            "bottom": null,
            "display": null,
            "flex": null,
            "flex_flow": null,
            "grid_area": null,
            "grid_auto_columns": null,
            "grid_auto_flow": null,
            "grid_auto_rows": null,
            "grid_column": null,
            "grid_gap": null,
            "grid_row": null,
            "grid_template_areas": null,
            "grid_template_columns": null,
            "grid_template_rows": null,
            "height": null,
            "justify_content": null,
            "justify_items": null,
            "left": null,
            "margin": null,
            "max_height": null,
            "max_width": null,
            "min_height": null,
            "min_width": null,
            "object_fit": null,
            "object_position": null,
            "order": null,
            "overflow": null,
            "overflow_x": null,
            "overflow_y": null,
            "padding": null,
            "right": null,
            "top": null,
            "visibility": null,
            "width": null
          }
        },
        "5461d9a2e5924abaa5737f41d3ed32be": {
          "model_module": "@jupyter-widgets/base",
          "model_name": "LayoutModel",
          "model_module_version": "1.2.0",
          "state": {
            "_model_module": "@jupyter-widgets/base",
            "_model_module_version": "1.2.0",
            "_model_name": "LayoutModel",
            "_view_count": null,
            "_view_module": "@jupyter-widgets/base",
            "_view_module_version": "1.2.0",
            "_view_name": "LayoutView",
            "align_content": null,
            "align_items": null,
            "align_self": null,
            "border": null,
            "bottom": null,
            "display": null,
            "flex": null,
            "flex_flow": null,
            "grid_area": null,
            "grid_auto_columns": null,
            "grid_auto_flow": null,
            "grid_auto_rows": null,
            "grid_column": null,
            "grid_gap": null,
            "grid_row": null,
            "grid_template_areas": null,
            "grid_template_columns": null,
            "grid_template_rows": null,
            "height": null,
            "justify_content": null,
            "justify_items": null,
            "left": null,
            "margin": null,
            "max_height": null,
            "max_width": null,
            "min_height": null,
            "min_width": null,
            "object_fit": null,
            "object_position": null,
            "order": null,
            "overflow": null,
            "overflow_x": null,
            "overflow_y": null,
            "padding": null,
            "right": null,
            "top": null,
            "visibility": null,
            "width": null
          }
        },
        "959e25d12ff64c2ca74f968e0ccaddef": {
          "model_module": "@jupyter-widgets/controls",
          "model_name": "DescriptionStyleModel",
          "model_module_version": "1.5.0",
          "state": {
            "_model_module": "@jupyter-widgets/controls",
            "_model_module_version": "1.5.0",
            "_model_name": "DescriptionStyleModel",
            "_view_count": null,
            "_view_module": "@jupyter-widgets/base",
            "_view_module_version": "1.2.0",
            "_view_name": "StyleView",
            "description_width": ""
          }
        },
        "44fa5baeeb6146598e40b50a67a3acbe": {
          "model_module": "@jupyter-widgets/base",
          "model_name": "LayoutModel",
          "model_module_version": "1.2.0",
          "state": {
            "_model_module": "@jupyter-widgets/base",
            "_model_module_version": "1.2.0",
            "_model_name": "LayoutModel",
            "_view_count": null,
            "_view_module": "@jupyter-widgets/base",
            "_view_module_version": "1.2.0",
            "_view_name": "LayoutView",
            "align_content": null,
            "align_items": null,
            "align_self": null,
            "border": null,
            "bottom": null,
            "display": null,
            "flex": null,
            "flex_flow": null,
            "grid_area": null,
            "grid_auto_columns": null,
            "grid_auto_flow": null,
            "grid_auto_rows": null,
            "grid_column": null,
            "grid_gap": null,
            "grid_row": null,
            "grid_template_areas": null,
            "grid_template_columns": null,
            "grid_template_rows": null,
            "height": null,
            "justify_content": null,
            "justify_items": null,
            "left": null,
            "margin": null,
            "max_height": null,
            "max_width": null,
            "min_height": null,
            "min_width": null,
            "object_fit": null,
            "object_position": null,
            "order": null,
            "overflow": null,
            "overflow_x": null,
            "overflow_y": null,
            "padding": null,
            "right": null,
            "top": null,
            "visibility": null,
            "width": null
          }
        },
        "0c4cde9b5a66497f95e367c4af344327": {
          "model_module": "@jupyter-widgets/controls",
          "model_name": "ProgressStyleModel",
          "model_module_version": "1.5.0",
          "state": {
            "_model_module": "@jupyter-widgets/controls",
            "_model_module_version": "1.5.0",
            "_model_name": "ProgressStyleModel",
            "_view_count": null,
            "_view_module": "@jupyter-widgets/base",
            "_view_module_version": "1.2.0",
            "_view_name": "StyleView",
            "bar_color": null,
            "description_width": ""
          }
        },
        "da28beefd3b0461ea353a9fe32ef1563": {
          "model_module": "@jupyter-widgets/base",
          "model_name": "LayoutModel",
          "model_module_version": "1.2.0",
          "state": {
            "_model_module": "@jupyter-widgets/base",
            "_model_module_version": "1.2.0",
            "_model_name": "LayoutModel",
            "_view_count": null,
            "_view_module": "@jupyter-widgets/base",
            "_view_module_version": "1.2.0",
            "_view_name": "LayoutView",
            "align_content": null,
            "align_items": null,
            "align_self": null,
            "border": null,
            "bottom": null,
            "display": null,
            "flex": null,
            "flex_flow": null,
            "grid_area": null,
            "grid_auto_columns": null,
            "grid_auto_flow": null,
            "grid_auto_rows": null,
            "grid_column": null,
            "grid_gap": null,
            "grid_row": null,
            "grid_template_areas": null,
            "grid_template_columns": null,
            "grid_template_rows": null,
            "height": null,
            "justify_content": null,
            "justify_items": null,
            "left": null,
            "margin": null,
            "max_height": null,
            "max_width": null,
            "min_height": null,
            "min_width": null,
            "object_fit": null,
            "object_position": null,
            "order": null,
            "overflow": null,
            "overflow_x": null,
            "overflow_y": null,
            "padding": null,
            "right": null,
            "top": null,
            "visibility": null,
            "width": null
          }
        },
        "88875df2473940afb7dee1ca5c3bfb52": {
          "model_module": "@jupyter-widgets/controls",
          "model_name": "DescriptionStyleModel",
          "model_module_version": "1.5.0",
          "state": {
            "_model_module": "@jupyter-widgets/controls",
            "_model_module_version": "1.5.0",
            "_model_name": "DescriptionStyleModel",
            "_view_count": null,
            "_view_module": "@jupyter-widgets/base",
            "_view_module_version": "1.2.0",
            "_view_name": "StyleView",
            "description_width": ""
          }
        },
        "60101b2e075c4fca8edffd8bd27ddee3": {
          "model_module": "@jupyter-widgets/controls",
          "model_name": "HBoxModel",
          "model_module_version": "1.5.0",
          "state": {
            "_dom_classes": [],
            "_model_module": "@jupyter-widgets/controls",
            "_model_module_version": "1.5.0",
            "_model_name": "HBoxModel",
            "_view_count": null,
            "_view_module": "@jupyter-widgets/controls",
            "_view_module_version": "1.5.0",
            "_view_name": "HBoxView",
            "box_style": "",
            "children": [
              "IPY_MODEL_53de78f8ab3f4775bec0d89c53239c50",
              "IPY_MODEL_dd018684a5b44e94b4254f45bdaddb6d",
              "IPY_MODEL_1883abe2b64d464daeab0793aff72c5e"
            ],
            "layout": "IPY_MODEL_2199ab2bc9a240e1af12b048cfd36d10"
          }
        },
        "53de78f8ab3f4775bec0d89c53239c50": {
          "model_module": "@jupyter-widgets/controls",
          "model_name": "HTMLModel",
          "model_module_version": "1.5.0",
          "state": {
            "_dom_classes": [],
            "_model_module": "@jupyter-widgets/controls",
            "_model_module_version": "1.5.0",
            "_model_name": "HTMLModel",
            "_view_count": null,
            "_view_module": "@jupyter-widgets/controls",
            "_view_module_version": "1.5.0",
            "_view_name": "HTMLView",
            "description": "",
            "description_tooltip": null,
            "layout": "IPY_MODEL_0d4f0b7f3c014f63b57b5e04bb47db2d",
            "placeholder": "​",
            "style": "IPY_MODEL_654ac38131e648fe859df410e4b3429a",
            "value": "2022-02-08 ROC at Finland: 100%"
          }
        },
        "dd018684a5b44e94b4254f45bdaddb6d": {
          "model_module": "@jupyter-widgets/controls",
          "model_name": "FloatProgressModel",
          "model_module_version": "1.5.0",
          "state": {
            "_dom_classes": [],
            "_model_module": "@jupyter-widgets/controls",
            "_model_module_version": "1.5.0",
            "_model_name": "FloatProgressModel",
            "_view_count": null,
            "_view_module": "@jupyter-widgets/controls",
            "_view_module_version": "1.5.0",
            "_view_name": "ProgressView",
            "bar_style": "success",
            "description": "",
            "description_tooltip": null,
            "layout": "IPY_MODEL_128f5b598ff0469e893e7659a194c0af",
            "max": 4,
            "min": 0,
            "orientation": "horizontal",
            "style": "IPY_MODEL_542bf716ee5a4bd4bd177c981895c3ed",
            "value": 4
          }
        },
        "1883abe2b64d464daeab0793aff72c5e": {
          "model_module": "@jupyter-widgets/controls",
          "model_name": "HTMLModel",
          "model_module_version": "1.5.0",
          "state": {
            "_dom_classes": [],
            "_model_module": "@jupyter-widgets/controls",
            "_model_module_version": "1.5.0",
            "_model_name": "HTMLModel",
            "_view_count": null,
            "_view_module": "@jupyter-widgets/controls",
            "_view_module_version": "1.5.0",
            "_view_name": "HTMLView",
            "description": "",
            "description_tooltip": null,
            "layout": "IPY_MODEL_e28ec73eacd94fe5a9e50d94ac28700e",
            "placeholder": "​",
            "style": "IPY_MODEL_152e740d1f474c2e95f27d4a0a9ac41b",
            "value": " 4/4 [00:09&lt;00:00,  2.72s/it]"
          }
        },
        "2199ab2bc9a240e1af12b048cfd36d10": {
          "model_module": "@jupyter-widgets/base",
          "model_name": "LayoutModel",
          "model_module_version": "1.2.0",
          "state": {
            "_model_module": "@jupyter-widgets/base",
            "_model_module_version": "1.2.0",
            "_model_name": "LayoutModel",
            "_view_count": null,
            "_view_module": "@jupyter-widgets/base",
            "_view_module_version": "1.2.0",
            "_view_name": "LayoutView",
            "align_content": null,
            "align_items": null,
            "align_self": null,
            "border": null,
            "bottom": null,
            "display": null,
            "flex": null,
            "flex_flow": null,
            "grid_area": null,
            "grid_auto_columns": null,
            "grid_auto_flow": null,
            "grid_auto_rows": null,
            "grid_column": null,
            "grid_gap": null,
            "grid_row": null,
            "grid_template_areas": null,
            "grid_template_columns": null,
            "grid_template_rows": null,
            "height": null,
            "justify_content": null,
            "justify_items": null,
            "left": null,
            "margin": null,
            "max_height": null,
            "max_width": null,
            "min_height": null,
            "min_width": null,
            "object_fit": null,
            "object_position": null,
            "order": null,
            "overflow": null,
            "overflow_x": null,
            "overflow_y": null,
            "padding": null,
            "right": null,
            "top": null,
            "visibility": null,
            "width": null
          }
        },
        "0d4f0b7f3c014f63b57b5e04bb47db2d": {
          "model_module": "@jupyter-widgets/base",
          "model_name": "LayoutModel",
          "model_module_version": "1.2.0",
          "state": {
            "_model_module": "@jupyter-widgets/base",
            "_model_module_version": "1.2.0",
            "_model_name": "LayoutModel",
            "_view_count": null,
            "_view_module": "@jupyter-widgets/base",
            "_view_module_version": "1.2.0",
            "_view_name": "LayoutView",
            "align_content": null,
            "align_items": null,
            "align_self": null,
            "border": null,
            "bottom": null,
            "display": null,
            "flex": null,
            "flex_flow": null,
            "grid_area": null,
            "grid_auto_columns": null,
            "grid_auto_flow": null,
            "grid_auto_rows": null,
            "grid_column": null,
            "grid_gap": null,
            "grid_row": null,
            "grid_template_areas": null,
            "grid_template_columns": null,
            "grid_template_rows": null,
            "height": null,
            "justify_content": null,
            "justify_items": null,
            "left": null,
            "margin": null,
            "max_height": null,
            "max_width": null,
            "min_height": null,
            "min_width": null,
            "object_fit": null,
            "object_position": null,
            "order": null,
            "overflow": null,
            "overflow_x": null,
            "overflow_y": null,
            "padding": null,
            "right": null,
            "top": null,
            "visibility": null,
            "width": null
          }
        },
        "654ac38131e648fe859df410e4b3429a": {
          "model_module": "@jupyter-widgets/controls",
          "model_name": "DescriptionStyleModel",
          "model_module_version": "1.5.0",
          "state": {
            "_model_module": "@jupyter-widgets/controls",
            "_model_module_version": "1.5.0",
            "_model_name": "DescriptionStyleModel",
            "_view_count": null,
            "_view_module": "@jupyter-widgets/base",
            "_view_module_version": "1.2.0",
            "_view_name": "StyleView",
            "description_width": ""
          }
        },
        "128f5b598ff0469e893e7659a194c0af": {
          "model_module": "@jupyter-widgets/base",
          "model_name": "LayoutModel",
          "model_module_version": "1.2.0",
          "state": {
            "_model_module": "@jupyter-widgets/base",
            "_model_module_version": "1.2.0",
            "_model_name": "LayoutModel",
            "_view_count": null,
            "_view_module": "@jupyter-widgets/base",
            "_view_module_version": "1.2.0",
            "_view_name": "LayoutView",
            "align_content": null,
            "align_items": null,
            "align_self": null,
            "border": null,
            "bottom": null,
            "display": null,
            "flex": null,
            "flex_flow": null,
            "grid_area": null,
            "grid_auto_columns": null,
            "grid_auto_flow": null,
            "grid_auto_rows": null,
            "grid_column": null,
            "grid_gap": null,
            "grid_row": null,
            "grid_template_areas": null,
            "grid_template_columns": null,
            "grid_template_rows": null,
            "height": null,
            "justify_content": null,
            "justify_items": null,
            "left": null,
            "margin": null,
            "max_height": null,
            "max_width": null,
            "min_height": null,
            "min_width": null,
            "object_fit": null,
            "object_position": null,
            "order": null,
            "overflow": null,
            "overflow_x": null,
            "overflow_y": null,
            "padding": null,
            "right": null,
            "top": null,
            "visibility": null,
            "width": null
          }
        },
        "542bf716ee5a4bd4bd177c981895c3ed": {
          "model_module": "@jupyter-widgets/controls",
          "model_name": "ProgressStyleModel",
          "model_module_version": "1.5.0",
          "state": {
            "_model_module": "@jupyter-widgets/controls",
            "_model_module_version": "1.5.0",
            "_model_name": "ProgressStyleModel",
            "_view_count": null,
            "_view_module": "@jupyter-widgets/base",
            "_view_module_version": "1.2.0",
            "_view_name": "StyleView",
            "bar_color": null,
            "description_width": ""
          }
        },
        "e28ec73eacd94fe5a9e50d94ac28700e": {
          "model_module": "@jupyter-widgets/base",
          "model_name": "LayoutModel",
          "model_module_version": "1.2.0",
          "state": {
            "_model_module": "@jupyter-widgets/base",
            "_model_module_version": "1.2.0",
            "_model_name": "LayoutModel",
            "_view_count": null,
            "_view_module": "@jupyter-widgets/base",
            "_view_module_version": "1.2.0",
            "_view_name": "LayoutView",
            "align_content": null,
            "align_items": null,
            "align_self": null,
            "border": null,
            "bottom": null,
            "display": null,
            "flex": null,
            "flex_flow": null,
            "grid_area": null,
            "grid_auto_columns": null,
            "grid_auto_flow": null,
            "grid_auto_rows": null,
            "grid_column": null,
            "grid_gap": null,
            "grid_row": null,
            "grid_template_areas": null,
            "grid_template_columns": null,
            "grid_template_rows": null,
            "height": null,
            "justify_content": null,
            "justify_items": null,
            "left": null,
            "margin": null,
            "max_height": null,
            "max_width": null,
            "min_height": null,
            "min_width": null,
            "object_fit": null,
            "object_position": null,
            "order": null,
            "overflow": null,
            "overflow_x": null,
            "overflow_y": null,
            "padding": null,
            "right": null,
            "top": null,
            "visibility": null,
            "width": null
          }
        },
        "152e740d1f474c2e95f27d4a0a9ac41b": {
          "model_module": "@jupyter-widgets/controls",
          "model_name": "DescriptionStyleModel",
          "model_module_version": "1.5.0",
          "state": {
            "_model_module": "@jupyter-widgets/controls",
            "_model_module_version": "1.5.0",
            "_model_name": "DescriptionStyleModel",
            "_view_count": null,
            "_view_module": "@jupyter-widgets/base",
            "_view_module_version": "1.2.0",
            "_view_name": "StyleView",
            "description_width": ""
          }
        },
        "18c38d5068994d08969c74cebc5eed1c": {
          "model_module": "@jupyter-widgets/controls",
          "model_name": "HBoxModel",
          "model_module_version": "1.5.0",
          "state": {
            "_dom_classes": [],
            "_model_module": "@jupyter-widgets/controls",
            "_model_module_version": "1.5.0",
            "_model_name": "HBoxModel",
            "_view_count": null,
            "_view_module": "@jupyter-widgets/controls",
            "_view_module_version": "1.5.0",
            "_view_name": "HBoxView",
            "box_style": "",
            "children": [
              "IPY_MODEL_8bd12d2c551546219524eb216c6c4dd7",
              "IPY_MODEL_b5088adad810402ea4645fa82a97910f",
              "IPY_MODEL_661f818cff2a4306bdef0de736865491"
            ],
            "layout": "IPY_MODEL_3009c7336de2429284ed137571b84a04"
          }
        },
        "8bd12d2c551546219524eb216c6c4dd7": {
          "model_module": "@jupyter-widgets/controls",
          "model_name": "HTMLModel",
          "model_module_version": "1.5.0",
          "state": {
            "_dom_classes": [],
            "_model_module": "@jupyter-widgets/controls",
            "_model_module_version": "1.5.0",
            "_model_name": "HTMLModel",
            "_view_count": null,
            "_view_module": "@jupyter-widgets/controls",
            "_view_module_version": "1.5.0",
            "_view_name": "HTMLView",
            "description": "",
            "description_tooltip": null,
            "layout": "IPY_MODEL_32a01f13e8674bbfba6e3a0ca2833e68",
            "placeholder": "​",
            "style": "IPY_MODEL_6dae5b84deae4adfb18023003322c118",
            "value": "2022-02-12 Switzerland at ROC: 100%"
          }
        },
        "b5088adad810402ea4645fa82a97910f": {
          "model_module": "@jupyter-widgets/controls",
          "model_name": "FloatProgressModel",
          "model_module_version": "1.5.0",
          "state": {
            "_dom_classes": [],
            "_model_module": "@jupyter-widgets/controls",
            "_model_module_version": "1.5.0",
            "_model_name": "FloatProgressModel",
            "_view_count": null,
            "_view_module": "@jupyter-widgets/controls",
            "_view_module_version": "1.5.0",
            "_view_name": "ProgressView",
            "bar_style": "success",
            "description": "",
            "description_tooltip": null,
            "layout": "IPY_MODEL_2ca7262911e247c9bebc6288d41a9783",
            "max": 4,
            "min": 0,
            "orientation": "horizontal",
            "style": "IPY_MODEL_ab726c5cb2a4455ab35dc9ceb325aa8b",
            "value": 4
          }
        },
        "661f818cff2a4306bdef0de736865491": {
          "model_module": "@jupyter-widgets/controls",
          "model_name": "HTMLModel",
          "model_module_version": "1.5.0",
          "state": {
            "_dom_classes": [],
            "_model_module": "@jupyter-widgets/controls",
            "_model_module_version": "1.5.0",
            "_model_name": "HTMLModel",
            "_view_count": null,
            "_view_module": "@jupyter-widgets/controls",
            "_view_module_version": "1.5.0",
            "_view_name": "HTMLView",
            "description": "",
            "description_tooltip": null,
            "layout": "IPY_MODEL_5adaca75013b49cd91356822c8a088d3",
            "placeholder": "​",
            "style": "IPY_MODEL_c8a2534430e44cfc8b77c2c72e4c405e",
            "value": " 4/4 [00:14&lt;00:00,  3.68s/it]"
          }
        },
        "3009c7336de2429284ed137571b84a04": {
          "model_module": "@jupyter-widgets/base",
          "model_name": "LayoutModel",
          "model_module_version": "1.2.0",
          "state": {
            "_model_module": "@jupyter-widgets/base",
            "_model_module_version": "1.2.0",
            "_model_name": "LayoutModel",
            "_view_count": null,
            "_view_module": "@jupyter-widgets/base",
            "_view_module_version": "1.2.0",
            "_view_name": "LayoutView",
            "align_content": null,
            "align_items": null,
            "align_self": null,
            "border": null,
            "bottom": null,
            "display": null,
            "flex": null,
            "flex_flow": null,
            "grid_area": null,
            "grid_auto_columns": null,
            "grid_auto_flow": null,
            "grid_auto_rows": null,
            "grid_column": null,
            "grid_gap": null,
            "grid_row": null,
            "grid_template_areas": null,
            "grid_template_columns": null,
            "grid_template_rows": null,
            "height": null,
            "justify_content": null,
            "justify_items": null,
            "left": null,
            "margin": null,
            "max_height": null,
            "max_width": null,
            "min_height": null,
            "min_width": null,
            "object_fit": null,
            "object_position": null,
            "order": null,
            "overflow": null,
            "overflow_x": null,
            "overflow_y": null,
            "padding": null,
            "right": null,
            "top": null,
            "visibility": null,
            "width": null
          }
        },
        "32a01f13e8674bbfba6e3a0ca2833e68": {
          "model_module": "@jupyter-widgets/base",
          "model_name": "LayoutModel",
          "model_module_version": "1.2.0",
          "state": {
            "_model_module": "@jupyter-widgets/base",
            "_model_module_version": "1.2.0",
            "_model_name": "LayoutModel",
            "_view_count": null,
            "_view_module": "@jupyter-widgets/base",
            "_view_module_version": "1.2.0",
            "_view_name": "LayoutView",
            "align_content": null,
            "align_items": null,
            "align_self": null,
            "border": null,
            "bottom": null,
            "display": null,
            "flex": null,
            "flex_flow": null,
            "grid_area": null,
            "grid_auto_columns": null,
            "grid_auto_flow": null,
            "grid_auto_rows": null,
            "grid_column": null,
            "grid_gap": null,
            "grid_row": null,
            "grid_template_areas": null,
            "grid_template_columns": null,
            "grid_template_rows": null,
            "height": null,
            "justify_content": null,
            "justify_items": null,
            "left": null,
            "margin": null,
            "max_height": null,
            "max_width": null,
            "min_height": null,
            "min_width": null,
            "object_fit": null,
            "object_position": null,
            "order": null,
            "overflow": null,
            "overflow_x": null,
            "overflow_y": null,
            "padding": null,
            "right": null,
            "top": null,
            "visibility": null,
            "width": null
          }
        },
        "6dae5b84deae4adfb18023003322c118": {
          "model_module": "@jupyter-widgets/controls",
          "model_name": "DescriptionStyleModel",
          "model_module_version": "1.5.0",
          "state": {
            "_model_module": "@jupyter-widgets/controls",
            "_model_module_version": "1.5.0",
            "_model_name": "DescriptionStyleModel",
            "_view_count": null,
            "_view_module": "@jupyter-widgets/base",
            "_view_module_version": "1.2.0",
            "_view_name": "StyleView",
            "description_width": ""
          }
        },
        "2ca7262911e247c9bebc6288d41a9783": {
          "model_module": "@jupyter-widgets/base",
          "model_name": "LayoutModel",
          "model_module_version": "1.2.0",
          "state": {
            "_model_module": "@jupyter-widgets/base",
            "_model_module_version": "1.2.0",
            "_model_name": "LayoutModel",
            "_view_count": null,
            "_view_module": "@jupyter-widgets/base",
            "_view_module_version": "1.2.0",
            "_view_name": "LayoutView",
            "align_content": null,
            "align_items": null,
            "align_self": null,
            "border": null,
            "bottom": null,
            "display": null,
            "flex": null,
            "flex_flow": null,
            "grid_area": null,
            "grid_auto_columns": null,
            "grid_auto_flow": null,
            "grid_auto_rows": null,
            "grid_column": null,
            "grid_gap": null,
            "grid_row": null,
            "grid_template_areas": null,
            "grid_template_columns": null,
            "grid_template_rows": null,
            "height": null,
            "justify_content": null,
            "justify_items": null,
            "left": null,
            "margin": null,
            "max_height": null,
            "max_width": null,
            "min_height": null,
            "min_width": null,
            "object_fit": null,
            "object_position": null,
            "order": null,
            "overflow": null,
            "overflow_x": null,
            "overflow_y": null,
            "padding": null,
            "right": null,
            "top": null,
            "visibility": null,
            "width": null
          }
        },
        "ab726c5cb2a4455ab35dc9ceb325aa8b": {
          "model_module": "@jupyter-widgets/controls",
          "model_name": "ProgressStyleModel",
          "model_module_version": "1.5.0",
          "state": {
            "_model_module": "@jupyter-widgets/controls",
            "_model_module_version": "1.5.0",
            "_model_name": "ProgressStyleModel",
            "_view_count": null,
            "_view_module": "@jupyter-widgets/base",
            "_view_module_version": "1.2.0",
            "_view_name": "StyleView",
            "bar_color": null,
            "description_width": ""
          }
        },
        "5adaca75013b49cd91356822c8a088d3": {
          "model_module": "@jupyter-widgets/base",
          "model_name": "LayoutModel",
          "model_module_version": "1.2.0",
          "state": {
            "_model_module": "@jupyter-widgets/base",
            "_model_module_version": "1.2.0",
            "_model_name": "LayoutModel",
            "_view_count": null,
            "_view_module": "@jupyter-widgets/base",
            "_view_module_version": "1.2.0",
            "_view_name": "LayoutView",
            "align_content": null,
            "align_items": null,
            "align_self": null,
            "border": null,
            "bottom": null,
            "display": null,
            "flex": null,
            "flex_flow": null,
            "grid_area": null,
            "grid_auto_columns": null,
            "grid_auto_flow": null,
            "grid_auto_rows": null,
            "grid_column": null,
            "grid_gap": null,
            "grid_row": null,
            "grid_template_areas": null,
            "grid_template_columns": null,
            "grid_template_rows": null,
            "height": null,
            "justify_content": null,
            "justify_items": null,
            "left": null,
            "margin": null,
            "max_height": null,
            "max_width": null,
            "min_height": null,
            "min_width": null,
            "object_fit": null,
            "object_position": null,
            "order": null,
            "overflow": null,
            "overflow_x": null,
            "overflow_y": null,
            "padding": null,
            "right": null,
            "top": null,
            "visibility": null,
            "width": null
          }
        },
        "c8a2534430e44cfc8b77c2c72e4c405e": {
          "model_module": "@jupyter-widgets/controls",
          "model_name": "DescriptionStyleModel",
          "model_module_version": "1.5.0",
          "state": {
            "_model_module": "@jupyter-widgets/controls",
            "_model_module_version": "1.5.0",
            "_model_name": "DescriptionStyleModel",
            "_view_count": null,
            "_view_module": "@jupyter-widgets/base",
            "_view_module_version": "1.2.0",
            "_view_name": "StyleView",
            "description_width": ""
          }
        },
        "be41ca4e00cb489b87f70b66aa9961db": {
          "model_module": "@jupyter-widgets/controls",
          "model_name": "HBoxModel",
          "model_module_version": "1.5.0",
          "state": {
            "_dom_classes": [],
            "_model_module": "@jupyter-widgets/controls",
            "_model_module_version": "1.5.0",
            "_model_name": "HBoxModel",
            "_view_count": null,
            "_view_module": "@jupyter-widgets/controls",
            "_view_module_version": "1.5.0",
            "_view_name": "HBoxView",
            "box_style": "",
            "children": [
              "IPY_MODEL_d9767e0fdcde4def9aca60804291e2a9",
              "IPY_MODEL_76e46efaefe647b4b49d8a83690dc6da",
              "IPY_MODEL_2255dcfe9a0f4f75960ef09607d084e5"
            ],
            "layout": "IPY_MODEL_e151a5edb6824b99b807491f41ca3803"
          }
        },
        "d9767e0fdcde4def9aca60804291e2a9": {
          "model_module": "@jupyter-widgets/controls",
          "model_name": "HTMLModel",
          "model_module_version": "1.5.0",
          "state": {
            "_dom_classes": [],
            "_model_module": "@jupyter-widgets/controls",
            "_model_module_version": "1.5.0",
            "_model_name": "HTMLModel",
            "_view_count": null,
            "_view_module": "@jupyter-widgets/controls",
            "_view_module_version": "1.5.0",
            "_view_name": "HTMLView",
            "description": "",
            "description_tooltip": null,
            "layout": "IPY_MODEL_f465b0096b14437f9b702b606f89a831",
            "placeholder": "​",
            "style": "IPY_MODEL_4fb72d0105b547b2b34b7bdd944e799a",
            "value": "2022-02-14 Switzerland at Canada: 100%"
          }
        },
        "76e46efaefe647b4b49d8a83690dc6da": {
          "model_module": "@jupyter-widgets/controls",
          "model_name": "FloatProgressModel",
          "model_module_version": "1.5.0",
          "state": {
            "_dom_classes": [],
            "_model_module": "@jupyter-widgets/controls",
            "_model_module_version": "1.5.0",
            "_model_name": "FloatProgressModel",
            "_view_count": null,
            "_view_module": "@jupyter-widgets/controls",
            "_view_module_version": "1.5.0",
            "_view_name": "ProgressView",
            "bar_style": "success",
            "description": "",
            "description_tooltip": null,
            "layout": "IPY_MODEL_4041b2735f45424c969dbcff66b1bc40",
            "max": 4,
            "min": 0,
            "orientation": "horizontal",
            "style": "IPY_MODEL_58e3e0c42f60455fad0f8db76b69e6b6",
            "value": 4
          }
        },
        "2255dcfe9a0f4f75960ef09607d084e5": {
          "model_module": "@jupyter-widgets/controls",
          "model_name": "HTMLModel",
          "model_module_version": "1.5.0",
          "state": {
            "_dom_classes": [],
            "_model_module": "@jupyter-widgets/controls",
            "_model_module_version": "1.5.0",
            "_model_name": "HTMLModel",
            "_view_count": null,
            "_view_module": "@jupyter-widgets/controls",
            "_view_module_version": "1.5.0",
            "_view_name": "HTMLView",
            "description": "",
            "description_tooltip": null,
            "layout": "IPY_MODEL_9a04a1c7d80f410e8712c3a52efd8c80",
            "placeholder": "​",
            "style": "IPY_MODEL_7c6f3ed28c2f4078800aa2620800865e",
            "value": " 4/4 [00:12&lt;00:00,  3.44s/it]"
          }
        },
        "e151a5edb6824b99b807491f41ca3803": {
          "model_module": "@jupyter-widgets/base",
          "model_name": "LayoutModel",
          "model_module_version": "1.2.0",
          "state": {
            "_model_module": "@jupyter-widgets/base",
            "_model_module_version": "1.2.0",
            "_model_name": "LayoutModel",
            "_view_count": null,
            "_view_module": "@jupyter-widgets/base",
            "_view_module_version": "1.2.0",
            "_view_name": "LayoutView",
            "align_content": null,
            "align_items": null,
            "align_self": null,
            "border": null,
            "bottom": null,
            "display": null,
            "flex": null,
            "flex_flow": null,
            "grid_area": null,
            "grid_auto_columns": null,
            "grid_auto_flow": null,
            "grid_auto_rows": null,
            "grid_column": null,
            "grid_gap": null,
            "grid_row": null,
            "grid_template_areas": null,
            "grid_template_columns": null,
            "grid_template_rows": null,
            "height": null,
            "justify_content": null,
            "justify_items": null,
            "left": null,
            "margin": null,
            "max_height": null,
            "max_width": null,
            "min_height": null,
            "min_width": null,
            "object_fit": null,
            "object_position": null,
            "order": null,
            "overflow": null,
            "overflow_x": null,
            "overflow_y": null,
            "padding": null,
            "right": null,
            "top": null,
            "visibility": null,
            "width": null
          }
        },
        "f465b0096b14437f9b702b606f89a831": {
          "model_module": "@jupyter-widgets/base",
          "model_name": "LayoutModel",
          "model_module_version": "1.2.0",
          "state": {
            "_model_module": "@jupyter-widgets/base",
            "_model_module_version": "1.2.0",
            "_model_name": "LayoutModel",
            "_view_count": null,
            "_view_module": "@jupyter-widgets/base",
            "_view_module_version": "1.2.0",
            "_view_name": "LayoutView",
            "align_content": null,
            "align_items": null,
            "align_self": null,
            "border": null,
            "bottom": null,
            "display": null,
            "flex": null,
            "flex_flow": null,
            "grid_area": null,
            "grid_auto_columns": null,
            "grid_auto_flow": null,
            "grid_auto_rows": null,
            "grid_column": null,
            "grid_gap": null,
            "grid_row": null,
            "grid_template_areas": null,
            "grid_template_columns": null,
            "grid_template_rows": null,
            "height": null,
            "justify_content": null,
            "justify_items": null,
            "left": null,
            "margin": null,
            "max_height": null,
            "max_width": null,
            "min_height": null,
            "min_width": null,
            "object_fit": null,
            "object_position": null,
            "order": null,
            "overflow": null,
            "overflow_x": null,
            "overflow_y": null,
            "padding": null,
            "right": null,
            "top": null,
            "visibility": null,
            "width": null
          }
        },
        "4fb72d0105b547b2b34b7bdd944e799a": {
          "model_module": "@jupyter-widgets/controls",
          "model_name": "DescriptionStyleModel",
          "model_module_version": "1.5.0",
          "state": {
            "_model_module": "@jupyter-widgets/controls",
            "_model_module_version": "1.5.0",
            "_model_name": "DescriptionStyleModel",
            "_view_count": null,
            "_view_module": "@jupyter-widgets/base",
            "_view_module_version": "1.2.0",
            "_view_name": "StyleView",
            "description_width": ""
          }
        },
        "4041b2735f45424c969dbcff66b1bc40": {
          "model_module": "@jupyter-widgets/base",
          "model_name": "LayoutModel",
          "model_module_version": "1.2.0",
          "state": {
            "_model_module": "@jupyter-widgets/base",
            "_model_module_version": "1.2.0",
            "_model_name": "LayoutModel",
            "_view_count": null,
            "_view_module": "@jupyter-widgets/base",
            "_view_module_version": "1.2.0",
            "_view_name": "LayoutView",
            "align_content": null,
            "align_items": null,
            "align_self": null,
            "border": null,
            "bottom": null,
            "display": null,
            "flex": null,
            "flex_flow": null,
            "grid_area": null,
            "grid_auto_columns": null,
            "grid_auto_flow": null,
            "grid_auto_rows": null,
            "grid_column": null,
            "grid_gap": null,
            "grid_row": null,
            "grid_template_areas": null,
            "grid_template_columns": null,
            "grid_template_rows": null,
            "height": null,
            "justify_content": null,
            "justify_items": null,
            "left": null,
            "margin": null,
            "max_height": null,
            "max_width": null,
            "min_height": null,
            "min_width": null,
            "object_fit": null,
            "object_position": null,
            "order": null,
            "overflow": null,
            "overflow_x": null,
            "overflow_y": null,
            "padding": null,
            "right": null,
            "top": null,
            "visibility": null,
            "width": null
          }
        },
        "58e3e0c42f60455fad0f8db76b69e6b6": {
          "model_module": "@jupyter-widgets/controls",
          "model_name": "ProgressStyleModel",
          "model_module_version": "1.5.0",
          "state": {
            "_model_module": "@jupyter-widgets/controls",
            "_model_module_version": "1.5.0",
            "_model_name": "ProgressStyleModel",
            "_view_count": null,
            "_view_module": "@jupyter-widgets/base",
            "_view_module_version": "1.2.0",
            "_view_name": "StyleView",
            "bar_color": null,
            "description_width": ""
          }
        },
        "9a04a1c7d80f410e8712c3a52efd8c80": {
          "model_module": "@jupyter-widgets/base",
          "model_name": "LayoutModel",
          "model_module_version": "1.2.0",
          "state": {
            "_model_module": "@jupyter-widgets/base",
            "_model_module_version": "1.2.0",
            "_model_name": "LayoutModel",
            "_view_count": null,
            "_view_module": "@jupyter-widgets/base",
            "_view_module_version": "1.2.0",
            "_view_name": "LayoutView",
            "align_content": null,
            "align_items": null,
            "align_self": null,
            "border": null,
            "bottom": null,
            "display": null,
            "flex": null,
            "flex_flow": null,
            "grid_area": null,
            "grid_auto_columns": null,
            "grid_auto_flow": null,
            "grid_auto_rows": null,
            "grid_column": null,
            "grid_gap": null,
            "grid_row": null,
            "grid_template_areas": null,
            "grid_template_columns": null,
            "grid_template_rows": null,
            "height": null,
            "justify_content": null,
            "justify_items": null,
            "left": null,
            "margin": null,
            "max_height": null,
            "max_width": null,
            "min_height": null,
            "min_width": null,
            "object_fit": null,
            "object_position": null,
            "order": null,
            "overflow": null,
            "overflow_x": null,
            "overflow_y": null,
            "padding": null,
            "right": null,
            "top": null,
            "visibility": null,
            "width": null
          }
        },
        "7c6f3ed28c2f4078800aa2620800865e": {
          "model_module": "@jupyter-widgets/controls",
          "model_name": "DescriptionStyleModel",
          "model_module_version": "1.5.0",
          "state": {
            "_model_module": "@jupyter-widgets/controls",
            "_model_module_version": "1.5.0",
            "_model_name": "DescriptionStyleModel",
            "_view_count": null,
            "_view_module": "@jupyter-widgets/base",
            "_view_module_version": "1.2.0",
            "_view_name": "StyleView",
            "description_width": ""
          }
        },
        "17e2553dc0144b9d8bdad203df1cddaf": {
          "model_module": "@jupyter-widgets/controls",
          "model_name": "HBoxModel",
          "model_module_version": "1.5.0",
          "state": {
            "_dom_classes": [],
            "_model_module": "@jupyter-widgets/controls",
            "_model_module_version": "1.5.0",
            "_model_name": "HBoxModel",
            "_view_count": null,
            "_view_module": "@jupyter-widgets/controls",
            "_view_module_version": "1.5.0",
            "_view_name": "HBoxView",
            "box_style": "",
            "children": [
              "IPY_MODEL_59a00173eb4a428685733fba43ddb69d",
              "IPY_MODEL_024f5c3ed4c54f51a6f4dff966372684",
              "IPY_MODEL_74936df45625443aa761db1a0a5adb1c"
            ],
            "layout": "IPY_MODEL_63946afff9f042eaa6a6166e003fb8bb"
          }
        },
        "59a00173eb4a428685733fba43ddb69d": {
          "model_module": "@jupyter-widgets/controls",
          "model_name": "HTMLModel",
          "model_module_version": "1.5.0",
          "state": {
            "_dom_classes": [],
            "_model_module": "@jupyter-widgets/controls",
            "_model_module_version": "1.5.0",
            "_model_name": "HTMLModel",
            "_view_count": null,
            "_view_module": "@jupyter-widgets/controls",
            "_view_module_version": "1.5.0",
            "_view_name": "HTMLView",
            "description": "",
            "description_tooltip": null,
            "layout": "IPY_MODEL_c41bc59a7e744ca58eadd10f308085a5",
            "placeholder": "​",
            "style": "IPY_MODEL_7268e82ac1134892b29a40fca7218f6e",
            "value": "2022-02-14 USA at Finland: 100%"
          }
        },
        "024f5c3ed4c54f51a6f4dff966372684": {
          "model_module": "@jupyter-widgets/controls",
          "model_name": "FloatProgressModel",
          "model_module_version": "1.5.0",
          "state": {
            "_dom_classes": [],
            "_model_module": "@jupyter-widgets/controls",
            "_model_module_version": "1.5.0",
            "_model_name": "FloatProgressModel",
            "_view_count": null,
            "_view_module": "@jupyter-widgets/controls",
            "_view_module_version": "1.5.0",
            "_view_name": "ProgressView",
            "bar_style": "success",
            "description": "",
            "description_tooltip": null,
            "layout": "IPY_MODEL_86972e608d4f45ee95eacff42715254f",
            "max": 3,
            "min": 0,
            "orientation": "horizontal",
            "style": "IPY_MODEL_24a477a312c549c78e5449c66cc4c96e",
            "value": 3
          }
        },
        "74936df45625443aa761db1a0a5adb1c": {
          "model_module": "@jupyter-widgets/controls",
          "model_name": "HTMLModel",
          "model_module_version": "1.5.0",
          "state": {
            "_dom_classes": [],
            "_model_module": "@jupyter-widgets/controls",
            "_model_module_version": "1.5.0",
            "_model_name": "HTMLModel",
            "_view_count": null,
            "_view_module": "@jupyter-widgets/controls",
            "_view_module_version": "1.5.0",
            "_view_name": "HTMLView",
            "description": "",
            "description_tooltip": null,
            "layout": "IPY_MODEL_a43111b9f17a4e60b2dc68517f21f3af",
            "placeholder": "​",
            "style": "IPY_MODEL_272a054fed024f3abe5acfb60aba21db",
            "value": " 3/3 [00:04&lt;00:00,  1.53s/it]"
          }
        },
        "63946afff9f042eaa6a6166e003fb8bb": {
          "model_module": "@jupyter-widgets/base",
          "model_name": "LayoutModel",
          "model_module_version": "1.2.0",
          "state": {
            "_model_module": "@jupyter-widgets/base",
            "_model_module_version": "1.2.0",
            "_model_name": "LayoutModel",
            "_view_count": null,
            "_view_module": "@jupyter-widgets/base",
            "_view_module_version": "1.2.0",
            "_view_name": "LayoutView",
            "align_content": null,
            "align_items": null,
            "align_self": null,
            "border": null,
            "bottom": null,
            "display": null,
            "flex": null,
            "flex_flow": null,
            "grid_area": null,
            "grid_auto_columns": null,
            "grid_auto_flow": null,
            "grid_auto_rows": null,
            "grid_column": null,
            "grid_gap": null,
            "grid_row": null,
            "grid_template_areas": null,
            "grid_template_columns": null,
            "grid_template_rows": null,
            "height": null,
            "justify_content": null,
            "justify_items": null,
            "left": null,
            "margin": null,
            "max_height": null,
            "max_width": null,
            "min_height": null,
            "min_width": null,
            "object_fit": null,
            "object_position": null,
            "order": null,
            "overflow": null,
            "overflow_x": null,
            "overflow_y": null,
            "padding": null,
            "right": null,
            "top": null,
            "visibility": null,
            "width": null
          }
        },
        "c41bc59a7e744ca58eadd10f308085a5": {
          "model_module": "@jupyter-widgets/base",
          "model_name": "LayoutModel",
          "model_module_version": "1.2.0",
          "state": {
            "_model_module": "@jupyter-widgets/base",
            "_model_module_version": "1.2.0",
            "_model_name": "LayoutModel",
            "_view_count": null,
            "_view_module": "@jupyter-widgets/base",
            "_view_module_version": "1.2.0",
            "_view_name": "LayoutView",
            "align_content": null,
            "align_items": null,
            "align_self": null,
            "border": null,
            "bottom": null,
            "display": null,
            "flex": null,
            "flex_flow": null,
            "grid_area": null,
            "grid_auto_columns": null,
            "grid_auto_flow": null,
            "grid_auto_rows": null,
            "grid_column": null,
            "grid_gap": null,
            "grid_row": null,
            "grid_template_areas": null,
            "grid_template_columns": null,
            "grid_template_rows": null,
            "height": null,
            "justify_content": null,
            "justify_items": null,
            "left": null,
            "margin": null,
            "max_height": null,
            "max_width": null,
            "min_height": null,
            "min_width": null,
            "object_fit": null,
            "object_position": null,
            "order": null,
            "overflow": null,
            "overflow_x": null,
            "overflow_y": null,
            "padding": null,
            "right": null,
            "top": null,
            "visibility": null,
            "width": null
          }
        },
        "7268e82ac1134892b29a40fca7218f6e": {
          "model_module": "@jupyter-widgets/controls",
          "model_name": "DescriptionStyleModel",
          "model_module_version": "1.5.0",
          "state": {
            "_model_module": "@jupyter-widgets/controls",
            "_model_module_version": "1.5.0",
            "_model_name": "DescriptionStyleModel",
            "_view_count": null,
            "_view_module": "@jupyter-widgets/base",
            "_view_module_version": "1.2.0",
            "_view_name": "StyleView",
            "description_width": ""
          }
        },
        "86972e608d4f45ee95eacff42715254f": {
          "model_module": "@jupyter-widgets/base",
          "model_name": "LayoutModel",
          "model_module_version": "1.2.0",
          "state": {
            "_model_module": "@jupyter-widgets/base",
            "_model_module_version": "1.2.0",
            "_model_name": "LayoutModel",
            "_view_count": null,
            "_view_module": "@jupyter-widgets/base",
            "_view_module_version": "1.2.0",
            "_view_name": "LayoutView",
            "align_content": null,
            "align_items": null,
            "align_self": null,
            "border": null,
            "bottom": null,
            "display": null,
            "flex": null,
            "flex_flow": null,
            "grid_area": null,
            "grid_auto_columns": null,
            "grid_auto_flow": null,
            "grid_auto_rows": null,
            "grid_column": null,
            "grid_gap": null,
            "grid_row": null,
            "grid_template_areas": null,
            "grid_template_columns": null,
            "grid_template_rows": null,
            "height": null,
            "justify_content": null,
            "justify_items": null,
            "left": null,
            "margin": null,
            "max_height": null,
            "max_width": null,
            "min_height": null,
            "min_width": null,
            "object_fit": null,
            "object_position": null,
            "order": null,
            "overflow": null,
            "overflow_x": null,
            "overflow_y": null,
            "padding": null,
            "right": null,
            "top": null,
            "visibility": null,
            "width": null
          }
        },
        "24a477a312c549c78e5449c66cc4c96e": {
          "model_module": "@jupyter-widgets/controls",
          "model_name": "ProgressStyleModel",
          "model_module_version": "1.5.0",
          "state": {
            "_model_module": "@jupyter-widgets/controls",
            "_model_module_version": "1.5.0",
            "_model_name": "ProgressStyleModel",
            "_view_count": null,
            "_view_module": "@jupyter-widgets/base",
            "_view_module_version": "1.2.0",
            "_view_name": "StyleView",
            "bar_color": null,
            "description_width": ""
          }
        },
        "a43111b9f17a4e60b2dc68517f21f3af": {
          "model_module": "@jupyter-widgets/base",
          "model_name": "LayoutModel",
          "model_module_version": "1.2.0",
          "state": {
            "_model_module": "@jupyter-widgets/base",
            "_model_module_version": "1.2.0",
            "_model_name": "LayoutModel",
            "_view_count": null,
            "_view_module": "@jupyter-widgets/base",
            "_view_module_version": "1.2.0",
            "_view_name": "LayoutView",
            "align_content": null,
            "align_items": null,
            "align_self": null,
            "border": null,
            "bottom": null,
            "display": null,
            "flex": null,
            "flex_flow": null,
            "grid_area": null,
            "grid_auto_columns": null,
            "grid_auto_flow": null,
            "grid_auto_rows": null,
            "grid_column": null,
            "grid_gap": null,
            "grid_row": null,
            "grid_template_areas": null,
            "grid_template_columns": null,
            "grid_template_rows": null,
            "height": null,
            "justify_content": null,
            "justify_items": null,
            "left": null,
            "margin": null,
            "max_height": null,
            "max_width": null,
            "min_height": null,
            "min_width": null,
            "object_fit": null,
            "object_position": null,
            "order": null,
            "overflow": null,
            "overflow_x": null,
            "overflow_y": null,
            "padding": null,
            "right": null,
            "top": null,
            "visibility": null,
            "width": null
          }
        },
        "272a054fed024f3abe5acfb60aba21db": {
          "model_module": "@jupyter-widgets/controls",
          "model_name": "DescriptionStyleModel",
          "model_module_version": "1.5.0",
          "state": {
            "_model_module": "@jupyter-widgets/controls",
            "_model_module_version": "1.5.0",
            "_model_name": "DescriptionStyleModel",
            "_view_count": null,
            "_view_module": "@jupyter-widgets/base",
            "_view_module_version": "1.2.0",
            "_view_name": "StyleView",
            "description_width": ""
          }
        },
        "34bda4a6a38c4ccb9fadb4ce0819b964": {
          "model_module": "@jupyter-widgets/controls",
          "model_name": "HBoxModel",
          "model_module_version": "1.5.0",
          "state": {
            "_dom_classes": [],
            "_model_module": "@jupyter-widgets/controls",
            "_model_module_version": "1.5.0",
            "_model_name": "HBoxModel",
            "_view_count": null,
            "_view_module": "@jupyter-widgets/controls",
            "_view_module_version": "1.5.0",
            "_view_name": "HBoxView",
            "box_style": "",
            "children": [
              "IPY_MODEL_36ddd549a5b44f0199ce2cace620d225",
              "IPY_MODEL_c6e879526c3f4d7591cb995b6967f2bc",
              "IPY_MODEL_0cd0d3417021404184be9b76937e71e6"
            ],
            "layout": "IPY_MODEL_0ccdaee7bb1f44c790cf2011a793ede8"
          }
        },
        "36ddd549a5b44f0199ce2cace620d225": {
          "model_module": "@jupyter-widgets/controls",
          "model_name": "HTMLModel",
          "model_module_version": "1.5.0",
          "state": {
            "_dom_classes": [],
            "_model_module": "@jupyter-widgets/controls",
            "_model_module_version": "1.5.0",
            "_model_name": "HTMLModel",
            "_view_count": null,
            "_view_module": "@jupyter-widgets/controls",
            "_view_module_version": "1.5.0",
            "_view_name": "HTMLView",
            "description": "",
            "description_tooltip": null,
            "layout": "IPY_MODEL_6b3700305938409281d61b4d65ec18f7",
            "placeholder": "​",
            "style": "IPY_MODEL_29cdab8911a94a22a338f8927f5b23d9",
            "value": "2022-02-16 Switzerland at Finland: 100%"
          }
        },
        "c6e879526c3f4d7591cb995b6967f2bc": {
          "model_module": "@jupyter-widgets/controls",
          "model_name": "FloatProgressModel",
          "model_module_version": "1.5.0",
          "state": {
            "_dom_classes": [],
            "_model_module": "@jupyter-widgets/controls",
            "_model_module_version": "1.5.0",
            "_model_name": "FloatProgressModel",
            "_view_count": null,
            "_view_module": "@jupyter-widgets/controls",
            "_view_module_version": "1.5.0",
            "_view_name": "ProgressView",
            "bar_style": "success",
            "description": "",
            "description_tooltip": null,
            "layout": "IPY_MODEL_9ff3727e4d5047e09da1f68ea49977e9",
            "max": 8,
            "min": 0,
            "orientation": "horizontal",
            "style": "IPY_MODEL_3ffe8392510542ef86f582b022f03e66",
            "value": 8
          }
        },
        "0cd0d3417021404184be9b76937e71e6": {
          "model_module": "@jupyter-widgets/controls",
          "model_name": "HTMLModel",
          "model_module_version": "1.5.0",
          "state": {
            "_dom_classes": [],
            "_model_module": "@jupyter-widgets/controls",
            "_model_module_version": "1.5.0",
            "_model_name": "HTMLModel",
            "_view_count": null,
            "_view_module": "@jupyter-widgets/controls",
            "_view_module_version": "1.5.0",
            "_view_name": "HTMLView",
            "description": "",
            "description_tooltip": null,
            "layout": "IPY_MODEL_854745e8aa5149df9209d31e8e82e9cd",
            "placeholder": "​",
            "style": "IPY_MODEL_552605dfcf044b7681d0695a52d2b6ec",
            "value": " 8/8 [00:23&lt;00:00,  3.12s/it]"
          }
        },
        "0ccdaee7bb1f44c790cf2011a793ede8": {
          "model_module": "@jupyter-widgets/base",
          "model_name": "LayoutModel",
          "model_module_version": "1.2.0",
          "state": {
            "_model_module": "@jupyter-widgets/base",
            "_model_module_version": "1.2.0",
            "_model_name": "LayoutModel",
            "_view_count": null,
            "_view_module": "@jupyter-widgets/base",
            "_view_module_version": "1.2.0",
            "_view_name": "LayoutView",
            "align_content": null,
            "align_items": null,
            "align_self": null,
            "border": null,
            "bottom": null,
            "display": null,
            "flex": null,
            "flex_flow": null,
            "grid_area": null,
            "grid_auto_columns": null,
            "grid_auto_flow": null,
            "grid_auto_rows": null,
            "grid_column": null,
            "grid_gap": null,
            "grid_row": null,
            "grid_template_areas": null,
            "grid_template_columns": null,
            "grid_template_rows": null,
            "height": null,
            "justify_content": null,
            "justify_items": null,
            "left": null,
            "margin": null,
            "max_height": null,
            "max_width": null,
            "min_height": null,
            "min_width": null,
            "object_fit": null,
            "object_position": null,
            "order": null,
            "overflow": null,
            "overflow_x": null,
            "overflow_y": null,
            "padding": null,
            "right": null,
            "top": null,
            "visibility": null,
            "width": null
          }
        },
        "6b3700305938409281d61b4d65ec18f7": {
          "model_module": "@jupyter-widgets/base",
          "model_name": "LayoutModel",
          "model_module_version": "1.2.0",
          "state": {
            "_model_module": "@jupyter-widgets/base",
            "_model_module_version": "1.2.0",
            "_model_name": "LayoutModel",
            "_view_count": null,
            "_view_module": "@jupyter-widgets/base",
            "_view_module_version": "1.2.0",
            "_view_name": "LayoutView",
            "align_content": null,
            "align_items": null,
            "align_self": null,
            "border": null,
            "bottom": null,
            "display": null,
            "flex": null,
            "flex_flow": null,
            "grid_area": null,
            "grid_auto_columns": null,
            "grid_auto_flow": null,
            "grid_auto_rows": null,
            "grid_column": null,
            "grid_gap": null,
            "grid_row": null,
            "grid_template_areas": null,
            "grid_template_columns": null,
            "grid_template_rows": null,
            "height": null,
            "justify_content": null,
            "justify_items": null,
            "left": null,
            "margin": null,
            "max_height": null,
            "max_width": null,
            "min_height": null,
            "min_width": null,
            "object_fit": null,
            "object_position": null,
            "order": null,
            "overflow": null,
            "overflow_x": null,
            "overflow_y": null,
            "padding": null,
            "right": null,
            "top": null,
            "visibility": null,
            "width": null
          }
        },
        "29cdab8911a94a22a338f8927f5b23d9": {
          "model_module": "@jupyter-widgets/controls",
          "model_name": "DescriptionStyleModel",
          "model_module_version": "1.5.0",
          "state": {
            "_model_module": "@jupyter-widgets/controls",
            "_model_module_version": "1.5.0",
            "_model_name": "DescriptionStyleModel",
            "_view_count": null,
            "_view_module": "@jupyter-widgets/base",
            "_view_module_version": "1.2.0",
            "_view_name": "StyleView",
            "description_width": ""
          }
        },
        "9ff3727e4d5047e09da1f68ea49977e9": {
          "model_module": "@jupyter-widgets/base",
          "model_name": "LayoutModel",
          "model_module_version": "1.2.0",
          "state": {
            "_model_module": "@jupyter-widgets/base",
            "_model_module_version": "1.2.0",
            "_model_name": "LayoutModel",
            "_view_count": null,
            "_view_module": "@jupyter-widgets/base",
            "_view_module_version": "1.2.0",
            "_view_name": "LayoutView",
            "align_content": null,
            "align_items": null,
            "align_self": null,
            "border": null,
            "bottom": null,
            "display": null,
            "flex": null,
            "flex_flow": null,
            "grid_area": null,
            "grid_auto_columns": null,
            "grid_auto_flow": null,
            "grid_auto_rows": null,
            "grid_column": null,
            "grid_gap": null,
            "grid_row": null,
            "grid_template_areas": null,
            "grid_template_columns": null,
            "grid_template_rows": null,
            "height": null,
            "justify_content": null,
            "justify_items": null,
            "left": null,
            "margin": null,
            "max_height": null,
            "max_width": null,
            "min_height": null,
            "min_width": null,
            "object_fit": null,
            "object_position": null,
            "order": null,
            "overflow": null,
            "overflow_x": null,
            "overflow_y": null,
            "padding": null,
            "right": null,
            "top": null,
            "visibility": null,
            "width": null
          }
        },
        "3ffe8392510542ef86f582b022f03e66": {
          "model_module": "@jupyter-widgets/controls",
          "model_name": "ProgressStyleModel",
          "model_module_version": "1.5.0",
          "state": {
            "_model_module": "@jupyter-widgets/controls",
            "_model_module_version": "1.5.0",
            "_model_name": "ProgressStyleModel",
            "_view_count": null,
            "_view_module": "@jupyter-widgets/base",
            "_view_module_version": "1.2.0",
            "_view_name": "StyleView",
            "bar_color": null,
            "description_width": ""
          }
        },
        "854745e8aa5149df9209d31e8e82e9cd": {
          "model_module": "@jupyter-widgets/base",
          "model_name": "LayoutModel",
          "model_module_version": "1.2.0",
          "state": {
            "_model_module": "@jupyter-widgets/base",
            "_model_module_version": "1.2.0",
            "_model_name": "LayoutModel",
            "_view_count": null,
            "_view_module": "@jupyter-widgets/base",
            "_view_module_version": "1.2.0",
            "_view_name": "LayoutView",
            "align_content": null,
            "align_items": null,
            "align_self": null,
            "border": null,
            "bottom": null,
            "display": null,
            "flex": null,
            "flex_flow": null,
            "grid_area": null,
            "grid_auto_columns": null,
            "grid_auto_flow": null,
            "grid_auto_rows": null,
            "grid_column": null,
            "grid_gap": null,
            "grid_row": null,
            "grid_template_areas": null,
            "grid_template_columns": null,
            "grid_template_rows": null,
            "height": null,
            "justify_content": null,
            "justify_items": null,
            "left": null,
            "margin": null,
            "max_height": null,
            "max_width": null,
            "min_height": null,
            "min_width": null,
            "object_fit": null,
            "object_position": null,
            "order": null,
            "overflow": null,
            "overflow_x": null,
            "overflow_y": null,
            "padding": null,
            "right": null,
            "top": null,
            "visibility": null,
            "width": null
          }
        },
        "552605dfcf044b7681d0695a52d2b6ec": {
          "model_module": "@jupyter-widgets/controls",
          "model_name": "DescriptionStyleModel",
          "model_module_version": "1.5.0",
          "state": {
            "_model_module": "@jupyter-widgets/controls",
            "_model_module_version": "1.5.0",
            "_model_name": "DescriptionStyleModel",
            "_view_count": null,
            "_view_module": "@jupyter-widgets/base",
            "_view_module_version": "1.2.0",
            "_view_name": "StyleView",
            "description_width": ""
          }
        }
      }
    }
  },
  "cells": [
    {
      "cell_type": "markdown",
      "metadata": {
        "id": "view-in-github",
        "colab_type": "text"
      },
      "source": [
        "<a href=\"https://colab.research.google.com/github/VKarpick/powerplay/blob/main/powerplay_data_prep.ipynb\" target=\"_parent\"><img src=\"https://colab.research.google.com/assets/colab-badge.svg\" alt=\"Open In Colab\"/></a>"
      ]
    },
    {
      "cell_type": "code",
      "source": [
        "!pip install hockey-rink"
      ],
      "metadata": {
        "colab": {
          "base_uri": "https://localhost:8080/"
        },
        "id": "YC7TjvESWh-Q",
        "outputId": "98d3a0dc-6e2b-4171-c8ee-e48a7da5b2bc"
      },
      "execution_count": 1,
      "outputs": [
        {
          "output_type": "stream",
          "name": "stdout",
          "text": [
            "Collecting hockey-rink\n",
            "  Downloading hockey_rink-0.1.7.tar.gz (34 kB)\n",
            "Requirement already satisfied: matplotlib in /usr/local/lib/python3.7/dist-packages (from hockey-rink) (3.2.2)\n",
            "Requirement already satisfied: numpy in /usr/local/lib/python3.7/dist-packages (from hockey-rink) (1.21.6)\n",
            "Requirement already satisfied: scipy in /usr/local/lib/python3.7/dist-packages (from hockey-rink) (1.4.1)\n",
            "Requirement already satisfied: pyparsing!=2.0.4,!=2.1.2,!=2.1.6,>=2.0.1 in /usr/local/lib/python3.7/dist-packages (from matplotlib->hockey-rink) (3.0.8)\n",
            "Requirement already satisfied: cycler>=0.10 in /usr/local/lib/python3.7/dist-packages (from matplotlib->hockey-rink) (0.11.0)\n",
            "Requirement already satisfied: python-dateutil>=2.1 in /usr/local/lib/python3.7/dist-packages (from matplotlib->hockey-rink) (2.8.2)\n",
            "Requirement already satisfied: kiwisolver>=1.0.1 in /usr/local/lib/python3.7/dist-packages (from matplotlib->hockey-rink) (1.4.2)\n",
            "Requirement already satisfied: typing-extensions in /usr/local/lib/python3.7/dist-packages (from kiwisolver>=1.0.1->matplotlib->hockey-rink) (4.2.0)\n",
            "Requirement already satisfied: six>=1.5 in /usr/local/lib/python3.7/dist-packages (from python-dateutil>=2.1->matplotlib->hockey-rink) (1.15.0)\n",
            "Building wheels for collected packages: hockey-rink\n",
            "  Building wheel for hockey-rink (setup.py) ... \u001b[?25l\u001b[?25hdone\n",
            "  Created wheel for hockey-rink: filename=hockey_rink-0.1.7-py3-none-any.whl size=34876 sha256=43b11bcfcc98b3b9cbcf2aa488af5bb10766f6b64d92c37e6ec52e0788657615\n",
            "  Stored in directory: /root/.cache/pip/wheels/9b/9c/06/217d4c3a942284788e7fce440ef4e47a8d032cdceb372ff7ec\n",
            "Successfully built hockey-rink\n",
            "Installing collected packages: hockey-rink\n",
            "Successfully installed hockey-rink-0.1.7\n"
          ]
        }
      ]
    },
    {
      "cell_type": "code",
      "execution_count": 2,
      "metadata": {
        "id": "4TfgMZ_cZVhK"
      },
      "outputs": [],
      "source": [
        "import numpy as np\n",
        "import pandas as pd\n",
        "import matplotlib.pyplot as plt\n",
        "from hockey_rink import BDCRink, Net, Rink\n",
        "from scipy.spatial import Voronoi\n",
        "from shapely.geometry import Polygon\n",
        "from shapely.geometry.point import Point\n",
        "from tqdm.auto import tqdm"
      ]
    },
    {
      "cell_type": "code",
      "source": [
        "pbp = pd.read_csv(\"https://raw.githubusercontent.com/the-bucketless/bdc/main/data/pxp_womens_oly_2022_v2.csv\")\n",
        "pp_info = pd.read_csv(\"https://raw.githubusercontent.com/the-bucketless/bdc/main/data/pp_info.csv\")"
      ],
      "metadata": {
        "id": "9FOcGV-9ZWZv"
      },
      "execution_count": 3,
      "outputs": []
    },
    {
      "cell_type": "markdown",
      "source": [
        "# Data Prep"
      ],
      "metadata": {
        "id": "JM30lU6Gtk4o"
      }
    },
    {
      "cell_type": "markdown",
      "source": [
        "Some needed shapes to manipulate the data. Grabbing a couple features from the hockey_rink package to simplify creating their Polygons with shapely. All coordinates will be shifted to the right side of the rink (x-coordinates from 100 to 200) so that only one of each Polygon is needed."
      ],
      "metadata": {
        "id": "our1Apoetwro"
      }
    },
    {
      "cell_type": "code",
      "source": [
        "def feature_to_polygon(feature):\n",
        "    \"\"\" Convert a feature from the rink package to a shapley Polygon. \"\"\"\n",
        "    x, y = feature.get_polygon_xy()\n",
        "    coords = zip(x + 100, y + 42.5)\n",
        "    return Polygon(coords)\n",
        "\n",
        "\n",
        "rink = Rink()\n",
        "\n",
        "net = [feature for feature in rink._features if isinstance(feature, Net)][0]\n",
        "NET_POLYGON = feature_to_polygon(net)\n",
        "\n",
        "boards = rink._boards_constraint\n",
        "BOARDS_POLYGON = feature_to_polygon(boards)\n",
        "OZONE_POLYGON = Polygon(zip([125, 200, 200, 125], [0, 0, 85, 85]))\n",
        "\n",
        "OZONE_BOARDS = BOARDS_POLYGON.intersection(OZONE_POLYGON)\n",
        "\n",
        "ABOVE_GOAL_LINE = Polygon(zip([125, 189, 189, 125], [0, 0, 85, 85]))\n",
        "\n",
        "# some coordinates much larger than the size of the rink used to bound\n",
        "# voronoi shapes within the rink\n",
        "BOUNDING_COORDS = [[-500, -500], [-500, 500], [500, -500], [500, 500]]\n",
        "\n",
        "# where to place the goalie when no goalie is seen in frame\n",
        "# well outside the rink to avoid affecting the voronoi shapes\n",
        "# easier than including conditionals ensuring that the goalie is present\n",
        "MISSING_GOALIE_COORD = (-100, -100)\n",
        "\n",
        "# the radius of the circle around the goalie representing their outer bounds\n",
        "GOALIE_RADIUS = 4\n",
        "\n",
        "# the remainder of the goalie's bounds determined by the crease less the arc\n",
        "RECTANGULAR_CREASE = Polygon(zip([189, 189, 183, 183], [38.5, 46.5, 46.5, 38.5]))\n",
        "\n",
        "# previously determined dangerous area of the ice\n",
        "DANGER_ZONE = Polygon(zip([189, 174, 174, 189], [50.5, 50.5, 34.5, 34.5]))"
      ],
      "metadata": {
        "id": "df6MOoYJZkyb"
      },
      "execution_count": 4,
      "outputs": []
    },
    {
      "cell_type": "markdown",
      "source": [
        "## Play-by-play"
      ],
      "metadata": {
        "id": "ufvYMMbevoq2"
      }
    },
    {
      "cell_type": "code",
      "source": [
        "def convert_game_time(period, seconds):\n",
        "    \"\"\" Convert time from seconds remaining in period to seconds elapsed in game. \"\"\"\n",
        "    return 1200 * period - seconds\n",
        "\n",
        "\n",
        "for prefix in (\"start\", \"end\"):\n",
        "    pp_info[f\"{prefix}_game_clock_seconds\"] = convert_game_time(\n",
        "        pp_info[f\"{prefix}_period\"], \n",
        "        pp_info[f\"{prefix}_game_clock_seconds\"]\n",
        "    )\n",
        "\n",
        "pbp[\"pbp_game_seconds\"] = convert_game_time(pbp.period, pbp.clock_seconds)\n",
        "\n",
        "# don't think there'll have need of the season\n",
        "pbp = pbp.drop(columns=[\"season_year\"])\n",
        "\n",
        "# different naming in the tracking data and the play-by-play data, use tracking\n",
        "team_names = {\n",
        "    \"Olympic (Women) - Canada\": \"Canada\",\n",
        "    \"Olympic (Women) - Finland\": \"Finland\",\n",
        "    \"Olympic (Women) - Olympic Athletes from Russia\": \"ROC\",\n",
        "    \"Olympic (Women) - Switzerland\": \"Switzerland\",\n",
        "    \"Olympic (Women) - United States\": \"USA\",\n",
        "}\n",
        "for c in (\"team_name\", \"opp_team_name\"):\n",
        "    pbp[c] = pbp[c].map(team_names)\n",
        "\n",
        "# strength state for zone entries is that of the defending team\n",
        "# reverse the order of words in the string to make it the attacking team's strength\n",
        "is_zone_entry = pbp.event == \"Zone Entry\"\n",
        "pbp.loc[is_zone_entry, \"situation_type\"] = pbp.situation_type.str.split().apply(lambda x: \" \".join(x[::-1]))"
      ],
      "metadata": {
        "id": "Ja3cPnCXZZ_x"
      },
      "execution_count": 5,
      "outputs": []
    },
    {
      "cell_type": "markdown",
      "source": [
        "Split passes with times into two events: one for the pass and one for when it's received.  \n",
        "Successful passes are the only events with two frame IDs."
      ],
      "metadata": {
        "id": "ctupTxm-y1eZ"
      }
    },
    {
      "cell_type": "code",
      "source": [
        "pbp[\"has_reception\"] = ~pbp.frame_id_2.isna()\n",
        "\n",
        "plays = pbp.loc[pbp.has_reception, :].copy()\n",
        "plays[\"event\"] = \"Reception\"\n",
        "plays.frame_id_1 = plays.frame_id_2\n",
        "plays[\"has_reception\"] = False\n",
        "\n",
        "pbp = (\n",
        "    pbp\n",
        "    .append(plays)\n",
        "    .sort_index(kind=\"stable\")\n",
        "    .drop(columns=\"frame_id_2\")\n",
        "    .rename(columns={\n",
        "        # since there are no longer two frame IDs to deal with, drop the suffix\n",
        "        \"frame_id_1\": \"frame_id\", \n",
        "        # period also included in tracking data\n",
        "        \"period\": \"pbp_period\", \n",
        "    })\n",
        "    .reset_index(drop=True)\n",
        ")"
      ],
      "metadata": {
        "id": "AZvN-iXxZcx1"
      },
      "execution_count": 6,
      "outputs": []
    },
    {
      "cell_type": "markdown",
      "source": [
        "Using the event data to track which player has possession. Occasionally, players will lose possession without an event being recorded, but this should work well enough."
      ],
      "metadata": {
        "id": "0iyIeeMkzgrn"
      }
    },
    {
      "cell_type": "code",
      "source": [
        "# events that denote possession subsequent to event\n",
        "has_possession = (\n",
        "    pbp.event.isin([\"Puck Recovery\", \"Takeaway\"])\n",
        "    | ((pbp.event == \"Zone Entry\") & (pbp.event_type != \"Dumped\"))\n",
        ")\n",
        "\n",
        "pbp.loc[has_possession, \"possession\"] = pbp.player_name\n",
        "pbp.possession = pbp.possession.fillna(\"loose\")\n",
        "\n",
        "# need the second player on pass receptions\n",
        "# don't want second player on pass receptions until they've received the puck but\n",
        "# plays exist that aren't in the tracking data which won't have receptions but still need to be tracked\n",
        "plays = (\n",
        "    (pbp.event == \"Reception\")\n",
        "    | (~pbp.has_reception & (pbp.event == \"Play\") & (pbp.event_successful == \"t\"))\n",
        ")\n",
        "pbp.possession = pbp.possession.where(~plays, pbp.player_name_2)\n",
        "\n",
        "# events that denote the player has the puck in a given frame but not after\n",
        "pbp.loc[pbp.event.isin([\"Shot\", \"Dump In/Out\", \"Play\"]), \"momentary_possession\"] = pbp.player_name"
      ],
      "metadata": {
        "id": "gxpOI2VUZfsi"
      },
      "execution_count": 7,
      "outputs": []
    },
    {
      "cell_type": "markdown",
      "source": [
        "## Roster"
      ],
      "metadata": {
        "id": "eKA3_d_ez72s"
      }
    },
    {
      "cell_type": "code",
      "source": [
        "def get_roster(repo_game):\n",
        "    roster = pd.read_csv(\n",
        "        \"https://github.com/the-bucketless/bdc/raw/main/data/\"\n",
        "        f\"{repo_game}/\"\n",
        "        f\"{repo_game}%20roster.csv\"\n",
        "    )\n",
        "    \n",
        "    # rename columns for consistency with tracking data\n",
        "    roster = roster.rename(columns={\"jn\": \"jersey_number\", \"team\": \"venue\"})\n",
        "\n",
        "    return roster"
      ],
      "metadata": {
        "id": "2ghOyHsbUPUk"
      },
      "execution_count": 8,
      "outputs": []
    },
    {
      "cell_type": "markdown",
      "source": [
        "## Tracking Data"
      ],
      "metadata": {
        "id": "K-afpdqo0G63"
      }
    },
    {
      "cell_type": "code",
      "source": [
        "def get_tracking(repo_game, period, pp_number, away_team, home_team, roster=None):\n",
        "    if roster is None:\n",
        "        roster = get_roster(repo_game)\n",
        "\n",
        "    tracking = pd.read_csv(\n",
        "        \"https://github.com/the-bucketless/bdc/raw/main/data/\"\n",
        "        f\"{repo_game}/\"\n",
        "        f\"{repo_game}%20P{period}%20PP{pp_number}.csv\"\n",
        "    )\n",
        "\n",
        "    tracking[\"game_seconds\"] = convert_game_time(tracking.period, tracking.game_seconds)\n",
        "    tracking[\"venue\"] = tracking.team_name.map({home_team: \"home\", away_team: \"away\"})\n",
        "\n",
        "    tracking = tracking.merge(roster, on=[\"venue\", \"jersey_number\"], how=\"left\")\n",
        "\n",
        "    tracking = tracking.rename(columns={\"x_ft\": \"x\", \"y_ft\": \"y\"})\n",
        "\n",
        "    return tracking"
      ],
      "metadata": {
        "id": "HZ3sazd9R5Y0"
      },
      "execution_count": 9,
      "outputs": []
    },
    {
      "cell_type": "markdown",
      "source": [
        "## Play-by-Play from Individual Powerplay"
      ],
      "metadata": {
        "id": "v1waru4c1ocv"
      }
    },
    {
      "cell_type": "code",
      "source": [
        "def get_powerplay(pbp, tracking, game_date, away_team, home_team):\n",
        "    # use pp_info to find the relevant section of the play-by-play\n",
        "    selected_pp = pp_info[(pp_info.game_name == game_name) & (pp_info.penalty_number == pp_number)].iloc[0]\n",
        "    selected_teams = [home_team, away_team]\n",
        "\n",
        "    # dates are listed in different formats in the two files\n",
        "    # convert from yyyy-mm-dd with leading zeros to d/m/yyyy without\n",
        "    pbp_date = \"/\".join([str(int(x)) for x in game_date.split(\"-\")[::-1]])\n",
        "\n",
        "    powerplay = (\n",
        "        pbp[\n",
        "            (pbp.game_date == pbp_date)\n",
        "            & (pbp.pbp_game_seconds >= selected_pp.start_game_clock_seconds)\n",
        "            & (pbp.pbp_game_seconds <= selected_pp.end_game_clock_seconds)\n",
        "            & (pbp.team_name.isin(selected_teams))\n",
        "            & (pbp.opp_team_name.isin(selected_teams))\n",
        "            # remove edge events outside the powerplay\n",
        "            & pbp.situation_type.isin([\"5 on 4\", \"4 on 5\"])\n",
        "            ]\n",
        "        .copy()\n",
        "    )\n",
        "\n",
        "    # add video shot to play-by-play data to provide frame_id for events without\n",
        "    powerplay = powerplay.merge(\n",
        "        tracking[[\"frame_id\", \"video_shot\", \"game_seconds\"]].drop_duplicates(), \n",
        "        on=\"frame_id\", \n",
        "        how=\"left\"\n",
        "    )\n",
        "    powerplay.video_shot = powerplay.video_shot.bfill()\n",
        "\n",
        "    # for frames not in the tracking data, use the time from the play-by-play\n",
        "    powerplay.game_seconds = powerplay.game_seconds.fillna(powerplay.pbp_game_seconds)\n",
        "\n",
        "    # for events without frame_id in the pbp, use one less than the mininum of the subsequent video shot\n",
        "    # ie) if the next frame_id found comes from video shot 2, find the smallest frame_id from\n",
        "    # video shot 2 and use one less. This will place the frame_id between video shot 1 and video shot 2\n",
        "    min_frames = (\n",
        "        (\n",
        "            tracking\n",
        "            .groupby(\"video_shot\")\n",
        "            [\"frame_id\"]\n",
        "            .min()\n",
        "            - 1\n",
        "            )\n",
        "        .to_dict()\n",
        "    )\n",
        "\n",
        "    # use 1 less than the minimum frame_id of the video shot for events without frame_id\n",
        "    powerplay.frame_id = powerplay.frame_id.fillna(powerplay.video_shot.map(min_frames))\n",
        "\n",
        "    # track whether or not a player's first in-zone possession is off a zone entry\n",
        "    powerplay[\"is_zone_entry\"] = powerplay.event == \"Zone Entry\"\n",
        "\n",
        "    # whether or not the puck is in the ozone of the team with the advantage\n",
        "    is_pp = powerplay.situation_type == \"5 on 4\"\n",
        "    powerplay.loc[is_pp & powerplay.is_zone_entry, \"is_pp_ozone\"] = True\n",
        "    powerplay.loc[is_pp & (powerplay.x_coord > 124), \"is_pp_ozone\"] = True\n",
        "    powerplay.loc[~is_pp & (powerplay.x_coord < 26), \"is_pp_ozone\"] = True\n",
        "    powerplay.is_pp_ozone = powerplay.is_pp_ozone.fillna(False)\n",
        "\n",
        "    return powerplay"
      ],
      "metadata": {
        "id": "QsgQhWprS0gu"
      },
      "execution_count": 10,
      "outputs": []
    },
    {
      "cell_type": "markdown",
      "source": [
        "## Possession Data"
      ],
      "metadata": {
        "id": "4U8izqJ22abw"
      }
    },
    {
      "cell_type": "markdown",
      "source": [
        "Combine tracking data with powerplay play-by-play to find the location of the player with possession."
      ],
      "metadata": {
        "id": "vuI6w9Nn2c2u"
      }
    },
    {
      "cell_type": "code",
      "source": [
        "def get_possession(tracking, powerplay):\n",
        "    merge_columns = [\n",
        "        \"frame_id\", \"possession\", \"momentary_possession\", \"event\", \"is_zone_entry\", \"is_pp_ozone\",\n",
        "    ]\n",
        "    \n",
        "    possession = tracking.merge(\n",
        "        powerplay[merge_columns], \n",
        "        on=\"frame_id\", \n",
        "        how=\"outer\", \n",
        "    )\n",
        "    possession = possession.sort_values(\"frame_id\", kind=\"stable\")\n",
        "\n",
        "    # zone entries will already have True values\n",
        "    possession.is_zone_entry = possession.is_zone_entry.fillna(False)\n",
        "\n",
        "    # ffill could potentially miss situations where player takes puck from inside zone to outside\n",
        "    # no such issue was found when inspecting data\n",
        "    possession.is_pp_ozone = possession.is_pp_ozone.ffill()\n",
        "\n",
        "    # replace values where players only had possession for a single frame\n",
        "    # these were previously ignored to avoid incorrectly ffilling them\n",
        "    possession.possession = possession.possession.ffill()\n",
        "    possession.possession = possession.momentary_possession.fillna(possession.possession)\n",
        "\n",
        "    # how and when possession was acquired by the player; default is Retained\n",
        "    is_acquired = possession.event.isin([\"Puck Recovery\", \"Zone Entry\", \"Reception\", \"Takeaway\"])\n",
        "    possession.loc[is_acquired, \"acquisition\"] = possession.event\n",
        "    possession.acquisition = possession.acquisition.fillna(\"Retained\")\n",
        "\n",
        "    # combine takeaways and puck recoveries into same category\n",
        "    possession.acquisition = possession.acquisition.replace({\"Takeaway\": \"Puck Recovery\"})\n",
        "\n",
        "    possession_columns = [\n",
        "        \"frame_id\", \"possession\", \"team_name\", \"x\", \"y\", \"acquisition\", \"is_zone_entry\", \"is_pp_ozone\",\n",
        "    ]\n",
        "    possession = (\n",
        "        possession\n",
        "        # remove frames without tracking data\n",
        "        .dropna(subset=[\"track_id\"])\n",
        "\n",
        "        # only keep the row of the player with possession to get their coordinates\n",
        "        # also needs frames where the puck is loose\n",
        "        .loc[\n",
        "            possession.possession == possession.player,\n",
        "            possession_columns\n",
        "        ]\n",
        "\n",
        "        # remove extra rows for frame_id when puck is loose\n",
        "        # or when player acquires the puck and makes a play in the same frame\n",
        "        .drop_duplicates([\"frame_id\", \"possession\"])\n",
        "    )\n",
        "\n",
        "    # whether or not team with possession is on the powerplay\n",
        "    first_row = powerplay.iloc[0]\n",
        "    pp_team = (\n",
        "        first_row.team_name \n",
        "        if first_row.situation_type == \"5 on 4\" \n",
        "        else first_row.opp_team_name\n",
        "    )\n",
        "    possession[\"is_pp\"] = possession.team_name == pp_team\n",
        "\n",
        "    return possession"
      ],
      "metadata": {
        "id": "kMOneC7ZWRR0"
      },
      "execution_count": 11,
      "outputs": []
    },
    {
      "cell_type": "markdown",
      "source": [
        "## Coordinate Data"
      ],
      "metadata": {
        "id": "aI4pIf0K3Zol"
      }
    },
    {
      "cell_type": "markdown",
      "source": [
        "Data used to compute the Voronoi diagrams. This will focus exclusively on situations in which the powerplay has possession in the offensive zone. Combines x and y coordinates into a single column of tuples. There will be one column for the player with possession, one for the goaltender, and one that will be a tuple of tuples containing the coordinates of every opposing skater (ie every non-goalie on the PK)."
      ],
      "metadata": {
        "id": "BfZgcJx13rP7"
      }
    },
    {
      "cell_type": "code",
      "source": [
        "def get_coords(tracking, possession):\n",
        "    # only interested in frames where a team at 5v4 has possession in the ozone\n",
        "    is_ozone_pp = (\n",
        "        (possession.possession != \"loose\") \n",
        "        & possession.is_pp\n",
        "        & possession.is_pp_ozone\n",
        "    )\n",
        "    possession = possession.copy().loc[is_ozone_pp]\n",
        "    possession[\"possession_coord\"] = tuple(zip(possession.x, possession.y))\n",
        "\n",
        "    tracking = tracking.merge(\n",
        "        possession[[\"frame_id\", \"team_name\", \"is_zone_entry\"]], \n",
        "        on=\"frame_id\", \n",
        "        suffixes=[None, \"_possession\"]\n",
        "    )\n",
        "\n",
        "    tracking = tracking.loc[tracking.team_name != tracking.team_name_possession]\n",
        "    tracking[\"coord\"] = tuple(zip(tracking.x, tracking.y))\n",
        "\n",
        "    goalies = (\n",
        "        tracking.loc[\n",
        "            tracking.position == \"Goalie\", \n",
        "            [\"frame_id\", \"coord\"]\n",
        "        ]\n",
        "        .rename(columns={\"coord\": \"goalie_coord\"})\n",
        "    )\n",
        "\n",
        "    skaters = (\n",
        "        tracking.loc[tracking.position != \"Goalie\", [\"frame_id\", \"coord\"]]\n",
        "        .groupby(\"frame_id\", as_index=False)\n",
        "        .agg(opponent_coords=(\"coord\", tuple))\n",
        "    )\n",
        "\n",
        "    possession_columns = [\n",
        "        \"frame_id\", \"x\", \"y\", \"possession_coord\", \"team_name\", \"acquisition\", \"is_zone_entry\",\n",
        "    ]\n",
        "    coords_df = (\n",
        "        skaters\n",
        "        .merge(goalies, on=\"frame_id\", how=\"left\")\n",
        "        .merge(possession[possession_columns], on=\"frame_id\", how=\"left\")\n",
        "    )\n",
        "\n",
        "    return coords_df"
      ],
      "metadata": {
        "id": "czwn7vpvZvU8"
      },
      "execution_count": 12,
      "outputs": []
    },
    {
      "cell_type": "markdown",
      "source": [
        "## One-sided Arguments"
      ],
      "metadata": {
        "id": "qcMk8J5X427q"
      }
    },
    {
      "cell_type": "markdown",
      "source": [
        "Moving all coordinates to the same side of the ice. Also moves players out of the net if they happen to be listed inside it. And records coordinates for missing goalies well outside the region of interest. This prevents them from influencing the Voronoi diagrams while simplifying the logic in other functions."
      ],
      "metadata": {
        "id": "dyhnE5gi45z2"
      }
    },
    {
      "cell_type": "code",
      "source": [
        "def far_side_x(coord):\n",
        "    if pd.isna(coord) or coord != coord or coord[0] > 100:\n",
        "        return coord\n",
        "    return 200 - coord[0], 85 - coord[1]\n",
        "\n",
        "\n",
        "def validate_possession_coord(possession_coord):\n",
        "    # if skater's coordinate is inside net, move behind net\n",
        "    if NET_POLYGON.contains(Point(possession_coord)):\n",
        "        possession_coord = (193, possession_coord[1])\n",
        "\n",
        "    return possession_coord\n",
        "\n",
        "\n",
        "def validate_goalie_coord(goalie_coord):\n",
        "    # if goalie's coordinate is inside net, move to goal line\n",
        "    if pd.isna(goalie_coord) or goalie_coord != goalie_coord:\n",
        "        # replace missing goalies with coordinate out of the way to avoid influence on voronoi\n",
        "        goalie_coord = MISSING_GOALIE_COORD\n",
        "    elif NET_POLYGON.contains(Point(goalie_coord)):\n",
        "        goalie_coord = (189, goalie_coord[1])\n",
        "\n",
        "    return goalie_coord\n",
        "\n",
        "\n",
        "def get_row_coords(row):\n",
        "    possession_coord = row.possession_coord\n",
        "    opponent_coords = row.opponent_coords\n",
        "    goalie_coord = row.goalie_coord\n",
        "\n",
        "    if possession_coord[0] < 100:\n",
        "        possession_coord = far_side_x(possession_coord)\n",
        "        opponent_coords = tuple(far_side_x(coord) for coord in opponent_coords)\n",
        "        goalie_coord = far_side_x(goalie_coord)\n",
        "\n",
        "    return (\n",
        "        validate_possession_coord(possession_coord),\n",
        "        opponent_coords,\n",
        "        validate_goalie_coord(goalie_coord)\n",
        "    )"
      ],
      "metadata": {
        "id": "YwXb34QoaThl"
      },
      "execution_count": 13,
      "outputs": []
    },
    {
      "cell_type": "markdown",
      "source": [
        "## Voronoi"
      ],
      "metadata": {
        "id": "i2HQdU_e66ID"
      }
    },
    {
      "cell_type": "markdown",
      "source": [
        "The basic Voronoi diagrams when viewed on the rink will look something like this:  \n",
        "![Voronoi diagram constrained to rink](https://github.com/VKarpick/powerplay/blob/main/images/constrained_voronoi.png?raw=true)"
      ],
      "metadata": {
        "id": "y9JW3CkUFmBt"
      }
    },
    {
      "cell_type": "markdown",
      "source": [
        "But the actual diagram is much larger. The polygons within the rink are guaranteed to be bounded thanks to the coordinates well outside the rink forming an outer boundary.  \n",
        "![Voronoi diagram not constrained to rink](https://github.com/VKarpick/powerplay/blob/main/images/unconstrained_voronoi.png?raw=true)"
      ],
      "metadata": {
        "id": "UZMafRSpGqey"
      }
    },
    {
      "cell_type": "markdown",
      "source": [
        "To cut these down to sizes that will actually work with the rink, the shapes associated with each player are intersected with the offensive section of the rink.  \n",
        "![Intersection of Voronoi diagram and offensive zone](https://github.com/VKarpick/powerplay/blob/main/images/ozone_voronoi.png?raw=true)"
      ],
      "metadata": {
        "id": "rQSt66VhGtOV"
      }
    },
    {
      "cell_type": "markdown",
      "source": [
        "In order to get the rather odd shape of the goalie's region, two diagrams are found for each frame: one that doesn't include the goalie and one that does.  \n",
        "![Voronoi diagrams without and with the goalie](https://github.com/VKarpick/powerplay/blob/main/images/wowy_voronoi.png?raw=true)"
      ],
      "metadata": {
        "id": "WcM2TCmCJe43"
      }
    },
    {
      "cell_type": "markdown",
      "source": [
        "The goalie's section of the Voronoi diagram is intersected with a region deemed to be suitable for a goalie. This region is given by a radius around the goalie's location combined with the majority of their crease and any ice required to connect the two sections. Additionally, the region is restricted to be above the goal line.  \n",
        "![Intersection of goalie's section of Voronoi diagram and allowable goalie region](https://github.com/VKarpick/powerplay/blob/main/images/goalie_region.png?raw=true)"
      ],
      "metadata": {
        "id": "zENdGz49Nr_3"
      }
    },
    {
      "cell_type": "markdown",
      "source": [
        "Finally, the goalie section is glued into the Voronoi diagram taken without them. This section is cut out of each player's area to give the polygons to be used.  \n",
        "![Goalie region combined with Voronoi diagram](https://github.com/VKarpick/powerplay/blob/main/images/final_voronoi.png?raw=true)"
      ],
      "metadata": {
        "id": "p9ckbvSsQR5F"
      }
    },
    {
      "cell_type": "code",
      "source": [
        "def get_voronoi_polygons(player_coords):\n",
        "    # include coordinates well outside the rink so that all the shapes for\n",
        "    # the players are closed polygons\n",
        "    voronoi = Voronoi([*player_coords, *BOUNDING_COORDS])\n",
        "\n",
        "    voronoi_polygons = []\n",
        "    for point_region in voronoi.point_region[:-4]:\n",
        "        polygon_vertices = [voronoi.vertices[regions] for regions in voronoi.regions[point_region]]\n",
        "        \n",
        "        voronoi_polygon = Polygon(polygon_vertices)\n",
        "        voronoi_polygon = voronoi_polygon.intersection(OZONE_BOARDS)\n",
        "\n",
        "        voronoi_polygons.append(voronoi_polygon)\n",
        "\n",
        "    return voronoi_polygons\n",
        "\n",
        "\n",
        "def get_goalie_polygon(player_coords, goalie_coord):\n",
        "    \"\"\" \n",
        "    Find the intersection of the goalie's section of a Voronoi diagram and the\n",
        "    allowable area for the goalie to control. This area is determined by a radius\n",
        "    around the goalie combined with the rectangular section of the crease and\n",
        "    any area needed to connect the two. The section is also cut off so that no\n",
        "    area below the goal line is included.\n",
        "    \"\"\"\n",
        "\n",
        "    voronoi_polygons = get_voronoi_polygons([*player_coords, goalie_coord])\n",
        "\n",
        "    goalie_circle = Point(goalie_coord).buffer(GOALIE_RADIUS)\n",
        "    goalie_region = goalie_circle.union(RECTANGULAR_CREASE).convex_hull\n",
        "\n",
        "    goalie_polygon = (\n",
        "        goalie_region\n",
        "        .intersection(voronoi_polygons[-1])\n",
        "        .intersection(ABOVE_GOAL_LINE)\n",
        "    )\n",
        "\n",
        "    return goalie_polygon\n",
        "\n",
        "\n",
        "def get_player_polygons(possession_coord, opponent_coords, goalie_coord):\n",
        "    skater_coords = [possession_coord, *opponent_coords]\n",
        "    voronoi_polygons = get_voronoi_polygons(skater_coords)\n",
        "    goalie_polygon = get_goalie_polygon(skater_coords, goalie_coord)\n",
        "\n",
        "    skater_polygons = [polygon.difference(goalie_polygon) for polygon in voronoi_polygons]\n",
        "\n",
        "    return [*skater_polygons, goalie_polygon]"
      ],
      "metadata": {
        "id": "qkObYXiWaZqe"
      },
      "execution_count": 14,
      "outputs": []
    },
    {
      "cell_type": "markdown",
      "source": [
        "## Desirable Ice"
      ],
      "metadata": {
        "id": "_DwrqmKX8L4n"
      }
    },
    {
      "cell_type": "markdown",
      "source": [
        "- Desirable ice is relative to the player with possession. It includes the pre-determined danger zone around the net and any ice required to connect the player to the danger zone.  \n",
        "- Available ice is all of the desirable ice that intersects with the player's section from the Voronoi diagram.\n",
        "\n",
        "The net is cut out of both sections. When a player is behind the net, this assumes that the distance to the front of the net is a straight-line. Obviously, that isn't accurate, but typically the goalie and defenders will take away the effected area and errors will be minimal."
      ],
      "metadata": {
        "id": "GdfZFhC68Q5j"
      }
    },
    {
      "cell_type": "code",
      "source": [
        "def get_desirable_ice(player_coord):\n",
        "    return (\n",
        "        Point(player_coord)\n",
        "        .union(DANGER_ZONE)\n",
        "        .convex_hull\n",
        "        .difference(NET_POLYGON)\n",
        "    )\n",
        "\n",
        "\n",
        "def get_available_ice(desirable_ice, player_polygon):\n",
        "    return player_polygon.intersection(desirable_ice)\n",
        "\n",
        "\n",
        "def compute_available_pct(row):\n",
        "    player_coord, opponent_coords, goalie_coord = get_row_coords(row)\n",
        "    player_polygons = get_player_polygons(player_coord, opponent_coords, goalie_coord)\n",
        "\n",
        "    desirable_ice = get_desirable_ice(player_coord)\n",
        "    available_ice = get_available_ice(desirable_ice, player_polygons[0])\n",
        "\n",
        "    return available_ice.area / desirable_ice.area"
      ],
      "metadata": {
        "id": "rYVj3LtAa902"
      },
      "execution_count": 15,
      "outputs": []
    },
    {
      "cell_type": "markdown",
      "source": [
        "# Combining Data"
      ],
      "metadata": {
        "id": "mR6cZeIM8woH"
      }
    },
    {
      "cell_type": "markdown",
      "source": [
        "Combining data from the tracking files and the play-by-play into three csv files.\n",
        "- One containing play-by-play data relevant to the powerplays.\n",
        "- One containing details on which player is in possession in each from of the tracking data.\n",
        "- One containing coordinates of players based on which player is in possession.\n",
        "\n",
        "CAN-USA P3 PP7 and USA-FIN P3 PP5 are omitted as they are empty net situations; this will be restricted to 5-on-4 play."
      ],
      "metadata": {
        "id": "bBB-KwoOf4GC"
      }
    },
    {
      "cell_type": "code",
      "source": [
        "# keys are the name of the game, values are the period and powerplay numbers of available data\n",
        "game_ids = {\n",
        "    \"2022-02-08 Canada at USA\": [(1, 1), (1, 2), (2, 3), (2, 5), (3, 6)],\n",
        "    \"2022-02-08 ROC at Finland\": [(1, 1), (2, 2), (2, 5), (3, 6)],\n",
        "    \"2022-02-12 Switzerland at ROC\": [(1, 1), (1, 2), (3, 3), (3, 5)],\n",
        "    \"2022-02-14 Switzerland at Canada\": [(1, 1), (1, 2), (2, 4), (3, 5)],\n",
        "    \"2022-02-14 USA at Finland\": [(2, 1), (2, 3), (3, 4)],\n",
        "    \"2022-02-16 Switzerland at Finland\": [(1, 1), (1, 2), (2, 3), (2, 4), (2, 5), (3, 6), (3, 7), (3, 8)],\n",
        "}\n",
        "\n",
        "\n",
        "powerplays = []\n",
        "possessions = []\n",
        "coords_dfs = []\n",
        "for game_name, ids in tqdm(game_ids.items()):\n",
        "    game_date, away_team, _, home_team = game_name.split(\" \")\n",
        "    repo_game = game_name.replace(\" \", '%20')\n",
        "\n",
        "    roster = get_roster(repo_game)\n",
        "\n",
        "    for period, pp_number in tqdm(ids, desc=game_name):\n",
        "        pp_name = f\"{game_name} P{period} PP{pp_number}\"\n",
        "        tracking = get_tracking(repo_game, period, pp_number, away_team, home_team, roster)\n",
        "\n",
        "        powerplay = get_powerplay(pbp, tracking, game_date, away_team, home_team)\n",
        "        powerplay[\"pp_name\"] = pp_name\n",
        "        powerplays.append(powerplay)\n",
        "\n",
        "        possession = get_possession(tracking, powerplay)\n",
        "        possession[\"pp_name\"] = pp_name\n",
        "        possessions.append(possession)\n",
        "\n",
        "        coords_df = get_coords(tracking, possession)\n",
        "        coords_df[\"available_pct\"] = coords_df.apply(compute_available_pct, axis=1)\n",
        "        is_next_frame = (coords_df.frame_id - coords_df.frame_id.shift(1)) == 1\n",
        "        coords_df.loc[is_next_frame, \"previous_available\"] = coords_df.available_pct.shift(1)\n",
        "        coords_df[\"opponent\"] = coords_df.team_name.map(\n",
        "            {home_team: away_team, away_team: home_team}\n",
        "        )\n",
        "        coords_df[\"pp_name\"] = pp_name\n",
        "\n",
        "        coords_dfs.append(coords_df)\n",
        "\n",
        "powerplay_pbp = pd.concat(powerplays)\n",
        "powerplay_possession = pd.concat(possessions)\n",
        "powerplay_coords = pd.concat(coords_dfs)"
      ],
      "metadata": {
        "colab": {
          "base_uri": "https://localhost:8080/",
          "height": 241,
          "referenced_widgets": [
            "933df070b98a4646a1d4ca5f7742d757",
            "91450376dbfa47268e9504a7abfdd090",
            "1d1d5db94f614f61839ebdf73d1f378b",
            "98a832f5237042fd89154ab933ddd2ae",
            "0c45c39ca237447eb1f06566da005752",
            "1bdd9f99815340ce9d7544af08cf187c",
            "4b4eb2dda27b4982bd76371eb5b9327a",
            "28a7698befba486f866af834ee5f6045",
            "f6d9d03c65c34b32a0e83a96ffd1e6d2",
            "fea6c0866c6f4f1cb49ba19513a7cedb",
            "ba465ae4d5584db4abb0d9d1078fab2d",
            "5697058b2348438794beac4bb552bd80",
            "0f06dd0d181246d3a12ca997eaa274d2",
            "324e1bbcae43475c848e7c2b8ff4ccac",
            "c46bd41d67cb48d38dc4266f83c911fc",
            "a7537d1a68bd4365b305f0eae4736840",
            "5461d9a2e5924abaa5737f41d3ed32be",
            "959e25d12ff64c2ca74f968e0ccaddef",
            "44fa5baeeb6146598e40b50a67a3acbe",
            "0c4cde9b5a66497f95e367c4af344327",
            "da28beefd3b0461ea353a9fe32ef1563",
            "88875df2473940afb7dee1ca5c3bfb52",
            "60101b2e075c4fca8edffd8bd27ddee3",
            "53de78f8ab3f4775bec0d89c53239c50",
            "dd018684a5b44e94b4254f45bdaddb6d",
            "1883abe2b64d464daeab0793aff72c5e",
            "2199ab2bc9a240e1af12b048cfd36d10",
            "0d4f0b7f3c014f63b57b5e04bb47db2d",
            "654ac38131e648fe859df410e4b3429a",
            "128f5b598ff0469e893e7659a194c0af",
            "542bf716ee5a4bd4bd177c981895c3ed",
            "e28ec73eacd94fe5a9e50d94ac28700e",
            "152e740d1f474c2e95f27d4a0a9ac41b",
            "18c38d5068994d08969c74cebc5eed1c",
            "8bd12d2c551546219524eb216c6c4dd7",
            "b5088adad810402ea4645fa82a97910f",
            "661f818cff2a4306bdef0de736865491",
            "3009c7336de2429284ed137571b84a04",
            "32a01f13e8674bbfba6e3a0ca2833e68",
            "6dae5b84deae4adfb18023003322c118",
            "2ca7262911e247c9bebc6288d41a9783",
            "ab726c5cb2a4455ab35dc9ceb325aa8b",
            "5adaca75013b49cd91356822c8a088d3",
            "c8a2534430e44cfc8b77c2c72e4c405e",
            "be41ca4e00cb489b87f70b66aa9961db",
            "d9767e0fdcde4def9aca60804291e2a9",
            "76e46efaefe647b4b49d8a83690dc6da",
            "2255dcfe9a0f4f75960ef09607d084e5",
            "e151a5edb6824b99b807491f41ca3803",
            "f465b0096b14437f9b702b606f89a831",
            "4fb72d0105b547b2b34b7bdd944e799a",
            "4041b2735f45424c969dbcff66b1bc40",
            "58e3e0c42f60455fad0f8db76b69e6b6",
            "9a04a1c7d80f410e8712c3a52efd8c80",
            "7c6f3ed28c2f4078800aa2620800865e",
            "17e2553dc0144b9d8bdad203df1cddaf",
            "59a00173eb4a428685733fba43ddb69d",
            "024f5c3ed4c54f51a6f4dff966372684",
            "74936df45625443aa761db1a0a5adb1c",
            "63946afff9f042eaa6a6166e003fb8bb",
            "c41bc59a7e744ca58eadd10f308085a5",
            "7268e82ac1134892b29a40fca7218f6e",
            "86972e608d4f45ee95eacff42715254f",
            "24a477a312c549c78e5449c66cc4c96e",
            "a43111b9f17a4e60b2dc68517f21f3af",
            "272a054fed024f3abe5acfb60aba21db",
            "34bda4a6a38c4ccb9fadb4ce0819b964",
            "36ddd549a5b44f0199ce2cace620d225",
            "c6e879526c3f4d7591cb995b6967f2bc",
            "0cd0d3417021404184be9b76937e71e6",
            "0ccdaee7bb1f44c790cf2011a793ede8",
            "6b3700305938409281d61b4d65ec18f7",
            "29cdab8911a94a22a338f8927f5b23d9",
            "9ff3727e4d5047e09da1f68ea49977e9",
            "3ffe8392510542ef86f582b022f03e66",
            "854745e8aa5149df9209d31e8e82e9cd",
            "552605dfcf044b7681d0695a52d2b6ec"
          ]
        },
        "id": "oEFg2aZSTcEQ",
        "outputId": "11d45b71-1a78-4602-9cb1-d1b4745d9faf"
      },
      "execution_count": 16,
      "outputs": [
        {
          "output_type": "display_data",
          "data": {
            "text/plain": [
              "  0%|          | 0/6 [00:00<?, ?it/s]"
            ],
            "application/vnd.jupyter.widget-view+json": {
              "version_major": 2,
              "version_minor": 0,
              "model_id": "933df070b98a4646a1d4ca5f7742d757"
            }
          },
          "metadata": {}
        },
        {
          "output_type": "display_data",
          "data": {
            "text/plain": [
              "2022-02-08 Canada at USA:   0%|          | 0/5 [00:00<?, ?it/s]"
            ],
            "application/vnd.jupyter.widget-view+json": {
              "version_major": 2,
              "version_minor": 0,
              "model_id": "5697058b2348438794beac4bb552bd80"
            }
          },
          "metadata": {}
        },
        {
          "output_type": "display_data",
          "data": {
            "text/plain": [
              "2022-02-08 ROC at Finland:   0%|          | 0/4 [00:00<?, ?it/s]"
            ],
            "application/vnd.jupyter.widget-view+json": {
              "version_major": 2,
              "version_minor": 0,
              "model_id": "60101b2e075c4fca8edffd8bd27ddee3"
            }
          },
          "metadata": {}
        },
        {
          "output_type": "display_data",
          "data": {
            "text/plain": [
              "2022-02-12 Switzerland at ROC:   0%|          | 0/4 [00:00<?, ?it/s]"
            ],
            "application/vnd.jupyter.widget-view+json": {
              "version_major": 2,
              "version_minor": 0,
              "model_id": "18c38d5068994d08969c74cebc5eed1c"
            }
          },
          "metadata": {}
        },
        {
          "output_type": "display_data",
          "data": {
            "text/plain": [
              "2022-02-14 Switzerland at Canada:   0%|          | 0/4 [00:00<?, ?it/s]"
            ],
            "application/vnd.jupyter.widget-view+json": {
              "version_major": 2,
              "version_minor": 0,
              "model_id": "be41ca4e00cb489b87f70b66aa9961db"
            }
          },
          "metadata": {}
        },
        {
          "output_type": "display_data",
          "data": {
            "text/plain": [
              "2022-02-14 USA at Finland:   0%|          | 0/3 [00:00<?, ?it/s]"
            ],
            "application/vnd.jupyter.widget-view+json": {
              "version_major": 2,
              "version_minor": 0,
              "model_id": "17e2553dc0144b9d8bdad203df1cddaf"
            }
          },
          "metadata": {}
        },
        {
          "output_type": "display_data",
          "data": {
            "text/plain": [
              "2022-02-16 Switzerland at Finland:   0%|          | 0/8 [00:00<?, ?it/s]"
            ],
            "application/vnd.jupyter.widget-view+json": {
              "version_major": 2,
              "version_minor": 0,
              "model_id": "34bda4a6a38c4ccb9fadb4ce0819b964"
            }
          },
          "metadata": {}
        }
      ]
    },
    {
      "cell_type": "code",
      "source": [
        "powerplay_pbp.to_csv(\"powerplay_pbp.csv\", index=False)\n",
        "powerplay_possession.to_csv(\"powerplay_possession.csv\", index=False)\n",
        "powerplay_coords.to_csv(\"powerplay_coords.csv\", index=False)"
      ],
      "metadata": {
        "id": "sTqQ1VvCgtuG"
      },
      "execution_count": 17,
      "outputs": []
    },
    {
      "cell_type": "markdown",
      "source": [
        "# Visualizing an Example"
      ],
      "metadata": {
        "id": "PwEi-NKqpMDl"
      }
    },
    {
      "cell_type": "markdown",
      "source": [
        "Using the first row of the coordinate data to see what things look like."
      ],
      "metadata": {
        "id": "vMOul2qm9ind"
      }
    },
    {
      "cell_type": "code",
      "source": [
        "row = powerplay_coords.iloc[0]\n",
        "\n",
        "row"
      ],
      "metadata": {
        "colab": {
          "base_uri": "https://localhost:8080/"
        },
        "id": "DuVUyJZK_Xj3",
        "outputId": "e8c9ac86-56e3-42ae-fc22-149a727a6ce4"
      },
      "execution_count": 18,
      "outputs": [
        {
          "output_type": "execute_result",
          "data": {
            "text/plain": [
              "frame_id                                                            301\n",
              "opponent_coords       ((187.278571, 37.64763874), (167.1163005, 34.7...\n",
              "goalie_coord                                 (187.2585244, 43.18264129)\n",
              "x                                                            195.732672\n",
              "y                                                             63.352362\n",
              "possession_coord                             (195.7326717, 63.35236208)\n",
              "team_name                                                        Canada\n",
              "acquisition                                                    Retained\n",
              "is_zone_entry                                                     False\n",
              "available_pct                                                  0.090479\n",
              "previous_available                                                  NaN\n",
              "opponent                                                            USA\n",
              "pp_name                                 2022-02-08 Canada at USA P1 PP1\n",
              "Name: 0, dtype: object"
            ]
          },
          "metadata": {},
          "execution_count": 18
        }
      ]
    },
    {
      "cell_type": "markdown",
      "source": [
        "Thanks to the unusual shape of the goalie zone, shapes may be made up of multiple unconnected polygons. The workaround is to create lists of required polygons for each shape."
      ],
      "metadata": {
        "id": "r62sOpECXYEu"
      }
    },
    {
      "cell_type": "code",
      "source": [
        "def get_sub_polygons(polygon):\n",
        "    try:\n",
        "        # need to avoid line segments\n",
        "        sub_polygons = [\n",
        "            sub_polygon\n",
        "            for sub_polygon in polygon.geoms\n",
        "            if isinstance(sub_polygon, Polygon)\n",
        "        ]\n",
        "    except AttributeError:\n",
        "        sub_polygons = [] if polygon.is_empty else [polygon]\n",
        "\n",
        "    return sub_polygons"
      ],
      "metadata": {
        "id": "z9ApPGmaXWWT"
      },
      "execution_count": 19,
      "outputs": []
    },
    {
      "cell_type": "code",
      "source": [
        "row_coords = get_row_coords(row)\n",
        "possession_coord, opponent_coords, goalie_coord = row_coords\n",
        "\n",
        "player_polygons = get_player_polygons(*row_coords)\n",
        "sub_polygons = [sub_polygon for polygon in player_polygons for sub_polygon in get_sub_polygons(polygon)]\n",
        "\n",
        "desirable_ice = get_desirable_ice(row.possession_coord)\n",
        "available_ice = get_available_ice(desirable_ice, player_polygons[0])"
      ],
      "metadata": {
        "id": "i-rbLYuAnzHL"
      },
      "execution_count": 20,
      "outputs": []
    },
    {
      "cell_type": "markdown",
      "source": [
        "## Voronoi Regions"
      ],
      "metadata": {
        "id": "pdKF-s7P94Oy"
      }
    },
    {
      "cell_type": "code",
      "source": [
        "rink = BDCRink(rotation=270, net={\"color\": \"black\", \"zorder\": 90})\n",
        "ax = rink.draw(display_range=\"ozone\")\n",
        "\n",
        "rink.scatter(*possession_coord, zorder=95)\n",
        "rink.scatter(*zip(*opponent_coords))\n",
        "rink.scatter(*goalie_coord, zorder=95)\n",
        "\n",
        "for sub_polygon in sub_polygons:\n",
        "    if not sub_polygon.is_empty:\n",
        "        ax.fill(*rink.convert_xy(*sub_polygon.exterior.xy), alpha=0.8, edgecolor=\"black\", zorder=19)"
      ],
      "metadata": {
        "colab": {
          "base_uri": "https://localhost:8080/",
          "height": 248
        },
        "id": "_aq174OYGRjH",
        "outputId": "d22ed16b-0af4-492e-d358-3631d6065701"
      },
      "execution_count": 21,
      "outputs": [
        {
          "output_type": "display_data",
          "data": {
            "text/plain": [
              "<Figure size 432x288 with 1 Axes>"
            ],
            "image/png": "[encoded data removed]"
          },
          "metadata": {
            "needs_background": "light"
          }
        }
      ]
    },
    {
      "cell_type": "markdown",
      "source": [
        "## Desirable Ice"
      ],
      "metadata": {
        "id": "hAk1qhi-997e"
      }
    },
    {
      "cell_type": "code",
      "source": [
        "rink = BDCRink(rotation=270, crease={\"color\": \"white\"})\n",
        "ax = rink.draw(display_range=\"ozone\")\n",
        "\n",
        "rink.scatter(*possession_coord, edgecolor=\"black\")\n",
        "rink.scatter(*zip(*opponent_coords), edgecolor=\"black\")\n",
        "rink.scatter(*goalie_coord, edgecolor=\"black\")\n",
        "\n",
        "for sub_polygon in sub_polygons:\n",
        "    rink.plot(*sub_polygon.exterior.xy, ax=ax)\n",
        "\n",
        "for sub_desirable in get_sub_polygons(desirable_ice):\n",
        "    ax.fill(*rink.convert_xy(*sub_desirable.exterior.xy), color=\"salmon\", alpha=0.5)\n",
        "\n",
        "for sub_available in get_sub_polygons(available_ice):\n",
        "    ax.fill(*rink.convert_xy(*sub_available.exterior.xy), color=\"darkblue\", alpha=0.5)\n",
        "\n",
        "ax.set_title(f\"Available Area: {round(row.available_pct * 100, 2)}%\");"
      ],
      "metadata": {
        "colab": {
          "base_uri": "https://localhost:8080/",
          "height": 264
        },
        "id": "6CFAzfm8KRtF",
        "outputId": "00e993ef-51b3-4516-b411-f47650c1d6b8"
      },
      "execution_count": 22,
      "outputs": [
        {
          "output_type": "display_data",
          "data": {
            "text/plain": [
              "<Figure size 432x288 with 1 Axes>"
            ],
            "image/png": "[encoded data removed]"
          },
          "metadata": {
            "needs_background": "light"
          }
        }
      ]
    },
    {
      "cell_type": "code",
      "source": [
        ""
      ],
      "metadata": {
        "id": "BHEimkY7EEPW"
      },
      "execution_count": 22,
      "outputs": []
    }
  ]
}