{
  "nbformat": 4,
  "nbformat_minor": 0,
  "metadata": {
    "colab": {
      "name": "powerplay_data_prep.ipynb",
      "provenance": [],
      "collapsed_sections": [],
      "toc_visible": true,
      "authorship_tag": "ABX9TyMZpVoBkBWZsdjozCMYhs6B",
      "include_colab_link": true
    },
    "kernelspec": {
      "name": "python3",
      "display_name": "Python 3"
    },
    "language_info": {
      "name": "python"
    },
    "widgets": {
      "application/vnd.jupyter.widget-state+json": {
        "6da7414851da49998cca78d1f8d743ae": {
          "model_module": "@jupyter-widgets/controls",
          "model_name": "HBoxModel",
          "model_module_version": "1.5.0",
          "state": {
            "_dom_classes": [],
            "_model_module": "@jupyter-widgets/controls",
            "_model_module_version": "1.5.0",
            "_model_name": "HBoxModel",
            "_view_count": null,
            "_view_module": "@jupyter-widgets/controls",
            "_view_module_version": "1.5.0",
            "_view_name": "HBoxView",
            "box_style": "",
            "children": [
              "IPY_MODEL_763bcfe26e1c489fb32f86f9b09fc9b1",
              "IPY_MODEL_42f7a9ce566f43f0ab31fd1ead27f61e",
              "IPY_MODEL_5f0c80d1c4d8426ea7a052ff88376496"
            ],
            "layout": "IPY_MODEL_2f20a394733e41828847713384d28244"
          }
        },
        "763bcfe26e1c489fb32f86f9b09fc9b1": {
          "model_module": "@jupyter-widgets/controls",
          "model_name": "HTMLModel",
          "model_module_version": "1.5.0",
          "state": {
            "_dom_classes": [],
            "_model_module": "@jupyter-widgets/controls",
            "_model_module_version": "1.5.0",
            "_model_name": "HTMLModel",
            "_view_count": null,
            "_view_module": "@jupyter-widgets/controls",
            "_view_module_version": "1.5.0",
            "_view_name": "HTMLView",
            "description": "",
            "description_tooltip": null,
            "layout": "IPY_MODEL_d3d3644a3d2941489cba1fc00ec99202",
            "placeholder": "​",
            "style": "IPY_MODEL_d29d7cc6ab3b4672bd80b0779dce815e",
            "value": "100%"
          }
        },
        "42f7a9ce566f43f0ab31fd1ead27f61e": {
          "model_module": "@jupyter-widgets/controls",
          "model_name": "FloatProgressModel",
          "model_module_version": "1.5.0",
          "state": {
            "_dom_classes": [],
            "_model_module": "@jupyter-widgets/controls",
            "_model_module_version": "1.5.0",
            "_model_name": "FloatProgressModel",
            "_view_count": null,
            "_view_module": "@jupyter-widgets/controls",
            "_view_module_version": "1.5.0",
            "_view_name": "ProgressView",
            "bar_style": "success",
            "description": "",
            "description_tooltip": null,
            "layout": "IPY_MODEL_9ffcdaf2b90648b18c4754aef875d299",
            "max": 6,
            "min": 0,
            "orientation": "horizontal",
            "style": "IPY_MODEL_39f915d5b7204b90ba849132bea6296b",
            "value": 6
          }
        },
        "5f0c80d1c4d8426ea7a052ff88376496": {
          "model_module": "@jupyter-widgets/controls",
          "model_name": "HTMLModel",
          "model_module_version": "1.5.0",
          "state": {
            "_dom_classes": [],
            "_model_module": "@jupyter-widgets/controls",
            "_model_module_version": "1.5.0",
            "_model_name": "HTMLModel",
            "_view_count": null,
            "_view_module": "@jupyter-widgets/controls",
            "_view_module_version": "1.5.0",
            "_view_name": "HTMLView",
            "description": "",
            "description_tooltip": null,
            "layout": "IPY_MODEL_c5dd59c2f3ad4416a45a04917baf17d8",
            "placeholder": "​",
            "style": "IPY_MODEL_44667e0c61b8483fb1f2370a3368965a",
            "value": " 6/6 [01:29&lt;00:00, 14.86s/it]"
          }
        },
        "2f20a394733e41828847713384d28244": {
          "model_module": "@jupyter-widgets/base",
          "model_name": "LayoutModel",
          "model_module_version": "1.2.0",
          "state": {
            "_model_module": "@jupyter-widgets/base",
            "_model_module_version": "1.2.0",
            "_model_name": "LayoutModel",
            "_view_count": null,
            "_view_module": "@jupyter-widgets/base",
            "_view_module_version": "1.2.0",
            "_view_name": "LayoutView",
            "align_content": null,
            "align_items": null,
            "align_self": null,
            "border": null,
            "bottom": null,
            "display": null,
            "flex": null,
            "flex_flow": null,
            "grid_area": null,
            "grid_auto_columns": null,
            "grid_auto_flow": null,
            "grid_auto_rows": null,
            "grid_column": null,
            "grid_gap": null,
            "grid_row": null,
            "grid_template_areas": null,
            "grid_template_columns": null,
            "grid_template_rows": null,
            "height": null,
            "justify_content": null,
            "justify_items": null,
            "left": null,
            "margin": null,
            "max_height": null,
            "max_width": null,
            "min_height": null,
            "min_width": null,
            "object_fit": null,
            "object_position": null,
            "order": null,
            "overflow": null,
            "overflow_x": null,
            "overflow_y": null,
            "padding": null,
            "right": null,
            "top": null,
            "visibility": null,
            "width": null
          }
        },
        "d3d3644a3d2941489cba1fc00ec99202": {
          "model_module": "@jupyter-widgets/base",
          "model_name": "LayoutModel",
          "model_module_version": "1.2.0",
          "state": {
            "_model_module": "@jupyter-widgets/base",
            "_model_module_version": "1.2.0",
            "_model_name": "LayoutModel",
            "_view_count": null,
            "_view_module": "@jupyter-widgets/base",
            "_view_module_version": "1.2.0",
            "_view_name": "LayoutView",
            "align_content": null,
            "align_items": null,
            "align_self": null,
            "border": null,
            "bottom": null,
            "display": null,
            "flex": null,
            "flex_flow": null,
            "grid_area": null,
            "grid_auto_columns": null,
            "grid_auto_flow": null,
            "grid_auto_rows": null,
            "grid_column": null,
            "grid_gap": null,
            "grid_row": null,
            "grid_template_areas": null,
            "grid_template_columns": null,
            "grid_template_rows": null,
            "height": null,
            "justify_content": null,
            "justify_items": null,
            "left": null,
            "margin": null,
            "max_height": null,
            "max_width": null,
            "min_height": null,
            "min_width": null,
            "object_fit": null,
            "object_position": null,
            "order": null,
            "overflow": null,
            "overflow_x": null,
            "overflow_y": null,
            "padding": null,
            "right": null,
            "top": null,
            "visibility": null,
            "width": null
          }
        },
        "d29d7cc6ab3b4672bd80b0779dce815e": {
          "model_module": "@jupyter-widgets/controls",
          "model_name": "DescriptionStyleModel",
          "model_module_version": "1.5.0",
          "state": {
            "_model_module": "@jupyter-widgets/controls",
            "_model_module_version": "1.5.0",
            "_model_name": "DescriptionStyleModel",
            "_view_count": null,
            "_view_module": "@jupyter-widgets/base",
            "_view_module_version": "1.2.0",
            "_view_name": "StyleView",
            "description_width": ""
          }
        },
        "9ffcdaf2b90648b18c4754aef875d299": {
          "model_module": "@jupyter-widgets/base",
          "model_name": "LayoutModel",
          "model_module_version": "1.2.0",
          "state": {
            "_model_module": "@jupyter-widgets/base",
            "_model_module_version": "1.2.0",
            "_model_name": "LayoutModel",
            "_view_count": null,
            "_view_module": "@jupyter-widgets/base",
            "_view_module_version": "1.2.0",
            "_view_name": "LayoutView",
            "align_content": null,
            "align_items": null,
            "align_self": null,
            "border": null,
            "bottom": null,
            "display": null,
            "flex": null,
            "flex_flow": null,
            "grid_area": null,
            "grid_auto_columns": null,
            "grid_auto_flow": null,
            "grid_auto_rows": null,
            "grid_column": null,
            "grid_gap": null,
            "grid_row": null,
            "grid_template_areas": null,
            "grid_template_columns": null,
            "grid_template_rows": null,
            "height": null,
            "justify_content": null,
            "justify_items": null,
            "left": null,
            "margin": null,
            "max_height": null,
            "max_width": null,
            "min_height": null,
            "min_width": null,
            "object_fit": null,
            "object_position": null,
            "order": null,
            "overflow": null,
            "overflow_x": null,
            "overflow_y": null,
            "padding": null,
            "right": null,
            "top": null,
            "visibility": null,
            "width": null
          }
        },
        "39f915d5b7204b90ba849132bea6296b": {
          "model_module": "@jupyter-widgets/controls",
          "model_name": "ProgressStyleModel",
          "model_module_version": "1.5.0",
          "state": {
            "_model_module": "@jupyter-widgets/controls",
            "_model_module_version": "1.5.0",
            "_model_name": "ProgressStyleModel",
            "_view_count": null,
            "_view_module": "@jupyter-widgets/base",
            "_view_module_version": "1.2.0",
            "_view_name": "StyleView",
            "bar_color": null,
            "description_width": ""
          }
        },
        "c5dd59c2f3ad4416a45a04917baf17d8": {
          "model_module": "@jupyter-widgets/base",
          "model_name": "LayoutModel",
          "model_module_version": "1.2.0",
          "state": {
            "_model_module": "@jupyter-widgets/base",
            "_model_module_version": "1.2.0",
            "_model_name": "LayoutModel",
            "_view_count": null,
            "_view_module": "@jupyter-widgets/base",
            "_view_module_version": "1.2.0",
            "_view_name": "LayoutView",
            "align_content": null,
            "align_items": null,
            "align_self": null,
            "border": null,
            "bottom": null,
            "display": null,
            "flex": null,
            "flex_flow": null,
            "grid_area": null,
            "grid_auto_columns": null,
            "grid_auto_flow": null,
            "grid_auto_rows": null,
            "grid_column": null,
            "grid_gap": null,
            "grid_row": null,
            "grid_template_areas": null,
            "grid_template_columns": null,
            "grid_template_rows": null,
            "height": null,
            "justify_content": null,
            "justify_items": null,
            "left": null,
            "margin": null,
            "max_height": null,
            "max_width": null,
            "min_height": null,
            "min_width": null,
            "object_fit": null,
            "object_position": null,
            "order": null,
            "overflow": null,
            "overflow_x": null,
            "overflow_y": null,
            "padding": null,
            "right": null,
            "top": null,
            "visibility": null,
            "width": null
          }
        },
        "44667e0c61b8483fb1f2370a3368965a": {
          "model_module": "@jupyter-widgets/controls",
          "model_name": "DescriptionStyleModel",
          "model_module_version": "1.5.0",
          "state": {
            "_model_module": "@jupyter-widgets/controls",
            "_model_module_version": "1.5.0",
            "_model_name": "DescriptionStyleModel",
            "_view_count": null,
            "_view_module": "@jupyter-widgets/base",
            "_view_module_version": "1.2.0",
            "_view_name": "StyleView",
            "description_width": ""
          }
        },
        "94ca1d398051481d96e5b29f7d98c4f4": {
          "model_module": "@jupyter-widgets/controls",
          "model_name": "HBoxModel",
          "model_module_version": "1.5.0",
          "state": {
            "_dom_classes": [],
            "_model_module": "@jupyter-widgets/controls",
            "_model_module_version": "1.5.0",
            "_model_name": "HBoxModel",
            "_view_count": null,
            "_view_module": "@jupyter-widgets/controls",
            "_view_module_version": "1.5.0",
            "_view_name": "HBoxView",
            "box_style": "",
            "children": [
              "IPY_MODEL_e7d452c33d6049eeba284b74be16b6d3",
              "IPY_MODEL_6724643f0dbf4993a16e65986ed017c8",
              "IPY_MODEL_fd798a89c0a14c5db69cb918d8bf622b"
            ],
            "layout": "IPY_MODEL_bc4d387aab1e4902b8dd72c522fceb39"
          }
        },
        "e7d452c33d6049eeba284b74be16b6d3": {
          "model_module": "@jupyter-widgets/controls",
          "model_name": "HTMLModel",
          "model_module_version": "1.5.0",
          "state": {
            "_dom_classes": [],
            "_model_module": "@jupyter-widgets/controls",
            "_model_module_version": "1.5.0",
            "_model_name": "HTMLModel",
            "_view_count": null,
            "_view_module": "@jupyter-widgets/controls",
            "_view_module_version": "1.5.0",
            "_view_name": "HTMLView",
            "description": "",
            "description_tooltip": null,
            "layout": "IPY_MODEL_4441f0e369684688b5fb7f728c909775",
            "placeholder": "​",
            "style": "IPY_MODEL_e67ca4f16cae46659527c512d02dcc0f",
            "value": "2022-02-08 Canada at USA: 100%"
          }
        },
        "6724643f0dbf4993a16e65986ed017c8": {
          "model_module": "@jupyter-widgets/controls",
          "model_name": "FloatProgressModel",
          "model_module_version": "1.5.0",
          "state": {
            "_dom_classes": [],
            "_model_module": "@jupyter-widgets/controls",
            "_model_module_version": "1.5.0",
            "_model_name": "FloatProgressModel",
            "_view_count": null,
            "_view_module": "@jupyter-widgets/controls",
            "_view_module_version": "1.5.0",
            "_view_name": "ProgressView",
            "bar_style": "success",
            "description": "",
            "description_tooltip": null,
            "layout": "IPY_MODEL_348a9e1ec5bf4e8a927f79a0920590ab",
            "max": 5,
            "min": 0,
            "orientation": "horizontal",
            "style": "IPY_MODEL_6637455bae4d44f0bc90e70018bcfeb2",
            "value": 5
          }
        },
        "fd798a89c0a14c5db69cb918d8bf622b": {
          "model_module": "@jupyter-widgets/controls",
          "model_name": "HTMLModel",
          "model_module_version": "1.5.0",
          "state": {
            "_dom_classes": [],
            "_model_module": "@jupyter-widgets/controls",
            "_model_module_version": "1.5.0",
            "_model_name": "HTMLModel",
            "_view_count": null,
            "_view_module": "@jupyter-widgets/controls",
            "_view_module_version": "1.5.0",
            "_view_name": "HTMLView",
            "description": "",
            "description_tooltip": null,
            "layout": "IPY_MODEL_8832a5d6bcfc4f2685f04bea50904a03",
            "placeholder": "​",
            "style": "IPY_MODEL_2389ee0f951c44ca988b194576e026c8",
            "value": " 5/5 [00:25&lt;00:00,  3.88s/it]"
          }
        },
        "bc4d387aab1e4902b8dd72c522fceb39": {
          "model_module": "@jupyter-widgets/base",
          "model_name": "LayoutModel",
          "model_module_version": "1.2.0",
          "state": {
            "_model_module": "@jupyter-widgets/base",
            "_model_module_version": "1.2.0",
            "_model_name": "LayoutModel",
            "_view_count": null,
            "_view_module": "@jupyter-widgets/base",
            "_view_module_version": "1.2.0",
            "_view_name": "LayoutView",
            "align_content": null,
            "align_items": null,
            "align_self": null,
            "border": null,
            "bottom": null,
            "display": null,
            "flex": null,
            "flex_flow": null,
            "grid_area": null,
            "grid_auto_columns": null,
            "grid_auto_flow": null,
            "grid_auto_rows": null,
            "grid_column": null,
            "grid_gap": null,
            "grid_row": null,
            "grid_template_areas": null,
            "grid_template_columns": null,
            "grid_template_rows": null,
            "height": null,
            "justify_content": null,
            "justify_items": null,
            "left": null,
            "margin": null,
            "max_height": null,
            "max_width": null,
            "min_height": null,
            "min_width": null,
            "object_fit": null,
            "object_position": null,
            "order": null,
            "overflow": null,
            "overflow_x": null,
            "overflow_y": null,
            "padding": null,
            "right": null,
            "top": null,
            "visibility": null,
            "width": null
          }
        },
        "4441f0e369684688b5fb7f728c909775": {
          "model_module": "@jupyter-widgets/base",
          "model_name": "LayoutModel",
          "model_module_version": "1.2.0",
          "state": {
            "_model_module": "@jupyter-widgets/base",
            "_model_module_version": "1.2.0",
            "_model_name": "LayoutModel",
            "_view_count": null,
            "_view_module": "@jupyter-widgets/base",
            "_view_module_version": "1.2.0",
            "_view_name": "LayoutView",
            "align_content": null,
            "align_items": null,
            "align_self": null,
            "border": null,
            "bottom": null,
            "display": null,
            "flex": null,
            "flex_flow": null,
            "grid_area": null,
            "grid_auto_columns": null,
            "grid_auto_flow": null,
            "grid_auto_rows": null,
            "grid_column": null,
            "grid_gap": null,
            "grid_row": null,
            "grid_template_areas": null,
            "grid_template_columns": null,
            "grid_template_rows": null,
            "height": null,
            "justify_content": null,
            "justify_items": null,
            "left": null,
            "margin": null,
            "max_height": null,
            "max_width": null,
            "min_height": null,
            "min_width": null,
            "object_fit": null,
            "object_position": null,
            "order": null,
            "overflow": null,
            "overflow_x": null,
            "overflow_y": null,
            "padding": null,
            "right": null,
            "top": null,
            "visibility": null,
            "width": null
          }
        },
        "e67ca4f16cae46659527c512d02dcc0f": {
          "model_module": "@jupyter-widgets/controls",
          "model_name": "DescriptionStyleModel",
          "model_module_version": "1.5.0",
          "state": {
            "_model_module": "@jupyter-widgets/controls",
            "_model_module_version": "1.5.0",
            "_model_name": "DescriptionStyleModel",
            "_view_count": null,
            "_view_module": "@jupyter-widgets/base",
            "_view_module_version": "1.2.0",
            "_view_name": "StyleView",
            "description_width": ""
          }
        },
        "348a9e1ec5bf4e8a927f79a0920590ab": {
          "model_module": "@jupyter-widgets/base",
          "model_name": "LayoutModel",
          "model_module_version": "1.2.0",
          "state": {
            "_model_module": "@jupyter-widgets/base",
            "_model_module_version": "1.2.0",
            "_model_name": "LayoutModel",
            "_view_count": null,
            "_view_module": "@jupyter-widgets/base",
            "_view_module_version": "1.2.0",
            "_view_name": "LayoutView",
            "align_content": null,
            "align_items": null,
            "align_self": null,
            "border": null,
            "bottom": null,
            "display": null,
            "flex": null,
            "flex_flow": null,
            "grid_area": null,
            "grid_auto_columns": null,
            "grid_auto_flow": null,
            "grid_auto_rows": null,
            "grid_column": null,
            "grid_gap": null,
            "grid_row": null,
            "grid_template_areas": null,
            "grid_template_columns": null,
            "grid_template_rows": null,
            "height": null,
            "justify_content": null,
            "justify_items": null,
            "left": null,
            "margin": null,
            "max_height": null,
            "max_width": null,
            "min_height": null,
            "min_width": null,
            "object_fit": null,
            "object_position": null,
            "order": null,
            "overflow": null,
            "overflow_x": null,
            "overflow_y": null,
            "padding": null,
            "right": null,
            "top": null,
            "visibility": null,
            "width": null
          }
        },
        "6637455bae4d44f0bc90e70018bcfeb2": {
          "model_module": "@jupyter-widgets/controls",
          "model_name": "ProgressStyleModel",
          "model_module_version": "1.5.0",
          "state": {
            "_model_module": "@jupyter-widgets/controls",
            "_model_module_version": "1.5.0",
            "_model_name": "ProgressStyleModel",
            "_view_count": null,
            "_view_module": "@jupyter-widgets/base",
            "_view_module_version": "1.2.0",
            "_view_name": "StyleView",
            "bar_color": null,
            "description_width": ""
          }
        },
        "8832a5d6bcfc4f2685f04bea50904a03": {
          "model_module": "@jupyter-widgets/base",
          "model_name": "LayoutModel",
          "model_module_version": "1.2.0",
          "state": {
            "_model_module": "@jupyter-widgets/base",
            "_model_module_version": "1.2.0",
            "_model_name": "LayoutModel",
            "_view_count": null,
            "_view_module": "@jupyter-widgets/base",
            "_view_module_version": "1.2.0",
            "_view_name": "LayoutView",
            "align_content": null,
            "align_items": null,
            "align_self": null,
            "border": null,
            "bottom": null,
            "display": null,
            "flex": null,
            "flex_flow": null,
            "grid_area": null,
            "grid_auto_columns": null,
            "grid_auto_flow": null,
            "grid_auto_rows": null,
            "grid_column": null,
            "grid_gap": null,
            "grid_row": null,
            "grid_template_areas": null,
            "grid_template_columns": null,
            "grid_template_rows": null,
            "height": null,
            "justify_content": null,
            "justify_items": null,
            "left": null,
            "margin": null,
            "max_height": null,
            "max_width": null,
            "min_height": null,
            "min_width": null,
            "object_fit": null,
            "object_position": null,
            "order": null,
            "overflow": null,
            "overflow_x": null,
            "overflow_y": null,
            "padding": null,
            "right": null,
            "top": null,
            "visibility": null,
            "width": null
          }
        },
        "2389ee0f951c44ca988b194576e026c8": {
          "model_module": "@jupyter-widgets/controls",
          "model_name": "DescriptionStyleModel",
          "model_module_version": "1.5.0",
          "state": {
            "_model_module": "@jupyter-widgets/controls",
            "_model_module_version": "1.5.0",
            "_model_name": "DescriptionStyleModel",
            "_view_count": null,
            "_view_module": "@jupyter-widgets/base",
            "_view_module_version": "1.2.0",
            "_view_name": "StyleView",
            "description_width": ""
          }
        },
        "a4aca4ed972f4f18af5bc4acbe42a41a": {
          "model_module": "@jupyter-widgets/controls",
          "model_name": "HBoxModel",
          "model_module_version": "1.5.0",
          "state": {
            "_dom_classes": [],
            "_model_module": "@jupyter-widgets/controls",
            "_model_module_version": "1.5.0",
            "_model_name": "HBoxModel",
            "_view_count": null,
            "_view_module": "@jupyter-widgets/controls",
            "_view_module_version": "1.5.0",
            "_view_name": "HBoxView",
            "box_style": "",
            "children": [
              "IPY_MODEL_eed1fb91c6fd42488a7fcdd3ef936dde",
              "IPY_MODEL_88d30afa4b0c4c6fbe1582e01eba591f",
              "IPY_MODEL_893a736b67cb402d82f59f08579e9505"
            ],
            "layout": "IPY_MODEL_0a66ea25ff70470ab2d5550925bed3db"
          }
        },
        "eed1fb91c6fd42488a7fcdd3ef936dde": {
          "model_module": "@jupyter-widgets/controls",
          "model_name": "HTMLModel",
          "model_module_version": "1.5.0",
          "state": {
            "_dom_classes": [],
            "_model_module": "@jupyter-widgets/controls",
            "_model_module_version": "1.5.0",
            "_model_name": "HTMLModel",
            "_view_count": null,
            "_view_module": "@jupyter-widgets/controls",
            "_view_module_version": "1.5.0",
            "_view_name": "HTMLView",
            "description": "",
            "description_tooltip": null,
            "layout": "IPY_MODEL_9eb9cf50790448abbdaa39ed55d899d7",
            "placeholder": "​",
            "style": "IPY_MODEL_a4a98b3b29c3435186243307dbdf7937",
            "value": "2022-02-08 ROC at Finland: 100%"
          }
        },
        "88d30afa4b0c4c6fbe1582e01eba591f": {
          "model_module": "@jupyter-widgets/controls",
          "model_name": "FloatProgressModel",
          "model_module_version": "1.5.0",
          "state": {
            "_dom_classes": [],
            "_model_module": "@jupyter-widgets/controls",
            "_model_module_version": "1.5.0",
            "_model_name": "FloatProgressModel",
            "_view_count": null,
            "_view_module": "@jupyter-widgets/controls",
            "_view_module_version": "1.5.0",
            "_view_name": "ProgressView",
            "bar_style": "success",
            "description": "",
            "description_tooltip": null,
            "layout": "IPY_MODEL_26842a0c9c0a48168b6bebe1d2637fae",
            "max": 4,
            "min": 0,
            "orientation": "horizontal",
            "style": "IPY_MODEL_826c80537c52495fb131db85acf7df0a",
            "value": 4
          }
        },
        "893a736b67cb402d82f59f08579e9505": {
          "model_module": "@jupyter-widgets/controls",
          "model_name": "HTMLModel",
          "model_module_version": "1.5.0",
          "state": {
            "_dom_classes": [],
            "_model_module": "@jupyter-widgets/controls",
            "_model_module_version": "1.5.0",
            "_model_name": "HTMLModel",
            "_view_count": null,
            "_view_module": "@jupyter-widgets/controls",
            "_view_module_version": "1.5.0",
            "_view_name": "HTMLView",
            "description": "",
            "description_tooltip": null,
            "layout": "IPY_MODEL_215bb18e6b684b2fbdaa310a2f5850e1",
            "placeholder": "​",
            "style": "IPY_MODEL_d749fca764ef4a61b4688e471b7c7652",
            "value": " 4/4 [00:09&lt;00:00,  2.64s/it]"
          }
        },
        "0a66ea25ff70470ab2d5550925bed3db": {
          "model_module": "@jupyter-widgets/base",
          "model_name": "LayoutModel",
          "model_module_version": "1.2.0",
          "state": {
            "_model_module": "@jupyter-widgets/base",
            "_model_module_version": "1.2.0",
            "_model_name": "LayoutModel",
            "_view_count": null,
            "_view_module": "@jupyter-widgets/base",
            "_view_module_version": "1.2.0",
            "_view_name": "LayoutView",
            "align_content": null,
            "align_items": null,
            "align_self": null,
            "border": null,
            "bottom": null,
            "display": null,
            "flex": null,
            "flex_flow": null,
            "grid_area": null,
            "grid_auto_columns": null,
            "grid_auto_flow": null,
            "grid_auto_rows": null,
            "grid_column": null,
            "grid_gap": null,
            "grid_row": null,
            "grid_template_areas": null,
            "grid_template_columns": null,
            "grid_template_rows": null,
            "height": null,
            "justify_content": null,
            "justify_items": null,
            "left": null,
            "margin": null,
            "max_height": null,
            "max_width": null,
            "min_height": null,
            "min_width": null,
            "object_fit": null,
            "object_position": null,
            "order": null,
            "overflow": null,
            "overflow_x": null,
            "overflow_y": null,
            "padding": null,
            "right": null,
            "top": null,
            "visibility": null,
            "width": null
          }
        },
        "9eb9cf50790448abbdaa39ed55d899d7": {
          "model_module": "@jupyter-widgets/base",
          "model_name": "LayoutModel",
          "model_module_version": "1.2.0",
          "state": {
            "_model_module": "@jupyter-widgets/base",
            "_model_module_version": "1.2.0",
            "_model_name": "LayoutModel",
            "_view_count": null,
            "_view_module": "@jupyter-widgets/base",
            "_view_module_version": "1.2.0",
            "_view_name": "LayoutView",
            "align_content": null,
            "align_items": null,
            "align_self": null,
            "border": null,
            "bottom": null,
            "display": null,
            "flex": null,
            "flex_flow": null,
            "grid_area": null,
            "grid_auto_columns": null,
            "grid_auto_flow": null,
            "grid_auto_rows": null,
            "grid_column": null,
            "grid_gap": null,
            "grid_row": null,
            "grid_template_areas": null,
            "grid_template_columns": null,
            "grid_template_rows": null,
            "height": null,
            "justify_content": null,
            "justify_items": null,
            "left": null,
            "margin": null,
            "max_height": null,
            "max_width": null,
            "min_height": null,
            "min_width": null,
            "object_fit": null,
            "object_position": null,
            "order": null,
            "overflow": null,
            "overflow_x": null,
            "overflow_y": null,
            "padding": null,
            "right": null,
            "top": null,
            "visibility": null,
            "width": null
          }
        },
        "a4a98b3b29c3435186243307dbdf7937": {
          "model_module": "@jupyter-widgets/controls",
          "model_name": "DescriptionStyleModel",
          "model_module_version": "1.5.0",
          "state": {
            "_model_module": "@jupyter-widgets/controls",
            "_model_module_version": "1.5.0",
            "_model_name": "DescriptionStyleModel",
            "_view_count": null,
            "_view_module": "@jupyter-widgets/base",
            "_view_module_version": "1.2.0",
            "_view_name": "StyleView",
            "description_width": ""
          }
        },
        "26842a0c9c0a48168b6bebe1d2637fae": {
          "model_module": "@jupyter-widgets/base",
          "model_name": "LayoutModel",
          "model_module_version": "1.2.0",
          "state": {
            "_model_module": "@jupyter-widgets/base",
            "_model_module_version": "1.2.0",
            "_model_name": "LayoutModel",
            "_view_count": null,
            "_view_module": "@jupyter-widgets/base",
            "_view_module_version": "1.2.0",
            "_view_name": "LayoutView",
            "align_content": null,
            "align_items": null,
            "align_self": null,
            "border": null,
            "bottom": null,
            "display": null,
            "flex": null,
            "flex_flow": null,
            "grid_area": null,
            "grid_auto_columns": null,
            "grid_auto_flow": null,
            "grid_auto_rows": null,
            "grid_column": null,
            "grid_gap": null,
            "grid_row": null,
            "grid_template_areas": null,
            "grid_template_columns": null,
            "grid_template_rows": null,
            "height": null,
            "justify_content": null,
            "justify_items": null,
            "left": null,
            "margin": null,
            "max_height": null,
            "max_width": null,
            "min_height": null,
            "min_width": null,
            "object_fit": null,
            "object_position": null,
            "order": null,
            "overflow": null,
            "overflow_x": null,
            "overflow_y": null,
            "padding": null,
            "right": null,
            "top": null,
            "visibility": null,
            "width": null
          }
        },
        "826c80537c52495fb131db85acf7df0a": {
          "model_module": "@jupyter-widgets/controls",
          "model_name": "ProgressStyleModel",
          "model_module_version": "1.5.0",
          "state": {
            "_model_module": "@jupyter-widgets/controls",
            "_model_module_version": "1.5.0",
            "_model_name": "ProgressStyleModel",
            "_view_count": null,
            "_view_module": "@jupyter-widgets/base",
            "_view_module_version": "1.2.0",
            "_view_name": "StyleView",
            "bar_color": null,
            "description_width": ""
          }
        },
        "215bb18e6b684b2fbdaa310a2f5850e1": {
          "model_module": "@jupyter-widgets/base",
          "model_name": "LayoutModel",
          "model_module_version": "1.2.0",
          "state": {
            "_model_module": "@jupyter-widgets/base",
            "_model_module_version": "1.2.0",
            "_model_name": "LayoutModel",
            "_view_count": null,
            "_view_module": "@jupyter-widgets/base",
            "_view_module_version": "1.2.0",
            "_view_name": "LayoutView",
            "align_content": null,
            "align_items": null,
            "align_self": null,
            "border": null,
            "bottom": null,
            "display": null,
            "flex": null,
            "flex_flow": null,
            "grid_area": null,
            "grid_auto_columns": null,
            "grid_auto_flow": null,
            "grid_auto_rows": null,
            "grid_column": null,
            "grid_gap": null,
            "grid_row": null,
            "grid_template_areas": null,
            "grid_template_columns": null,
            "grid_template_rows": null,
            "height": null,
            "justify_content": null,
            "justify_items": null,
            "left": null,
            "margin": null,
            "max_height": null,
            "max_width": null,
            "min_height": null,
            "min_width": null,
            "object_fit": null,
            "object_position": null,
            "order": null,
            "overflow": null,
            "overflow_x": null,
            "overflow_y": null,
            "padding": null,
            "right": null,
            "top": null,
            "visibility": null,
            "width": null
          }
        },
        "d749fca764ef4a61b4688e471b7c7652": {
          "model_module": "@jupyter-widgets/controls",
          "model_name": "DescriptionStyleModel",
          "model_module_version": "1.5.0",
          "state": {
            "_model_module": "@jupyter-widgets/controls",
            "_model_module_version": "1.5.0",
            "_model_name": "DescriptionStyleModel",
            "_view_count": null,
            "_view_module": "@jupyter-widgets/base",
            "_view_module_version": "1.2.0",
            "_view_name": "StyleView",
            "description_width": ""
          }
        },
        "76a7b9d1f4e648ee957db37ec92e1834": {
          "model_module": "@jupyter-widgets/controls",
          "model_name": "HBoxModel",
          "model_module_version": "1.5.0",
          "state": {
            "_dom_classes": [],
            "_model_module": "@jupyter-widgets/controls",
            "_model_module_version": "1.5.0",
            "_model_name": "HBoxModel",
            "_view_count": null,
            "_view_module": "@jupyter-widgets/controls",
            "_view_module_version": "1.5.0",
            "_view_name": "HBoxView",
            "box_style": "",
            "children": [
              "IPY_MODEL_3988b2c7c820490588ce730fc5a84ddb",
              "IPY_MODEL_0912b6eb40b4487390951d6a6b9ade15",
              "IPY_MODEL_fa58b6e6a1974bb897c09bb1a93d613e"
            ],
            "layout": "IPY_MODEL_c8f145f98d4c4709acb57edd512dc889"
          }
        },
        "3988b2c7c820490588ce730fc5a84ddb": {
          "model_module": "@jupyter-widgets/controls",
          "model_name": "HTMLModel",
          "model_module_version": "1.5.0",
          "state": {
            "_dom_classes": [],
            "_model_module": "@jupyter-widgets/controls",
            "_model_module_version": "1.5.0",
            "_model_name": "HTMLModel",
            "_view_count": null,
            "_view_module": "@jupyter-widgets/controls",
            "_view_module_version": "1.5.0",
            "_view_name": "HTMLView",
            "description": "",
            "description_tooltip": null,
            "layout": "IPY_MODEL_f366faf5f1334001a637812ea9a2dd45",
            "placeholder": "​",
            "style": "IPY_MODEL_68c7d25c62f24548aa205718334acf37",
            "value": "2022-02-12 Switzerland at ROC: 100%"
          }
        },
        "0912b6eb40b4487390951d6a6b9ade15": {
          "model_module": "@jupyter-widgets/controls",
          "model_name": "FloatProgressModel",
          "model_module_version": "1.5.0",
          "state": {
            "_dom_classes": [],
            "_model_module": "@jupyter-widgets/controls",
            "_model_module_version": "1.5.0",
            "_model_name": "FloatProgressModel",
            "_view_count": null,
            "_view_module": "@jupyter-widgets/controls",
            "_view_module_version": "1.5.0",
            "_view_name": "ProgressView",
            "bar_style": "success",
            "description": "",
            "description_tooltip": null,
            "layout": "IPY_MODEL_7e41c6f7dcfe4d859e40ab8d2be42576",
            "max": 4,
            "min": 0,
            "orientation": "horizontal",
            "style": "IPY_MODEL_883ab1556560496cb82bcc16b48e740d",
            "value": 4
          }
        },
        "fa58b6e6a1974bb897c09bb1a93d613e": {
          "model_module": "@jupyter-widgets/controls",
          "model_name": "HTMLModel",
          "model_module_version": "1.5.0",
          "state": {
            "_dom_classes": [],
            "_model_module": "@jupyter-widgets/controls",
            "_model_module_version": "1.5.0",
            "_model_name": "HTMLModel",
            "_view_count": null,
            "_view_module": "@jupyter-widgets/controls",
            "_view_module_version": "1.5.0",
            "_view_name": "HTMLView",
            "description": "",
            "description_tooltip": null,
            "layout": "IPY_MODEL_f12a98c44d2c430caaa9f721bd77d32f",
            "placeholder": "​",
            "style": "IPY_MODEL_0a36052065264c8abd6a2a08a4709bd7",
            "value": " 4/4 [00:13&lt;00:00,  3.50s/it]"
          }
        },
        "c8f145f98d4c4709acb57edd512dc889": {
          "model_module": "@jupyter-widgets/base",
          "model_name": "LayoutModel",
          "model_module_version": "1.2.0",
          "state": {
            "_model_module": "@jupyter-widgets/base",
            "_model_module_version": "1.2.0",
            "_model_name": "LayoutModel",
            "_view_count": null,
            "_view_module": "@jupyter-widgets/base",
            "_view_module_version": "1.2.0",
            "_view_name": "LayoutView",
            "align_content": null,
            "align_items": null,
            "align_self": null,
            "border": null,
            "bottom": null,
            "display": null,
            "flex": null,
            "flex_flow": null,
            "grid_area": null,
            "grid_auto_columns": null,
            "grid_auto_flow": null,
            "grid_auto_rows": null,
            "grid_column": null,
            "grid_gap": null,
            "grid_row": null,
            "grid_template_areas": null,
            "grid_template_columns": null,
            "grid_template_rows": null,
            "height": null,
            "justify_content": null,
            "justify_items": null,
            "left": null,
            "margin": null,
            "max_height": null,
            "max_width": null,
            "min_height": null,
            "min_width": null,
            "object_fit": null,
            "object_position": null,
            "order": null,
            "overflow": null,
            "overflow_x": null,
            "overflow_y": null,
            "padding": null,
            "right": null,
            "top": null,
            "visibility": null,
            "width": null
          }
        },
        "f366faf5f1334001a637812ea9a2dd45": {
          "model_module": "@jupyter-widgets/base",
          "model_name": "LayoutModel",
          "model_module_version": "1.2.0",
          "state": {
            "_model_module": "@jupyter-widgets/base",
            "_model_module_version": "1.2.0",
            "_model_name": "LayoutModel",
            "_view_count": null,
            "_view_module": "@jupyter-widgets/base",
            "_view_module_version": "1.2.0",
            "_view_name": "LayoutView",
            "align_content": null,
            "align_items": null,
            "align_self": null,
            "border": null,
            "bottom": null,
            "display": null,
            "flex": null,
            "flex_flow": null,
            "grid_area": null,
            "grid_auto_columns": null,
            "grid_auto_flow": null,
            "grid_auto_rows": null,
            "grid_column": null,
            "grid_gap": null,
            "grid_row": null,
            "grid_template_areas": null,
            "grid_template_columns": null,
            "grid_template_rows": null,
            "height": null,
            "justify_content": null,
            "justify_items": null,
            "left": null,
            "margin": null,
            "max_height": null,
            "max_width": null,
            "min_height": null,
            "min_width": null,
            "object_fit": null,
            "object_position": null,
            "order": null,
            "overflow": null,
            "overflow_x": null,
            "overflow_y": null,
            "padding": null,
            "right": null,
            "top": null,
            "visibility": null,
            "width": null
          }
        },
        "68c7d25c62f24548aa205718334acf37": {
          "model_module": "@jupyter-widgets/controls",
          "model_name": "DescriptionStyleModel",
          "model_module_version": "1.5.0",
          "state": {
            "_model_module": "@jupyter-widgets/controls",
            "_model_module_version": "1.5.0",
            "_model_name": "DescriptionStyleModel",
            "_view_count": null,
            "_view_module": "@jupyter-widgets/base",
            "_view_module_version": "1.2.0",
            "_view_name": "StyleView",
            "description_width": ""
          }
        },
        "7e41c6f7dcfe4d859e40ab8d2be42576": {
          "model_module": "@jupyter-widgets/base",
          "model_name": "LayoutModel",
          "model_module_version": "1.2.0",
          "state": {
            "_model_module": "@jupyter-widgets/base",
            "_model_module_version": "1.2.0",
            "_model_name": "LayoutModel",
            "_view_count": null,
            "_view_module": "@jupyter-widgets/base",
            "_view_module_version": "1.2.0",
            "_view_name": "LayoutView",
            "align_content": null,
            "align_items": null,
            "align_self": null,
            "border": null,
            "bottom": null,
            "display": null,
            "flex": null,
            "flex_flow": null,
            "grid_area": null,
            "grid_auto_columns": null,
            "grid_auto_flow": null,
            "grid_auto_rows": null,
            "grid_column": null,
            "grid_gap": null,
            "grid_row": null,
            "grid_template_areas": null,
            "grid_template_columns": null,
            "grid_template_rows": null,
            "height": null,
            "justify_content": null,
            "justify_items": null,
            "left": null,
            "margin": null,
            "max_height": null,
            "max_width": null,
            "min_height": null,
            "min_width": null,
            "object_fit": null,
            "object_position": null,
            "order": null,
            "overflow": null,
            "overflow_x": null,
            "overflow_y": null,
            "padding": null,
            "right": null,
            "top": null,
            "visibility": null,
            "width": null
          }
        },
        "883ab1556560496cb82bcc16b48e740d": {
          "model_module": "@jupyter-widgets/controls",
          "model_name": "ProgressStyleModel",
          "model_module_version": "1.5.0",
          "state": {
            "_model_module": "@jupyter-widgets/controls",
            "_model_module_version": "1.5.0",
            "_model_name": "ProgressStyleModel",
            "_view_count": null,
            "_view_module": "@jupyter-widgets/base",
            "_view_module_version": "1.2.0",
            "_view_name": "StyleView",
            "bar_color": null,
            "description_width": ""
          }
        },
        "f12a98c44d2c430caaa9f721bd77d32f": {
          "model_module": "@jupyter-widgets/base",
          "model_name": "LayoutModel",
          "model_module_version": "1.2.0",
          "state": {
            "_model_module": "@jupyter-widgets/base",
            "_model_module_version": "1.2.0",
            "_model_name": "LayoutModel",
            "_view_count": null,
            "_view_module": "@jupyter-widgets/base",
            "_view_module_version": "1.2.0",
            "_view_name": "LayoutView",
            "align_content": null,
            "align_items": null,
            "align_self": null,
            "border": null,
            "bottom": null,
            "display": null,
            "flex": null,
            "flex_flow": null,
            "grid_area": null,
            "grid_auto_columns": null,
            "grid_auto_flow": null,
            "grid_auto_rows": null,
            "grid_column": null,
            "grid_gap": null,
            "grid_row": null,
            "grid_template_areas": null,
            "grid_template_columns": null,
            "grid_template_rows": null,
            "height": null,
            "justify_content": null,
            "justify_items": null,
            "left": null,
            "margin": null,
            "max_height": null,
            "max_width": null,
            "min_height": null,
            "min_width": null,
            "object_fit": null,
            "object_position": null,
            "order": null,
            "overflow": null,
            "overflow_x": null,
            "overflow_y": null,
            "padding": null,
            "right": null,
            "top": null,
            "visibility": null,
            "width": null
          }
        },
        "0a36052065264c8abd6a2a08a4709bd7": {
          "model_module": "@jupyter-widgets/controls",
          "model_name": "DescriptionStyleModel",
          "model_module_version": "1.5.0",
          "state": {
            "_model_module": "@jupyter-widgets/controls",
            "_model_module_version": "1.5.0",
            "_model_name": "DescriptionStyleModel",
            "_view_count": null,
            "_view_module": "@jupyter-widgets/base",
            "_view_module_version": "1.2.0",
            "_view_name": "StyleView",
            "description_width": ""
          }
        },
        "5067912afc324f408d6775e19b868ec1": {
          "model_module": "@jupyter-widgets/controls",
          "model_name": "HBoxModel",
          "model_module_version": "1.5.0",
          "state": {
            "_dom_classes": [],
            "_model_module": "@jupyter-widgets/controls",
            "_model_module_version": "1.5.0",
            "_model_name": "HBoxModel",
            "_view_count": null,
            "_view_module": "@jupyter-widgets/controls",
            "_view_module_version": "1.5.0",
            "_view_name": "HBoxView",
            "box_style": "",
            "children": [
              "IPY_MODEL_f96652d78cb34eb8b46fda04c8dd2b07",
              "IPY_MODEL_ddb23dfce9d544009fc642c6d2c77549",
              "IPY_MODEL_c1a1181c441e4defbe9fa68b9065e3dd"
            ],
            "layout": "IPY_MODEL_d8a74c6e233c48ab87aaa7de7817bd27"
          }
        },
        "f96652d78cb34eb8b46fda04c8dd2b07": {
          "model_module": "@jupyter-widgets/controls",
          "model_name": "HTMLModel",
          "model_module_version": "1.5.0",
          "state": {
            "_dom_classes": [],
            "_model_module": "@jupyter-widgets/controls",
            "_model_module_version": "1.5.0",
            "_model_name": "HTMLModel",
            "_view_count": null,
            "_view_module": "@jupyter-widgets/controls",
            "_view_module_version": "1.5.0",
            "_view_name": "HTMLView",
            "description": "",
            "description_tooltip": null,
            "layout": "IPY_MODEL_bbf84efb51f04546bdd11e105e01ba65",
            "placeholder": "​",
            "style": "IPY_MODEL_507ba206815047a593659f66de703089",
            "value": "2022-02-14 Switzerland at Canada: 100%"
          }
        },
        "ddb23dfce9d544009fc642c6d2c77549": {
          "model_module": "@jupyter-widgets/controls",
          "model_name": "FloatProgressModel",
          "model_module_version": "1.5.0",
          "state": {
            "_dom_classes": [],
            "_model_module": "@jupyter-widgets/controls",
            "_model_module_version": "1.5.0",
            "_model_name": "FloatProgressModel",
            "_view_count": null,
            "_view_module": "@jupyter-widgets/controls",
            "_view_module_version": "1.5.0",
            "_view_name": "ProgressView",
            "bar_style": "success",
            "description": "",
            "description_tooltip": null,
            "layout": "IPY_MODEL_20b7c5b3136a4725b4eb2c87feb11977",
            "max": 4,
            "min": 0,
            "orientation": "horizontal",
            "style": "IPY_MODEL_f3ba96872dd74e10aa3398b8193af947",
            "value": 4
          }
        },
        "c1a1181c441e4defbe9fa68b9065e3dd": {
          "model_module": "@jupyter-widgets/controls",
          "model_name": "HTMLModel",
          "model_module_version": "1.5.0",
          "state": {
            "_dom_classes": [],
            "_model_module": "@jupyter-widgets/controls",
            "_model_module_version": "1.5.0",
            "_model_name": "HTMLModel",
            "_view_count": null,
            "_view_module": "@jupyter-widgets/controls",
            "_view_module_version": "1.5.0",
            "_view_name": "HTMLView",
            "description": "",
            "description_tooltip": null,
            "layout": "IPY_MODEL_fb56304a414e40739c259980c96a2d8d",
            "placeholder": "​",
            "style": "IPY_MODEL_741462806fc3412abe6698b384d3b2be",
            "value": " 4/4 [00:12&lt;00:00,  3.41s/it]"
          }
        },
        "d8a74c6e233c48ab87aaa7de7817bd27": {
          "model_module": "@jupyter-widgets/base",
          "model_name": "LayoutModel",
          "model_module_version": "1.2.0",
          "state": {
            "_model_module": "@jupyter-widgets/base",
            "_model_module_version": "1.2.0",
            "_model_name": "LayoutModel",
            "_view_count": null,
            "_view_module": "@jupyter-widgets/base",
            "_view_module_version": "1.2.0",
            "_view_name": "LayoutView",
            "align_content": null,
            "align_items": null,
            "align_self": null,
            "border": null,
            "bottom": null,
            "display": null,
            "flex": null,
            "flex_flow": null,
            "grid_area": null,
            "grid_auto_columns": null,
            "grid_auto_flow": null,
            "grid_auto_rows": null,
            "grid_column": null,
            "grid_gap": null,
            "grid_row": null,
            "grid_template_areas": null,
            "grid_template_columns": null,
            "grid_template_rows": null,
            "height": null,
            "justify_content": null,
            "justify_items": null,
            "left": null,
            "margin": null,
            "max_height": null,
            "max_width": null,
            "min_height": null,
            "min_width": null,
            "object_fit": null,
            "object_position": null,
            "order": null,
            "overflow": null,
            "overflow_x": null,
            "overflow_y": null,
            "padding": null,
            "right": null,
            "top": null,
            "visibility": null,
            "width": null
          }
        },
        "bbf84efb51f04546bdd11e105e01ba65": {
          "model_module": "@jupyter-widgets/base",
          "model_name": "LayoutModel",
          "model_module_version": "1.2.0",
          "state": {
            "_model_module": "@jupyter-widgets/base",
            "_model_module_version": "1.2.0",
            "_model_name": "LayoutModel",
            "_view_count": null,
            "_view_module": "@jupyter-widgets/base",
            "_view_module_version": "1.2.0",
            "_view_name": "LayoutView",
            "align_content": null,
            "align_items": null,
            "align_self": null,
            "border": null,
            "bottom": null,
            "display": null,
            "flex": null,
            "flex_flow": null,
            "grid_area": null,
            "grid_auto_columns": null,
            "grid_auto_flow": null,
            "grid_auto_rows": null,
            "grid_column": null,
            "grid_gap": null,
            "grid_row": null,
            "grid_template_areas": null,
            "grid_template_columns": null,
            "grid_template_rows": null,
            "height": null,
            "justify_content": null,
            "justify_items": null,
            "left": null,
            "margin": null,
            "max_height": null,
            "max_width": null,
            "min_height": null,
            "min_width": null,
            "object_fit": null,
            "object_position": null,
            "order": null,
            "overflow": null,
            "overflow_x": null,
            "overflow_y": null,
            "padding": null,
            "right": null,
            "top": null,
            "visibility": null,
            "width": null
          }
        },
        "507ba206815047a593659f66de703089": {
          "model_module": "@jupyter-widgets/controls",
          "model_name": "DescriptionStyleModel",
          "model_module_version": "1.5.0",
          "state": {
            "_model_module": "@jupyter-widgets/controls",
            "_model_module_version": "1.5.0",
            "_model_name": "DescriptionStyleModel",
            "_view_count": null,
            "_view_module": "@jupyter-widgets/base",
            "_view_module_version": "1.2.0",
            "_view_name": "StyleView",
            "description_width": ""
          }
        },
        "20b7c5b3136a4725b4eb2c87feb11977": {
          "model_module": "@jupyter-widgets/base",
          "model_name": "LayoutModel",
          "model_module_version": "1.2.0",
          "state": {
            "_model_module": "@jupyter-widgets/base",
            "_model_module_version": "1.2.0",
            "_model_name": "LayoutModel",
            "_view_count": null,
            "_view_module": "@jupyter-widgets/base",
            "_view_module_version": "1.2.0",
            "_view_name": "LayoutView",
            "align_content": null,
            "align_items": null,
            "align_self": null,
            "border": null,
            "bottom": null,
            "display": null,
            "flex": null,
            "flex_flow": null,
            "grid_area": null,
            "grid_auto_columns": null,
            "grid_auto_flow": null,
            "grid_auto_rows": null,
            "grid_column": null,
            "grid_gap": null,
            "grid_row": null,
            "grid_template_areas": null,
            "grid_template_columns": null,
            "grid_template_rows": null,
            "height": null,
            "justify_content": null,
            "justify_items": null,
            "left": null,
            "margin": null,
            "max_height": null,
            "max_width": null,
            "min_height": null,
            "min_width": null,
            "object_fit": null,
            "object_position": null,
            "order": null,
            "overflow": null,
            "overflow_x": null,
            "overflow_y": null,
            "padding": null,
            "right": null,
            "top": null,
            "visibility": null,
            "width": null
          }
        },
        "f3ba96872dd74e10aa3398b8193af947": {
          "model_module": "@jupyter-widgets/controls",
          "model_name": "ProgressStyleModel",
          "model_module_version": "1.5.0",
          "state": {
            "_model_module": "@jupyter-widgets/controls",
            "_model_module_version": "1.5.0",
            "_model_name": "ProgressStyleModel",
            "_view_count": null,
            "_view_module": "@jupyter-widgets/base",
            "_view_module_version": "1.2.0",
            "_view_name": "StyleView",
            "bar_color": null,
            "description_width": ""
          }
        },
        "fb56304a414e40739c259980c96a2d8d": {
          "model_module": "@jupyter-widgets/base",
          "model_name": "LayoutModel",
          "model_module_version": "1.2.0",
          "state": {
            "_model_module": "@jupyter-widgets/base",
            "_model_module_version": "1.2.0",
            "_model_name": "LayoutModel",
            "_view_count": null,
            "_view_module": "@jupyter-widgets/base",
            "_view_module_version": "1.2.0",
            "_view_name": "LayoutView",
            "align_content": null,
            "align_items": null,
            "align_self": null,
            "border": null,
            "bottom": null,
            "display": null,
            "flex": null,
            "flex_flow": null,
            "grid_area": null,
            "grid_auto_columns": null,
            "grid_auto_flow": null,
            "grid_auto_rows": null,
            "grid_column": null,
            "grid_gap": null,
            "grid_row": null,
            "grid_template_areas": null,
            "grid_template_columns": null,
            "grid_template_rows": null,
            "height": null,
            "justify_content": null,
            "justify_items": null,
            "left": null,
            "margin": null,
            "max_height": null,
            "max_width": null,
            "min_height": null,
            "min_width": null,
            "object_fit": null,
            "object_position": null,
            "order": null,
            "overflow": null,
            "overflow_x": null,
            "overflow_y": null,
            "padding": null,
            "right": null,
            "top": null,
            "visibility": null,
            "width": null
          }
        },
        "741462806fc3412abe6698b384d3b2be": {
          "model_module": "@jupyter-widgets/controls",
          "model_name": "DescriptionStyleModel",
          "model_module_version": "1.5.0",
          "state": {
            "_model_module": "@jupyter-widgets/controls",
            "_model_module_version": "1.5.0",
            "_model_name": "DescriptionStyleModel",
            "_view_count": null,
            "_view_module": "@jupyter-widgets/base",
            "_view_module_version": "1.2.0",
            "_view_name": "StyleView",
            "description_width": ""
          }
        },
        "8dadbf1282504254880df99443fffab5": {
          "model_module": "@jupyter-widgets/controls",
          "model_name": "HBoxModel",
          "model_module_version": "1.5.0",
          "state": {
            "_dom_classes": [],
            "_model_module": "@jupyter-widgets/controls",
            "_model_module_version": "1.5.0",
            "_model_name": "HBoxModel",
            "_view_count": null,
            "_view_module": "@jupyter-widgets/controls",
            "_view_module_version": "1.5.0",
            "_view_name": "HBoxView",
            "box_style": "",
            "children": [
              "IPY_MODEL_d9547e5077174ea993334186cb3e974b",
              "IPY_MODEL_6f64f974963344f0b4f1a4bec49900ae",
              "IPY_MODEL_35201b53dd154eeba1fc009db3b72a9a"
            ],
            "layout": "IPY_MODEL_f251a249c1d145019a9fa2480cba5063"
          }
        },
        "d9547e5077174ea993334186cb3e974b": {
          "model_module": "@jupyter-widgets/controls",
          "model_name": "HTMLModel",
          "model_module_version": "1.5.0",
          "state": {
            "_dom_classes": [],
            "_model_module": "@jupyter-widgets/controls",
            "_model_module_version": "1.5.0",
            "_model_name": "HTMLModel",
            "_view_count": null,
            "_view_module": "@jupyter-widgets/controls",
            "_view_module_version": "1.5.0",
            "_view_name": "HTMLView",
            "description": "",
            "description_tooltip": null,
            "layout": "IPY_MODEL_a390002342814e1fad3072e39fc1db55",
            "placeholder": "​",
            "style": "IPY_MODEL_73905b0e52814521b9947fd1f17ebba2",
            "value": "2022-02-14 USA at Finland: 100%"
          }
        },
        "6f64f974963344f0b4f1a4bec49900ae": {
          "model_module": "@jupyter-widgets/controls",
          "model_name": "FloatProgressModel",
          "model_module_version": "1.5.0",
          "state": {
            "_dom_classes": [],
            "_model_module": "@jupyter-widgets/controls",
            "_model_module_version": "1.5.0",
            "_model_name": "FloatProgressModel",
            "_view_count": null,
            "_view_module": "@jupyter-widgets/controls",
            "_view_module_version": "1.5.0",
            "_view_name": "ProgressView",
            "bar_style": "success",
            "description": "",
            "description_tooltip": null,
            "layout": "IPY_MODEL_d3a7fcbb82bb402cb9c5e887fca72078",
            "max": 3,
            "min": 0,
            "orientation": "horizontal",
            "style": "IPY_MODEL_09a330537cb54ff0874a3e4426a43fab",
            "value": 3
          }
        },
        "35201b53dd154eeba1fc009db3b72a9a": {
          "model_module": "@jupyter-widgets/controls",
          "model_name": "HTMLModel",
          "model_module_version": "1.5.0",
          "state": {
            "_dom_classes": [],
            "_model_module": "@jupyter-widgets/controls",
            "_model_module_version": "1.5.0",
            "_model_name": "HTMLModel",
            "_view_count": null,
            "_view_module": "@jupyter-widgets/controls",
            "_view_module_version": "1.5.0",
            "_view_name": "HTMLView",
            "description": "",
            "description_tooltip": null,
            "layout": "IPY_MODEL_0481d6a1a83c40cda484bac3320b0448",
            "placeholder": "​",
            "style": "IPY_MODEL_980481a23c4b4476842993893f9afd6f",
            "value": " 3/3 [00:04&lt;00:00,  1.48s/it]"
          }
        },
        "f251a249c1d145019a9fa2480cba5063": {
          "model_module": "@jupyter-widgets/base",
          "model_name": "LayoutModel",
          "model_module_version": "1.2.0",
          "state": {
            "_model_module": "@jupyter-widgets/base",
            "_model_module_version": "1.2.0",
            "_model_name": "LayoutModel",
            "_view_count": null,
            "_view_module": "@jupyter-widgets/base",
            "_view_module_version": "1.2.0",
            "_view_name": "LayoutView",
            "align_content": null,
            "align_items": null,
            "align_self": null,
            "border": null,
            "bottom": null,
            "display": null,
            "flex": null,
            "flex_flow": null,
            "grid_area": null,
            "grid_auto_columns": null,
            "grid_auto_flow": null,
            "grid_auto_rows": null,
            "grid_column": null,
            "grid_gap": null,
            "grid_row": null,
            "grid_template_areas": null,
            "grid_template_columns": null,
            "grid_template_rows": null,
            "height": null,
            "justify_content": null,
            "justify_items": null,
            "left": null,
            "margin": null,
            "max_height": null,
            "max_width": null,
            "min_height": null,
            "min_width": null,
            "object_fit": null,
            "object_position": null,
            "order": null,
            "overflow": null,
            "overflow_x": null,
            "overflow_y": null,
            "padding": null,
            "right": null,
            "top": null,
            "visibility": null,
            "width": null
          }
        },
        "a390002342814e1fad3072e39fc1db55": {
          "model_module": "@jupyter-widgets/base",
          "model_name": "LayoutModel",
          "model_module_version": "1.2.0",
          "state": {
            "_model_module": "@jupyter-widgets/base",
            "_model_module_version": "1.2.0",
            "_model_name": "LayoutModel",
            "_view_count": null,
            "_view_module": "@jupyter-widgets/base",
            "_view_module_version": "1.2.0",
            "_view_name": "LayoutView",
            "align_content": null,
            "align_items": null,
            "align_self": null,
            "border": null,
            "bottom": null,
            "display": null,
            "flex": null,
            "flex_flow": null,
            "grid_area": null,
            "grid_auto_columns": null,
            "grid_auto_flow": null,
            "grid_auto_rows": null,
            "grid_column": null,
            "grid_gap": null,
            "grid_row": null,
            "grid_template_areas": null,
            "grid_template_columns": null,
            "grid_template_rows": null,
            "height": null,
            "justify_content": null,
            "justify_items": null,
            "left": null,
            "margin": null,
            "max_height": null,
            "max_width": null,
            "min_height": null,
            "min_width": null,
            "object_fit": null,
            "object_position": null,
            "order": null,
            "overflow": null,
            "overflow_x": null,
            "overflow_y": null,
            "padding": null,
            "right": null,
            "top": null,
            "visibility": null,
            "width": null
          }
        },
        "73905b0e52814521b9947fd1f17ebba2": {
          "model_module": "@jupyter-widgets/controls",
          "model_name": "DescriptionStyleModel",
          "model_module_version": "1.5.0",
          "state": {
            "_model_module": "@jupyter-widgets/controls",
            "_model_module_version": "1.5.0",
            "_model_name": "DescriptionStyleModel",
            "_view_count": null,
            "_view_module": "@jupyter-widgets/base",
            "_view_module_version": "1.2.0",
            "_view_name": "StyleView",
            "description_width": ""
          }
        },
        "d3a7fcbb82bb402cb9c5e887fca72078": {
          "model_module": "@jupyter-widgets/base",
          "model_name": "LayoutModel",
          "model_module_version": "1.2.0",
          "state": {
            "_model_module": "@jupyter-widgets/base",
            "_model_module_version": "1.2.0",
            "_model_name": "LayoutModel",
            "_view_count": null,
            "_view_module": "@jupyter-widgets/base",
            "_view_module_version": "1.2.0",
            "_view_name": "LayoutView",
            "align_content": null,
            "align_items": null,
            "align_self": null,
            "border": null,
            "bottom": null,
            "display": null,
            "flex": null,
            "flex_flow": null,
            "grid_area": null,
            "grid_auto_columns": null,
            "grid_auto_flow": null,
            "grid_auto_rows": null,
            "grid_column": null,
            "grid_gap": null,
            "grid_row": null,
            "grid_template_areas": null,
            "grid_template_columns": null,
            "grid_template_rows": null,
            "height": null,
            "justify_content": null,
            "justify_items": null,
            "left": null,
            "margin": null,
            "max_height": null,
            "max_width": null,
            "min_height": null,
            "min_width": null,
            "object_fit": null,
            "object_position": null,
            "order": null,
            "overflow": null,
            "overflow_x": null,
            "overflow_y": null,
            "padding": null,
            "right": null,
            "top": null,
            "visibility": null,
            "width": null
          }
        },
        "09a330537cb54ff0874a3e4426a43fab": {
          "model_module": "@jupyter-widgets/controls",
          "model_name": "ProgressStyleModel",
          "model_module_version": "1.5.0",
          "state": {
            "_model_module": "@jupyter-widgets/controls",
            "_model_module_version": "1.5.0",
            "_model_name": "ProgressStyleModel",
            "_view_count": null,
            "_view_module": "@jupyter-widgets/base",
            "_view_module_version": "1.2.0",
            "_view_name": "StyleView",
            "bar_color": null,
            "description_width": ""
          }
        },
        "0481d6a1a83c40cda484bac3320b0448": {
          "model_module": "@jupyter-widgets/base",
          "model_name": "LayoutModel",
          "model_module_version": "1.2.0",
          "state": {
            "_model_module": "@jupyter-widgets/base",
            "_model_module_version": "1.2.0",
            "_model_name": "LayoutModel",
            "_view_count": null,
            "_view_module": "@jupyter-widgets/base",
            "_view_module_version": "1.2.0",
            "_view_name": "LayoutView",
            "align_content": null,
            "align_items": null,
            "align_self": null,
            "border": null,
            "bottom": null,
            "display": null,
            "flex": null,
            "flex_flow": null,
            "grid_area": null,
            "grid_auto_columns": null,
            "grid_auto_flow": null,
            "grid_auto_rows": null,
            "grid_column": null,
            "grid_gap": null,
            "grid_row": null,
            "grid_template_areas": null,
            "grid_template_columns": null,
            "grid_template_rows": null,
            "height": null,
            "justify_content": null,
            "justify_items": null,
            "left": null,
            "margin": null,
            "max_height": null,
            "max_width": null,
            "min_height": null,
            "min_width": null,
            "object_fit": null,
            "object_position": null,
            "order": null,
            "overflow": null,
            "overflow_x": null,
            "overflow_y": null,
            "padding": null,
            "right": null,
            "top": null,
            "visibility": null,
            "width": null
          }
        },
        "980481a23c4b4476842993893f9afd6f": {
          "model_module": "@jupyter-widgets/controls",
          "model_name": "DescriptionStyleModel",
          "model_module_version": "1.5.0",
          "state": {
            "_model_module": "@jupyter-widgets/controls",
            "_model_module_version": "1.5.0",
            "_model_name": "DescriptionStyleModel",
            "_view_count": null,
            "_view_module": "@jupyter-widgets/base",
            "_view_module_version": "1.2.0",
            "_view_name": "StyleView",
            "description_width": ""
          }
        },
        "c416b81c4bdb4c42a598f1d7196efacc": {
          "model_module": "@jupyter-widgets/controls",
          "model_name": "HBoxModel",
          "model_module_version": "1.5.0",
          "state": {
            "_dom_classes": [],
            "_model_module": "@jupyter-widgets/controls",
            "_model_module_version": "1.5.0",
            "_model_name": "HBoxModel",
            "_view_count": null,
            "_view_module": "@jupyter-widgets/controls",
            "_view_module_version": "1.5.0",
            "_view_name": "HBoxView",
            "box_style": "",
            "children": [
              "IPY_MODEL_980b3bd492394e688d03fc0ae5568dec",
              "IPY_MODEL_57007b6eb5ea4d07b966fc91f1b3cc1c",
              "IPY_MODEL_d125b307ad0d4e9bbbb8ec8eb87a19c3"
            ],
            "layout": "IPY_MODEL_de7a6a847cc74c61aca4848b0cebb766"
          }
        },
        "980b3bd492394e688d03fc0ae5568dec": {
          "model_module": "@jupyter-widgets/controls",
          "model_name": "HTMLModel",
          "model_module_version": "1.5.0",
          "state": {
            "_dom_classes": [],
            "_model_module": "@jupyter-widgets/controls",
            "_model_module_version": "1.5.0",
            "_model_name": "HTMLModel",
            "_view_count": null,
            "_view_module": "@jupyter-widgets/controls",
            "_view_module_version": "1.5.0",
            "_view_name": "HTMLView",
            "description": "",
            "description_tooltip": null,
            "layout": "IPY_MODEL_79d21e0edb6e44ba80cabfc36ce898ee",
            "placeholder": "​",
            "style": "IPY_MODEL_7adcdc01b9ac44e78f2ed32d1f674f49",
            "value": "2022-02-16 Switzerland at Finland: 100%"
          }
        },
        "57007b6eb5ea4d07b966fc91f1b3cc1c": {
          "model_module": "@jupyter-widgets/controls",
          "model_name": "FloatProgressModel",
          "model_module_version": "1.5.0",
          "state": {
            "_dom_classes": [],
            "_model_module": "@jupyter-widgets/controls",
            "_model_module_version": "1.5.0",
            "_model_name": "FloatProgressModel",
            "_view_count": null,
            "_view_module": "@jupyter-widgets/controls",
            "_view_module_version": "1.5.0",
            "_view_name": "ProgressView",
            "bar_style": "success",
            "description": "",
            "description_tooltip": null,
            "layout": "IPY_MODEL_b7b3233affe14e288112148ecbe8f12f",
            "max": 8,
            "min": 0,
            "orientation": "horizontal",
            "style": "IPY_MODEL_779e79ac30184050ad8cf31f81514c60",
            "value": 8
          }
        },
        "d125b307ad0d4e9bbbb8ec8eb87a19c3": {
          "model_module": "@jupyter-widgets/controls",
          "model_name": "HTMLModel",
          "model_module_version": "1.5.0",
          "state": {
            "_dom_classes": [],
            "_model_module": "@jupyter-widgets/controls",
            "_model_module_version": "1.5.0",
            "_model_name": "HTMLModel",
            "_view_count": null,
            "_view_module": "@jupyter-widgets/controls",
            "_view_module_version": "1.5.0",
            "_view_name": "HTMLView",
            "description": "",
            "description_tooltip": null,
            "layout": "IPY_MODEL_0c7b02372ea0420faf688354cfec56a5",
            "placeholder": "​",
            "style": "IPY_MODEL_ac73e90d83f947c6848bd077688b2a8b",
            "value": " 8/8 [00:22&lt;00:00,  3.01s/it]"
          }
        },
        "de7a6a847cc74c61aca4848b0cebb766": {
          "model_module": "@jupyter-widgets/base",
          "model_name": "LayoutModel",
          "model_module_version": "1.2.0",
          "state": {
            "_model_module": "@jupyter-widgets/base",
            "_model_module_version": "1.2.0",
            "_model_name": "LayoutModel",
            "_view_count": null,
            "_view_module": "@jupyter-widgets/base",
            "_view_module_version": "1.2.0",
            "_view_name": "LayoutView",
            "align_content": null,
            "align_items": null,
            "align_self": null,
            "border": null,
            "bottom": null,
            "display": null,
            "flex": null,
            "flex_flow": null,
            "grid_area": null,
            "grid_auto_columns": null,
            "grid_auto_flow": null,
            "grid_auto_rows": null,
            "grid_column": null,
            "grid_gap": null,
            "grid_row": null,
            "grid_template_areas": null,
            "grid_template_columns": null,
            "grid_template_rows": null,
            "height": null,
            "justify_content": null,
            "justify_items": null,
            "left": null,
            "margin": null,
            "max_height": null,
            "max_width": null,
            "min_height": null,
            "min_width": null,
            "object_fit": null,
            "object_position": null,
            "order": null,
            "overflow": null,
            "overflow_x": null,
            "overflow_y": null,
            "padding": null,
            "right": null,
            "top": null,
            "visibility": null,
            "width": null
          }
        },
        "79d21e0edb6e44ba80cabfc36ce898ee": {
          "model_module": "@jupyter-widgets/base",
          "model_name": "LayoutModel",
          "model_module_version": "1.2.0",
          "state": {
            "_model_module": "@jupyter-widgets/base",
            "_model_module_version": "1.2.0",
            "_model_name": "LayoutModel",
            "_view_count": null,
            "_view_module": "@jupyter-widgets/base",
            "_view_module_version": "1.2.0",
            "_view_name": "LayoutView",
            "align_content": null,
            "align_items": null,
            "align_self": null,
            "border": null,
            "bottom": null,
            "display": null,
            "flex": null,
            "flex_flow": null,
            "grid_area": null,
            "grid_auto_columns": null,
            "grid_auto_flow": null,
            "grid_auto_rows": null,
            "grid_column": null,
            "grid_gap": null,
            "grid_row": null,
            "grid_template_areas": null,
            "grid_template_columns": null,
            "grid_template_rows": null,
            "height": null,
            "justify_content": null,
            "justify_items": null,
            "left": null,
            "margin": null,
            "max_height": null,
            "max_width": null,
            "min_height": null,
            "min_width": null,
            "object_fit": null,
            "object_position": null,
            "order": null,
            "overflow": null,
            "overflow_x": null,
            "overflow_y": null,
            "padding": null,
            "right": null,
            "top": null,
            "visibility": null,
            "width": null
          }
        },
        "7adcdc01b9ac44e78f2ed32d1f674f49": {
          "model_module": "@jupyter-widgets/controls",
          "model_name": "DescriptionStyleModel",
          "model_module_version": "1.5.0",
          "state": {
            "_model_module": "@jupyter-widgets/controls",
            "_model_module_version": "1.5.0",
            "_model_name": "DescriptionStyleModel",
            "_view_count": null,
            "_view_module": "@jupyter-widgets/base",
            "_view_module_version": "1.2.0",
            "_view_name": "StyleView",
            "description_width": ""
          }
        },
        "b7b3233affe14e288112148ecbe8f12f": {
          "model_module": "@jupyter-widgets/base",
          "model_name": "LayoutModel",
          "model_module_version": "1.2.0",
          "state": {
            "_model_module": "@jupyter-widgets/base",
            "_model_module_version": "1.2.0",
            "_model_name": "LayoutModel",
            "_view_count": null,
            "_view_module": "@jupyter-widgets/base",
            "_view_module_version": "1.2.0",
            "_view_name": "LayoutView",
            "align_content": null,
            "align_items": null,
            "align_self": null,
            "border": null,
            "bottom": null,
            "display": null,
            "flex": null,
            "flex_flow": null,
            "grid_area": null,
            "grid_auto_columns": null,
            "grid_auto_flow": null,
            "grid_auto_rows": null,
            "grid_column": null,
            "grid_gap": null,
            "grid_row": null,
            "grid_template_areas": null,
            "grid_template_columns": null,
            "grid_template_rows": null,
            "height": null,
            "justify_content": null,
            "justify_items": null,
            "left": null,
            "margin": null,
            "max_height": null,
            "max_width": null,
            "min_height": null,
            "min_width": null,
            "object_fit": null,
            "object_position": null,
            "order": null,
            "overflow": null,
            "overflow_x": null,
            "overflow_y": null,
            "padding": null,
            "right": null,
            "top": null,
            "visibility": null,
            "width": null
          }
        },
        "779e79ac30184050ad8cf31f81514c60": {
          "model_module": "@jupyter-widgets/controls",
          "model_name": "ProgressStyleModel",
          "model_module_version": "1.5.0",
          "state": {
            "_model_module": "@jupyter-widgets/controls",
            "_model_module_version": "1.5.0",
            "_model_name": "ProgressStyleModel",
            "_view_count": null,
            "_view_module": "@jupyter-widgets/base",
            "_view_module_version": "1.2.0",
            "_view_name": "StyleView",
            "bar_color": null,
            "description_width": ""
          }
        },
        "0c7b02372ea0420faf688354cfec56a5": {
          "model_module": "@jupyter-widgets/base",
          "model_name": "LayoutModel",
          "model_module_version": "1.2.0",
          "state": {
            "_model_module": "@jupyter-widgets/base",
            "_model_module_version": "1.2.0",
            "_model_name": "LayoutModel",
            "_view_count": null,
            "_view_module": "@jupyter-widgets/base",
            "_view_module_version": "1.2.0",
            "_view_name": "LayoutView",
            "align_content": null,
            "align_items": null,
            "align_self": null,
            "border": null,
            "bottom": null,
            "display": null,
            "flex": null,
            "flex_flow": null,
            "grid_area": null,
            "grid_auto_columns": null,
            "grid_auto_flow": null,
            "grid_auto_rows": null,
            "grid_column": null,
            "grid_gap": null,
            "grid_row": null,
            "grid_template_areas": null,
            "grid_template_columns": null,
            "grid_template_rows": null,
            "height": null,
            "justify_content": null,
            "justify_items": null,
            "left": null,
            "margin": null,
            "max_height": null,
            "max_width": null,
            "min_height": null,
            "min_width": null,
            "object_fit": null,
            "object_position": null,
            "order": null,
            "overflow": null,
            "overflow_x": null,
            "overflow_y": null,
            "padding": null,
            "right": null,
            "top": null,
            "visibility": null,
            "width": null
          }
        },
        "ac73e90d83f947c6848bd077688b2a8b": {
          "model_module": "@jupyter-widgets/controls",
          "model_name": "DescriptionStyleModel",
          "model_module_version": "1.5.0",
          "state": {
            "_model_module": "@jupyter-widgets/controls",
            "_model_module_version": "1.5.0",
            "_model_name": "DescriptionStyleModel",
            "_view_count": null,
            "_view_module": "@jupyter-widgets/base",
            "_view_module_version": "1.2.0",
            "_view_name": "StyleView",
            "description_width": ""
          }
        }
      }
    }
  },
  "cells": [
    {
      "cell_type": "markdown",
      "metadata": {
        "id": "view-in-github",
        "colab_type": "text"
      },
      "source": [
        "<a href=\"https://colab.research.google.com/github/VKarpick/powerplay/blob/main/powerplay_data_prep.ipynb\" target=\"_parent\"><img src=\"https://colab.research.google.com/assets/colab-badge.svg\" alt=\"Open In Colab\"/></a>"
      ]
    },
    {
      "cell_type": "code",
      "source": [
        "!pip install hockey-rink"
      ],
      "metadata": {
        "colab": {
          "base_uri": "https://localhost:8080/"
        },
        "id": "YC7TjvESWh-Q",
        "outputId": "3c06e09c-04b5-4525-8ecd-e8289b7486cf"
      },
      "execution_count": 1,
      "outputs": [
        {
          "output_type": "stream",
          "name": "stdout",
          "text": [
            "Collecting hockey-rink\n",
            "  Downloading hockey_rink-0.1.7.tar.gz (34 kB)\n",
            "Requirement already satisfied: matplotlib in /usr/local/lib/python3.7/dist-packages (from hockey-rink) (3.2.2)\n",
            "Requirement already satisfied: numpy in /usr/local/lib/python3.7/dist-packages (from hockey-rink) (1.21.6)\n",
            "Requirement already satisfied: scipy in /usr/local/lib/python3.7/dist-packages (from hockey-rink) (1.4.1)\n",
            "Requirement already satisfied: pyparsing!=2.0.4,!=2.1.2,!=2.1.6,>=2.0.1 in /usr/local/lib/python3.7/dist-packages (from matplotlib->hockey-rink) (3.0.8)\n",
            "Requirement already satisfied: kiwisolver>=1.0.1 in /usr/local/lib/python3.7/dist-packages (from matplotlib->hockey-rink) (1.4.2)\n",
            "Requirement already satisfied: cycler>=0.10 in /usr/local/lib/python3.7/dist-packages (from matplotlib->hockey-rink) (0.11.0)\n",
            "Requirement already satisfied: python-dateutil>=2.1 in /usr/local/lib/python3.7/dist-packages (from matplotlib->hockey-rink) (2.8.2)\n",
            "Requirement already satisfied: typing-extensions in /usr/local/lib/python3.7/dist-packages (from kiwisolver>=1.0.1->matplotlib->hockey-rink) (4.2.0)\n",
            "Requirement already satisfied: six>=1.5 in /usr/local/lib/python3.7/dist-packages (from python-dateutil>=2.1->matplotlib->hockey-rink) (1.15.0)\n",
            "Building wheels for collected packages: hockey-rink\n",
            "  Building wheel for hockey-rink (setup.py) ... \u001b[?25l\u001b[?25hdone\n",
            "  Created wheel for hockey-rink: filename=hockey_rink-0.1.7-py3-none-any.whl size=34876 sha256=7027838f9e176d640a1c0c0959168eca8fb69a5ce7e815d127ebaeefc2a049ef\n",
            "  Stored in directory: /root/.cache/pip/wheels/9b/9c/06/217d4c3a942284788e7fce440ef4e47a8d032cdceb372ff7ec\n",
            "Successfully built hockey-rink\n",
            "Installing collected packages: hockey-rink\n",
            "Successfully installed hockey-rink-0.1.7\n"
          ]
        }
      ]
    },
    {
      "cell_type": "code",
      "execution_count": 2,
      "metadata": {
        "id": "4TfgMZ_cZVhK"
      },
      "outputs": [],
      "source": [
        "import numpy as np\n",
        "import pandas as pd\n",
        "import matplotlib.pyplot as plt\n",
        "from hockey_rink import BDCRink, Net, Rink\n",
        "from scipy.spatial import Voronoi\n",
        "from shapely.geometry import Polygon\n",
        "from shapely.geometry.point import Point\n",
        "from tqdm.auto import tqdm"
      ]
    },
    {
      "cell_type": "code",
      "source": [
        "pbp = pd.read_csv(\"https://raw.githubusercontent.com/the-bucketless/bdc/main/data/pxp_womens_oly_2022_v2.csv\")\n",
        "pp_info = pd.read_csv(\"https://raw.githubusercontent.com/the-bucketless/bdc/main/data/pp_info.csv\")"
      ],
      "metadata": {
        "id": "9FOcGV-9ZWZv"
      },
      "execution_count": 3,
      "outputs": []
    },
    {
      "cell_type": "markdown",
      "source": [
        "# Data Prep"
      ],
      "metadata": {
        "id": "JM30lU6Gtk4o"
      }
    },
    {
      "cell_type": "markdown",
      "source": [
        "Some needed shapes to manipulate the data. Grabbing a couple features from the hockey_rink package to simplify creating their Polygons with shapely. All coordinates will be shifted to the right side of the rink (x-coordinates from 100 to 200) so that only one of each Polygon is needed."
      ],
      "metadata": {
        "id": "our1Apoetwro"
      }
    },
    {
      "cell_type": "code",
      "source": [
        "def feature_to_polygon(feature):\n",
        "    \"\"\" Convert a feature from the rink package to a shapley Polygon. \"\"\"\n",
        "    x, y = feature.get_polygon_xy()\n",
        "    coords = zip(x + 100, y + 42.5)\n",
        "    return Polygon(coords)\n",
        "\n",
        "\n",
        "rink = Rink()\n",
        "\n",
        "net = [feature for feature in rink._features if isinstance(feature, Net)][0]\n",
        "NET_POLYGON = feature_to_polygon(net)\n",
        "\n",
        "boards = rink._boards_constraint\n",
        "BOARDS_POLYGON = feature_to_polygon(boards)\n",
        "OZONE_POLYGON = Polygon(zip([125, 200, 200, 125], [0, 0, 85, 85]))\n",
        "\n",
        "OZONE_BOARDS = BOARDS_POLYGON.intersection(OZONE_POLYGON)\n",
        "\n",
        "ABOVE_GOAL_LINE = Polygon(zip([125, 189, 189, 125], [0, 0, 85, 85]))\n",
        "\n",
        "# some coordinates much larger than the size of the rink used to bound\n",
        "# voronoi shapes within the rink\n",
        "BOUNDING_COORDS = [[-500, -500], [-500, 500], [500, -500], [500, 500]]\n",
        "\n",
        "# where to place the goalie when no goalie is seen in frame\n",
        "# well outside the rink to avoid affecting the voronoi shapes\n",
        "# easier than including conditionals ensuring that the goalie is present\n",
        "MISSING_GOALIE_COORD = (-100, -100)\n",
        "\n",
        "# the radius of the circle around the goalie representing their outer bounds\n",
        "GOALIE_RADIUS = 4\n",
        "\n",
        "# the remainder of the goalie's bounds determined by the crease less the arc\n",
        "RECTANGULAR_CREASE = Polygon(zip([189, 189, 183, 183], [42.5, 46.5, 46.5, 42.5]))\n",
        "\n",
        "# previously determined dangerous area of the ice\n",
        "DANGER_ZONE = Polygon(zip([189, 174, 174, 189], [50.5, 50.5, 34.5, 34.5]))"
      ],
      "metadata": {
        "id": "df6MOoYJZkyb"
      },
      "execution_count": 4,
      "outputs": []
    },
    {
      "cell_type": "markdown",
      "source": [
        "## Play-by-play"
      ],
      "metadata": {
        "id": "ufvYMMbevoq2"
      }
    },
    {
      "cell_type": "code",
      "source": [
        "def convert_game_time(period, seconds):\n",
        "    \"\"\" Convert time from seconds remaining in period to seconds elapsed in game. \"\"\"\n",
        "    return 1200 * period - seconds\n",
        "\n",
        "\n",
        "for prefix in (\"start\", \"end\"):\n",
        "    pp_info[f\"{prefix}_game_clock_seconds\"] = convert_game_time(\n",
        "        pp_info[f\"{prefix}_period\"], \n",
        "        pp_info[f\"{prefix}_game_clock_seconds\"]\n",
        "    )\n",
        "\n",
        "pbp[\"pbp_game_seconds\"] = convert_game_time(pbp.period, pbp.clock_seconds)\n",
        "\n",
        "# don't think there'll have need of the season\n",
        "pbp = pbp.drop(columns=[\"season_year\"])\n",
        "\n",
        "# different naming in the tracking data and the play-by-play data, use tracking\n",
        "team_names = {\n",
        "    \"Olympic (Women) - Canada\": \"Canada\",\n",
        "    \"Olympic (Women) - Finland\": \"Finland\",\n",
        "    \"Olympic (Women) - Olympic Athletes from Russia\": \"ROC\",\n",
        "    \"Olympic (Women) - Switzerland\": \"Switzerland\",\n",
        "    \"Olympic (Women) - United States\": \"USA\",\n",
        "}\n",
        "for c in (\"team_name\", \"opp_team_name\"):\n",
        "    pbp[c] = pbp[c].map(team_names)\n",
        "\n",
        "# strength state for zone entries is that of the defending team\n",
        "# reverse the order of words in the string to make it the attacking team's strength\n",
        "is_zone_entry = pbp.event == \"Zone Entry\"\n",
        "pbp.loc[is_zone_entry, \"situation_type\"] = pbp.situation_type.str.split().apply(lambda x: \" \".join(x[::-1]))"
      ],
      "metadata": {
        "id": "Ja3cPnCXZZ_x"
      },
      "execution_count": 5,
      "outputs": []
    },
    {
      "cell_type": "markdown",
      "source": [
        "Split passes with times into two events: one for the pass and one for when it's received.  \n",
        "Successful passes are the only events with two frame IDs."
      ],
      "metadata": {
        "id": "ctupTxm-y1eZ"
      }
    },
    {
      "cell_type": "code",
      "source": [
        "pbp[\"has_reception\"] = ~pbp.frame_id_2.isna()\n",
        "\n",
        "plays = pbp.loc[pbp.has_reception, :].copy()\n",
        "plays[\"event\"] = \"Reception\"\n",
        "plays.frame_id_1 = plays.frame_id_2\n",
        "plays[\"has_reception\"] = False\n",
        "\n",
        "pbp = (\n",
        "    pbp\n",
        "    .append(plays)\n",
        "    .sort_index(kind=\"stable\")\n",
        "    .drop(columns=\"frame_id_2\")\n",
        "    .rename(columns={\n",
        "        # since there are no longer two frame IDs to deal with, drop the suffix\n",
        "        \"frame_id_1\": \"frame_id\", \n",
        "        # period also included in tracking data\n",
        "        \"period\": \"pbp_period\", \n",
        "    })\n",
        "    .reset_index(drop=True)\n",
        ")"
      ],
      "metadata": {
        "id": "AZvN-iXxZcx1"
      },
      "execution_count": 6,
      "outputs": []
    },
    {
      "cell_type": "markdown",
      "source": [
        "Using the event data to track which player has possession. Occasionally, players will lose possession without an event being recorded, but this should work well enough."
      ],
      "metadata": {
        "id": "0iyIeeMkzgrn"
      }
    },
    {
      "cell_type": "code",
      "source": [
        "# events that denote possession subsequent to event\n",
        "has_possession = (\n",
        "    pbp.event.isin([\"Puck Recovery\", \"Takeaway\"])\n",
        "    | ((pbp.event == \"Zone Entry\") & (pbp.event_type != \"Dumped\"))\n",
        ")\n",
        "\n",
        "pbp.loc[has_possession, \"possession\"] = pbp.player_name\n",
        "pbp.possession = pbp.possession.fillna(\"loose\")\n",
        "\n",
        "# need the second player on pass receptions\n",
        "# don't want second player on pass receptions until they've received the puck but\n",
        "# plays exist that aren't in the tracking data which won't have receptions but still need to be tracked\n",
        "plays = (\n",
        "    (pbp.event == \"Reception\")\n",
        "    | (~pbp.has_reception & (pbp.event == \"Play\") & (pbp.event_successful == \"t\"))\n",
        ")\n",
        "pbp.possession = pbp.possession.where(~plays, pbp.player_name_2)\n",
        "\n",
        "# events that denote the player has the puck in a given frame but not after\n",
        "pbp.loc[pbp.event.isin([\"Shot\", \"Dump In/Out\", \"Play\"]), \"momentary_possession\"] = pbp.player_name"
      ],
      "metadata": {
        "id": "gxpOI2VUZfsi"
      },
      "execution_count": 7,
      "outputs": []
    },
    {
      "cell_type": "markdown",
      "source": [
        "## Roster"
      ],
      "metadata": {
        "id": "eKA3_d_ez72s"
      }
    },
    {
      "cell_type": "code",
      "source": [
        "def get_roster(repo_game):\n",
        "    roster = pd.read_csv(\n",
        "        \"https://github.com/the-bucketless/bdc/raw/main/data/\"\n",
        "        f\"{repo_game}/\"\n",
        "        f\"{repo_game}%20roster.csv\"\n",
        "    )\n",
        "    \n",
        "    # rename columns for consistency with tracking data\n",
        "    roster = roster.rename(columns={\"jn\": \"jersey_number\", \"team\": \"venue\"})\n",
        "\n",
        "    return roster"
      ],
      "metadata": {
        "id": "2ghOyHsbUPUk"
      },
      "execution_count": 8,
      "outputs": []
    },
    {
      "cell_type": "markdown",
      "source": [
        "## Tracking Data"
      ],
      "metadata": {
        "id": "K-afpdqo0G63"
      }
    },
    {
      "cell_type": "code",
      "source": [
        "def get_tracking(repo_game, period, pp_number, away_team, home_team, roster=None):\n",
        "    if roster is None:\n",
        "        roster = get_roster(repo_game)\n",
        "\n",
        "    tracking = pd.read_csv(\n",
        "        \"https://github.com/the-bucketless/bdc/raw/main/data/\"\n",
        "        f\"{repo_game}/\"\n",
        "        f\"{repo_game}%20P{period}%20PP{pp_number}.csv\"\n",
        "    )\n",
        "\n",
        "    tracking[\"game_seconds\"] = convert_game_time(tracking.period, tracking.game_seconds)\n",
        "    tracking[\"venue\"] = tracking.team_name.map({home_team: \"home\", away_team: \"away\"})\n",
        "\n",
        "    tracking = tracking.merge(roster, on=[\"venue\", \"jersey_number\"], how=\"left\")\n",
        "\n",
        "    tracking = tracking.rename(columns={\"x_ft\": \"x\", \"y_ft\": \"y\"})\n",
        "\n",
        "    return tracking"
      ],
      "metadata": {
        "id": "HZ3sazd9R5Y0"
      },
      "execution_count": 9,
      "outputs": []
    },
    {
      "cell_type": "markdown",
      "source": [
        "## Play-by-Play from Individual Powerplay"
      ],
      "metadata": {
        "id": "v1waru4c1ocv"
      }
    },
    {
      "cell_type": "code",
      "source": [
        "def get_powerplay(pbp, tracking, game_date, away_team, home_team):\n",
        "    # use pp_info to find the relevant section of the play-by-play\n",
        "    selected_pp = pp_info[(pp_info.game_name == game_name) & (pp_info.penalty_number == pp_number)].iloc[0]\n",
        "    selected_teams = [home_team, away_team]\n",
        "\n",
        "    # dates are listed in different formats in the two files\n",
        "    # convert from yyyy-mm-dd with leading zeros to d/m/yyyy without\n",
        "    pbp_date = \"/\".join([str(int(x)) for x in game_date.split(\"-\")[::-1]])\n",
        "\n",
        "    powerplay = (\n",
        "        pbp[\n",
        "            (pbp.game_date == pbp_date)\n",
        "            & (pbp.pbp_game_seconds >= selected_pp.start_game_clock_seconds)\n",
        "            & (pbp.pbp_game_seconds <= selected_pp.end_game_clock_seconds)\n",
        "            & (pbp.team_name.isin(selected_teams))\n",
        "            & (pbp.opp_team_name.isin(selected_teams))\n",
        "            # remove edge events outside the powerplay\n",
        "            & pbp.situation_type.isin([\"5 on 4\", \"4 on 5\"])\n",
        "            ]\n",
        "        .copy()\n",
        "    )\n",
        "\n",
        "    # add video shot to play-by-play data to provide frame_id for events without\n",
        "    powerplay = powerplay.merge(\n",
        "        tracking[[\"frame_id\", \"video_shot\", \"game_seconds\"]].drop_duplicates(), \n",
        "        on=\"frame_id\", \n",
        "        how=\"left\"\n",
        "    )\n",
        "    powerplay.video_shot = powerplay.video_shot.bfill()\n",
        "\n",
        "    # for frames not in the tracking data, use the time from the play-by-play\n",
        "    powerplay.game_seconds = powerplay.game_seconds.fillna(powerplay.pbp_game_seconds)\n",
        "\n",
        "    # for events without frame_id in the pbp, use one less than the mininum of the subsequent video shot\n",
        "    # ie) if the next frame_id found comes from video shot 2, find the smallest frame_id from\n",
        "    # video shot 2 and use one less. This will place the frame_id between video shot 1 and video shot 2\n",
        "    min_frames = (\n",
        "        (\n",
        "            tracking\n",
        "            .groupby(\"video_shot\")\n",
        "            [\"frame_id\"]\n",
        "            .min()\n",
        "            - 1\n",
        "            )\n",
        "        .to_dict()\n",
        "    )\n",
        "\n",
        "    # use 1 less than the minimum frame_id of the video shot for events without frame_id\n",
        "    powerplay.frame_id = powerplay.frame_id.fillna(powerplay.video_shot.map(min_frames))\n",
        "\n",
        "    # track whether or not a player's first in-zone possession is off a zone entry\n",
        "    powerplay[\"is_zone_entry\"] = powerplay.event == \"Zone Entry\"\n",
        "\n",
        "    # whether or not the puck is in the ozone of the team with the advantage\n",
        "    is_pp = powerplay.situation_type == \"5 on 4\"\n",
        "    powerplay.loc[is_pp & powerplay.is_zone_entry, \"is_pp_ozone\"] = True\n",
        "    powerplay.loc[is_pp & (powerplay.x_coord > 124), \"is_pp_ozone\"] = True\n",
        "    powerplay.loc[~is_pp & (powerplay.x_coord < 26), \"is_pp_ozone\"] = True\n",
        "    powerplay.is_pp_ozone = powerplay.is_pp_ozone.fillna(False)\n",
        "\n",
        "    return powerplay"
      ],
      "metadata": {
        "id": "QsgQhWprS0gu"
      },
      "execution_count": 10,
      "outputs": []
    },
    {
      "cell_type": "markdown",
      "source": [
        "## Possession Data"
      ],
      "metadata": {
        "id": "4U8izqJ22abw"
      }
    },
    {
      "cell_type": "markdown",
      "source": [
        "Combine tracking data with powerplay play-by-play to find the location of the player with possession."
      ],
      "metadata": {
        "id": "vuI6w9Nn2c2u"
      }
    },
    {
      "cell_type": "code",
      "source": [
        "def get_possession(tracking, powerplay):\n",
        "    merge_columns = [\n",
        "        \"frame_id\", \"possession\", \"momentary_possession\", \"event\", \"is_zone_entry\", \"is_pp_ozone\",\n",
        "    ]\n",
        "    \n",
        "    possession = tracking.merge(\n",
        "        powerplay[merge_columns], \n",
        "        on=\"frame_id\", \n",
        "        how=\"outer\", \n",
        "    )\n",
        "    possession = possession.sort_values(\"frame_id\", kind=\"stable\")\n",
        "\n",
        "    # zone entries will already have True values\n",
        "    possession.is_zone_entry = possession.is_zone_entry.fillna(False)\n",
        "\n",
        "    # ffill could potentially miss situations where player takes puck from inside zone to outside\n",
        "    # no such issue was found when inspecting data\n",
        "    possession.is_pp_ozone = possession.is_pp_ozone.ffill()\n",
        "\n",
        "    # replace values where players only had possession for a single frame\n",
        "    # these were previously ignored to avoid incorrectly ffilling them\n",
        "    possession.possession = possession.possession.ffill()\n",
        "    possession.possession = possession.momentary_possession.fillna(possession.possession)\n",
        "\n",
        "    # how and when possession was acquired by the player; default is Retained\n",
        "    is_acquired = possession.event.isin([\"Puck Recovery\", \"Zone Entry\", \"Reception\", \"Takeaway\"])\n",
        "    possession.loc[is_acquired, \"acquisition\"] = possession.event\n",
        "    possession.acquisition = possession.acquisition.fillna(\"Retained\")\n",
        "\n",
        "    # combine takeaways and puck recoveries into same category\n",
        "    possession.acquisition = possession.acquisition.replace({\"Takeaway\": \"Puck Recovery\"})\n",
        "\n",
        "    possession_columns = [\n",
        "        \"frame_id\", \"possession\", \"team_name\", \"x\", \"y\", \"acquisition\", \"is_zone_entry\", \"is_pp_ozone\",\n",
        "    ]\n",
        "    possession = (\n",
        "        possession\n",
        "        # remove frames without tracking data\n",
        "        .dropna(subset=[\"track_id\"])\n",
        "\n",
        "        # only keep the row of the player with possession to get their coordinates\n",
        "        # also needs frames where the puck is loose\n",
        "        .loc[\n",
        "            possession.possession == possession.player,\n",
        "            possession_columns\n",
        "        ]\n",
        "\n",
        "        # remove extra rows for frame_id when puck is loose\n",
        "        # or when player acquires the puck and makes a play in the same frame\n",
        "        .drop_duplicates([\"frame_id\", \"possession\"])\n",
        "    )\n",
        "\n",
        "    # whether or not team with possession is on the powerplay\n",
        "    first_row = powerplay.iloc[0]\n",
        "    pp_team = (\n",
        "        first_row.team_name \n",
        "        if first_row.situation_type == \"5 on 4\" \n",
        "        else first_row.opp_team_name\n",
        "    )\n",
        "    possession[\"is_pp\"] = possession.team_name == pp_team\n",
        "\n",
        "    return possession"
      ],
      "metadata": {
        "id": "kMOneC7ZWRR0"
      },
      "execution_count": 11,
      "outputs": []
    },
    {
      "cell_type": "markdown",
      "source": [
        "## Coordinate Data"
      ],
      "metadata": {
        "id": "aI4pIf0K3Zol"
      }
    },
    {
      "cell_type": "markdown",
      "source": [
        "Data used to compute the Voronoi diagrams. This will focus exclusively on situations in which the powerplay has possession in the offensive zone. Combines x and y coordinates into a single column of tuples. There will be one column for the player with possession, one for the goaltender, and one that will be a tuple of tuples containing the coordinates of every opposing skater (ie every non-goalie on the PK)."
      ],
      "metadata": {
        "id": "BfZgcJx13rP7"
      }
    },
    {
      "cell_type": "code",
      "source": [
        "def get_coords(tracking, possession):\n",
        "    # only interested in frames where a team at 5v4 has possession in the ozone\n",
        "    is_ozone_pp = (\n",
        "        (possession.possession != \"loose\") \n",
        "        & possession.is_pp\n",
        "        & possession.is_pp_ozone\n",
        "    )\n",
        "    possession = possession.copy().loc[is_ozone_pp]\n",
        "    possession[\"possession_coord\"] = tuple(zip(possession.x, possession.y))\n",
        "\n",
        "    tracking = tracking.merge(\n",
        "        possession[[\"frame_id\", \"team_name\", \"is_zone_entry\"]], \n",
        "        on=\"frame_id\", \n",
        "        suffixes=[None, \"_possession\"]\n",
        "    )\n",
        "\n",
        "    tracking = tracking.loc[tracking.team_name != tracking.team_name_possession]\n",
        "    tracking[\"coord\"] = tuple(zip(tracking.x, tracking.y))\n",
        "\n",
        "    goalies = (\n",
        "        tracking.loc[\n",
        "            tracking.position == \"Goalie\", \n",
        "            [\"frame_id\", \"coord\"]\n",
        "        ]\n",
        "        .rename(columns={\"coord\": \"goalie_coord\"})\n",
        "    )\n",
        "\n",
        "    skaters = (\n",
        "        tracking.loc[tracking.position != \"Goalie\", [\"frame_id\", \"coord\"]]\n",
        "        .groupby(\"frame_id\", as_index=False)\n",
        "        .agg(opponent_coords=(\"coord\", tuple))\n",
        "    )\n",
        "\n",
        "    possession_columns = [\n",
        "        \"frame_id\", \"x\", \"y\", \"possession_coord\", \"team_name\", \"acquisition\", \"is_zone_entry\",\n",
        "    ]\n",
        "    coords_df = (\n",
        "        skaters\n",
        "        .merge(goalies, on=\"frame_id\", how=\"left\")\n",
        "        .merge(possession[possession_columns], on=\"frame_id\", how=\"left\")\n",
        "    )\n",
        "\n",
        "    return coords_df"
      ],
      "metadata": {
        "id": "czwn7vpvZvU8"
      },
      "execution_count": 12,
      "outputs": []
    },
    {
      "cell_type": "markdown",
      "source": [
        "## One-sided Arguments"
      ],
      "metadata": {
        "id": "qcMk8J5X427q"
      }
    },
    {
      "cell_type": "markdown",
      "source": [
        "Moving all coordinates to the same side of the ice. Also moves players out of the net if they happen to be listed inside it. And records coordinates for missing goalies well outside the region of interest. This prevents them from influencing the Voronoi diagrams while simplifying the logic in other functions."
      ],
      "metadata": {
        "id": "dyhnE5gi45z2"
      }
    },
    {
      "cell_type": "code",
      "source": [
        "def far_side_x(coord):\n",
        "    if pd.isna(coord) or coord != coord or coord[0] > 100:\n",
        "        return coord\n",
        "    return 200 - coord[0], 85 - coord[1]\n",
        "\n",
        "\n",
        "def validate_possession_coord(possession_coord):\n",
        "    # if skater's coordinate is inside net, move behind net\n",
        "    if NET_POLYGON.contains(Point(possession_coord)):\n",
        "        possession_coord = (193, possession_coord[1])\n",
        "\n",
        "    return possession_coord\n",
        "\n",
        "\n",
        "def validate_goalie_coord(goalie_coord):\n",
        "    # if goalie's coordinate is inside net, move to goal line\n",
        "    if pd.isna(goalie_coord) or goalie_coord != goalie_coord:\n",
        "        # replace missing goalies with coordinate out of the way to avoid influence on voronoi\n",
        "        goalie_coord = MISSING_GOALIE_COORD\n",
        "    elif NET_POLYGON.contains(Point(goalie_coord)):\n",
        "        goalie_coord = (189, goalie_coord[1])\n",
        "\n",
        "    return goalie_coord\n",
        "\n",
        "\n",
        "def get_row_coords(row):\n",
        "    possession_coord = row.possession_coord\n",
        "    opponent_coords = row.opponent_coords\n",
        "    goalie_coord = row.goalie_coord\n",
        "\n",
        "    if possession_coord[0] < 100:\n",
        "        possession_coord = far_side_x(possession_coord)\n",
        "        opponent_coords = tuple(far_side_x(coord) for coord in opponent_coords)\n",
        "        goalie_coord = far_side_x(goalie_coord)\n",
        "\n",
        "    return (\n",
        "        validate_possession_coord(possession_coord),\n",
        "        opponent_coords,\n",
        "        validate_goalie_coord(goalie_coord)\n",
        "    )"
      ],
      "metadata": {
        "id": "YwXb34QoaThl"
      },
      "execution_count": 13,
      "outputs": []
    },
    {
      "cell_type": "markdown",
      "source": [
        "## Voronoi"
      ],
      "metadata": {
        "id": "i2HQdU_e66ID"
      }
    },
    {
      "cell_type": "markdown",
      "source": [
        "The basic Voronoi diagrams when viewed on the rink will look something like this:  \n",
        "![Voronoi diagram constrained to rink](https://github.com/VKarpick/powerplay/blob/main/images/constrained_voronoi.png?raw=true)"
      ],
      "metadata": {
        "id": "y9JW3CkUFmBt"
      }
    },
    {
      "cell_type": "markdown",
      "source": [
        "But the actual diagram is much larger. The polygons within the rink are guaranteed to be bounded thanks to the coordinates well outside the rink forming an outer boundary.  \n",
        "![Voronoi diagram not constrained to rink](https://github.com/VKarpick/powerplay/blob/main/images/unconstrained_voronoi.png?raw=true)"
      ],
      "metadata": {
        "id": "UZMafRSpGqey"
      }
    },
    {
      "cell_type": "markdown",
      "source": [
        "To cut these down to sizes that will actually work with the rink, the shapes associated with each player are intersected with the offensive section of the rink.  \n",
        "![Intersection of Voronoi diagram and offensive zone](https://github.com/VKarpick/powerplay/blob/main/images/ozone_voronoi.png?raw=true)"
      ],
      "metadata": {
        "id": "rQSt66VhGtOV"
      }
    },
    {
      "cell_type": "markdown",
      "source": [
        "In order to get the rather odd shape of the goalie's region, two diagrams are found for each frame: one that doesn't include the goalie and one that does.  \n",
        "![Voronoi diagrams without and with the goalie](https://github.com/VKarpick/powerplay/blob/main/images/wowy_voronoi.png?raw=true)"
      ],
      "metadata": {
        "id": "WcM2TCmCJe43"
      }
    },
    {
      "cell_type": "markdown",
      "source": [
        "The goalie's section of the Voronoi diagram is intersected with a region deemed to be suitable for a goalie. This region is given by a radius around the goalie's location combined with the majority of their crease and any ice required to connect the two sections. Additionally, the region is restricted to be above the goal line.  \n",
        "![Intersection of goalie's section of Voronoi diagram and allowable goalie region](https://github.com/VKarpick/powerplay/blob/main/images/goalie_region.png?raw=true)"
      ],
      "metadata": {
        "id": "zENdGz49Nr_3"
      }
    },
    {
      "cell_type": "markdown",
      "source": [
        "Finally, the goalie section is glued into the Voronoi diagram taken without them. This section is cut out of each player's area to give the polygons to be used.  \n",
        "![Goalie region combined with Voronoi diagram](https://github.com/VKarpick/powerplay/blob/main/images/final_voronoi.png?raw=true)"
      ],
      "metadata": {
        "id": "p9ckbvSsQR5F"
      }
    },
    {
      "cell_type": "code",
      "source": [
        "def get_voronoi_polygons(player_coords):\n",
        "    # include coordinates well outside the rink so that all the shapes for\n",
        "    # the players are closed polygons\n",
        "    voronoi = Voronoi([*player_coords, *BOUNDING_COORDS])\n",
        "\n",
        "    voronoi_polygons = []\n",
        "    for point_region in voronoi.point_region[:-4]:\n",
        "        polygon_vertices = [voronoi.vertices[regions] for regions in voronoi.regions[point_region]]\n",
        "        \n",
        "        voronoi_polygon = Polygon(polygon_vertices)\n",
        "        voronoi_polygon = voronoi_polygon.intersection(OZONE_BOARDS)\n",
        "\n",
        "        voronoi_polygons.append(voronoi_polygon)\n",
        "\n",
        "    return voronoi_polygons\n",
        "\n",
        "\n",
        "def get_goalie_polygon(player_coords, goalie_coord):\n",
        "    \"\"\" \n",
        "    Find the intersection of the goalie's section of a Voronoi diagram and the\n",
        "    allowable area for the goalie to control. This area is determined by a radius\n",
        "    around the goalie combined with the rectangular section of the crease and\n",
        "    any area needed to connect the two. The section is also cut off so that no\n",
        "    area below the goal line is included.\n",
        "    \"\"\"\n",
        "\n",
        "    voronoi_polygons = get_voronoi_polygons([*player_coords, goalie_coord])\n",
        "\n",
        "    goalie_circle = Point(goalie_coord).buffer(GOALIE_RADIUS)\n",
        "    goalie_region = goalie_circle.union(RECTANGULAR_CREASE).convex_hull\n",
        "\n",
        "    goalie_polygon = (\n",
        "        goalie_region\n",
        "        .intersection(voronoi_polygons[-1])\n",
        "        .intersection(ABOVE_GOAL_LINE)\n",
        "    )\n",
        "\n",
        "    return goalie_polygon\n",
        "\n",
        "\n",
        "def get_player_polygons(possession_coord, opponent_coords, goalie_coord):\n",
        "    skater_coords = [possession_coord, *opponent_coords]\n",
        "    voronoi_polygons = get_voronoi_polygons(skater_coords)\n",
        "    goalie_polygon = get_goalie_polygon(skater_coords, goalie_coord)\n",
        "\n",
        "    skater_polygons = [polygon.difference(goalie_polygon) for polygon in voronoi_polygons]\n",
        "\n",
        "    return [*skater_polygons, goalie_polygon]"
      ],
      "metadata": {
        "id": "qkObYXiWaZqe"
      },
      "execution_count": 14,
      "outputs": []
    },
    {
      "cell_type": "markdown",
      "source": [
        "## Desirable Ice"
      ],
      "metadata": {
        "id": "_DwrqmKX8L4n"
      }
    },
    {
      "cell_type": "markdown",
      "source": [
        "- Desirable ice is relative to the player with possession. It includes the pre-determined danger zone around the net and any ice required to connect the player to the danger zone.  \n",
        "- Available ice is all of the desirable ice that intersects with the player's section from the Voronoi diagram.\n",
        "\n",
        "The net is cut out of both sections. When a player is behind the net, this assumes that the distance to the front of the net is a straight-line. Obviously, that isn't accurate, but typically the goalie and defenders will take away the effected area and errors will be minimal."
      ],
      "metadata": {
        "id": "GdfZFhC68Q5j"
      }
    },
    {
      "cell_type": "code",
      "source": [
        "def get_desirable_ice(player_coord):\n",
        "    return (\n",
        "        Point(player_coord)\n",
        "        .union(DANGER_ZONE)\n",
        "        .convex_hull\n",
        "        .difference(NET_POLYGON)\n",
        "    )\n",
        "\n",
        "\n",
        "def get_available_ice(desirable_ice, player_polygon):\n",
        "    return player_polygon.intersection(desirable_ice)\n",
        "\n",
        "\n",
        "def compute_available_pct(row):\n",
        "    player_coord, opponent_coords, goalie_coord = get_row_coords(row)\n",
        "    player_polygons = get_player_polygons(player_coord, opponent_coords, goalie_coord)\n",
        "\n",
        "    desirable_ice = get_desirable_ice(player_coord)\n",
        "    available_ice = get_available_ice(desirable_ice, player_polygons[0])\n",
        "\n",
        "    return available_ice.area / desirable_ice.area"
      ],
      "metadata": {
        "id": "rYVj3LtAa902"
      },
      "execution_count": 15,
      "outputs": []
    },
    {
      "cell_type": "markdown",
      "source": [
        "# Combining Data"
      ],
      "metadata": {
        "id": "mR6cZeIM8woH"
      }
    },
    {
      "cell_type": "markdown",
      "source": [
        "Combining data from the tracking files and the play-by-play into three csv files.\n",
        "- One containing play-by-play data relevant to the powerplays.\n",
        "- One containing details on which player is in possession in each from of the tracking data.\n",
        "- One containing coordinates of players based on which player is in possession.\n",
        "\n",
        "CAN-USA P3 PP7 and USA-FIN P3 PP5 are omitted as they are empty net situations; this will be restricted to 5-on-4 play."
      ],
      "metadata": {
        "id": "bBB-KwoOf4GC"
      }
    },
    {
      "cell_type": "code",
      "source": [
        "# keys are the name of the game, values are the period and powerplay numbers of available data\n",
        "game_ids = {\n",
        "    \"2022-02-08 Canada at USA\": [(1, 1), (1, 2), (2, 3), (2, 5), (3, 6)],\n",
        "    \"2022-02-08 ROC at Finland\": [(1, 1), (2, 2), (2, 5), (3, 6)],\n",
        "    \"2022-02-12 Switzerland at ROC\": [(1, 1), (1, 2), (3, 3), (3, 5)],\n",
        "    \"2022-02-14 Switzerland at Canada\": [(1, 1), (1, 2), (2, 4), (3, 5)],\n",
        "    \"2022-02-14 USA at Finland\": [(2, 1), (2, 3), (3, 4)],\n",
        "    \"2022-02-16 Switzerland at Finland\": [(1, 1), (1, 2), (2, 3), (2, 4), (2, 5), (3, 6), (3, 7), (3, 8)],\n",
        "}\n",
        "\n",
        "\n",
        "powerplays = []\n",
        "possessions = []\n",
        "coords_dfs = []\n",
        "for game_name, ids in tqdm(game_ids.items()):\n",
        "    game_date, away_team, _, home_team = game_name.split(\" \")\n",
        "    repo_game = game_name.replace(\" \", '%20')\n",
        "\n",
        "    roster = get_roster(repo_game)\n",
        "\n",
        "    for period, pp_number in tqdm(ids, desc=game_name):\n",
        "        pp_name = f\"{game_name} P{period} PP{pp_number}\"\n",
        "        tracking = get_tracking(repo_game, period, pp_number, away_team, home_team, roster)\n",
        "\n",
        "        powerplay = get_powerplay(pbp, tracking, game_date, away_team, home_team)\n",
        "        powerplay[\"pp_name\"] = pp_name\n",
        "        powerplays.append(powerplay)\n",
        "\n",
        "        possession = get_possession(tracking, powerplay)\n",
        "        possession[\"pp_name\"] = pp_name\n",
        "        possessions.append(possession)\n",
        "\n",
        "        coords_df = get_coords(tracking, possession)\n",
        "        coords_df[\"available_pct\"] = coords_df.apply(compute_available_pct, axis=1)\n",
        "        is_next_frame = (coords_df.frame_id - coords_df.frame_id.shift(1)) == 1\n",
        "        coords_df.loc[is_next_frame, \"previous_available\"] = coords_df.available_pct.shift(1)\n",
        "        coords_df[\"opponent\"] = coords_df.team_name.map(\n",
        "            {home_team: away_team, away_team: home_team}\n",
        "        )\n",
        "        coords_df[\"pp_name\"] = pp_name\n",
        "\n",
        "        coords_dfs.append(coords_df)\n",
        "\n",
        "powerplay_pbp = pd.concat(powerplays)\n",
        "powerplay_possession = pd.concat(possessions)\n",
        "powerplay_coords = pd.concat(coords_dfs)"
      ],
      "metadata": {
        "colab": {
          "base_uri": "https://localhost:8080/",
          "height": 241,
          "referenced_widgets": [
            "6da7414851da49998cca78d1f8d743ae",
            "763bcfe26e1c489fb32f86f9b09fc9b1",
            "42f7a9ce566f43f0ab31fd1ead27f61e",
            "5f0c80d1c4d8426ea7a052ff88376496",
            "2f20a394733e41828847713384d28244",
            "d3d3644a3d2941489cba1fc00ec99202",
            "d29d7cc6ab3b4672bd80b0779dce815e",
            "9ffcdaf2b90648b18c4754aef875d299",
            "39f915d5b7204b90ba849132bea6296b",
            "c5dd59c2f3ad4416a45a04917baf17d8",
            "44667e0c61b8483fb1f2370a3368965a",
            "94ca1d398051481d96e5b29f7d98c4f4",
            "e7d452c33d6049eeba284b74be16b6d3",
            "6724643f0dbf4993a16e65986ed017c8",
            "fd798a89c0a14c5db69cb918d8bf622b",
            "bc4d387aab1e4902b8dd72c522fceb39",
            "4441f0e369684688b5fb7f728c909775",
            "e67ca4f16cae46659527c512d02dcc0f",
            "348a9e1ec5bf4e8a927f79a0920590ab",
            "6637455bae4d44f0bc90e70018bcfeb2",
            "8832a5d6bcfc4f2685f04bea50904a03",
            "2389ee0f951c44ca988b194576e026c8",
            "a4aca4ed972f4f18af5bc4acbe42a41a",
            "eed1fb91c6fd42488a7fcdd3ef936dde",
            "88d30afa4b0c4c6fbe1582e01eba591f",
            "893a736b67cb402d82f59f08579e9505",
            "0a66ea25ff70470ab2d5550925bed3db",
            "9eb9cf50790448abbdaa39ed55d899d7",
            "a4a98b3b29c3435186243307dbdf7937",
            "26842a0c9c0a48168b6bebe1d2637fae",
            "826c80537c52495fb131db85acf7df0a",
            "215bb18e6b684b2fbdaa310a2f5850e1",
            "d749fca764ef4a61b4688e471b7c7652",
            "76a7b9d1f4e648ee957db37ec92e1834",
            "3988b2c7c820490588ce730fc5a84ddb",
            "0912b6eb40b4487390951d6a6b9ade15",
            "fa58b6e6a1974bb897c09bb1a93d613e",
            "c8f145f98d4c4709acb57edd512dc889",
            "f366faf5f1334001a637812ea9a2dd45",
            "68c7d25c62f24548aa205718334acf37",
            "7e41c6f7dcfe4d859e40ab8d2be42576",
            "883ab1556560496cb82bcc16b48e740d",
            "f12a98c44d2c430caaa9f721bd77d32f",
            "0a36052065264c8abd6a2a08a4709bd7",
            "5067912afc324f408d6775e19b868ec1",
            "f96652d78cb34eb8b46fda04c8dd2b07",
            "ddb23dfce9d544009fc642c6d2c77549",
            "c1a1181c441e4defbe9fa68b9065e3dd",
            "d8a74c6e233c48ab87aaa7de7817bd27",
            "bbf84efb51f04546bdd11e105e01ba65",
            "507ba206815047a593659f66de703089",
            "20b7c5b3136a4725b4eb2c87feb11977",
            "f3ba96872dd74e10aa3398b8193af947",
            "fb56304a414e40739c259980c96a2d8d",
            "741462806fc3412abe6698b384d3b2be",
            "8dadbf1282504254880df99443fffab5",
            "d9547e5077174ea993334186cb3e974b",
            "6f64f974963344f0b4f1a4bec49900ae",
            "35201b53dd154eeba1fc009db3b72a9a",
            "f251a249c1d145019a9fa2480cba5063",
            "a390002342814e1fad3072e39fc1db55",
            "73905b0e52814521b9947fd1f17ebba2",
            "d3a7fcbb82bb402cb9c5e887fca72078",
            "09a330537cb54ff0874a3e4426a43fab",
            "0481d6a1a83c40cda484bac3320b0448",
            "980481a23c4b4476842993893f9afd6f",
            "c416b81c4bdb4c42a598f1d7196efacc",
            "980b3bd492394e688d03fc0ae5568dec",
            "57007b6eb5ea4d07b966fc91f1b3cc1c",
            "d125b307ad0d4e9bbbb8ec8eb87a19c3",
            "de7a6a847cc74c61aca4848b0cebb766",
            "79d21e0edb6e44ba80cabfc36ce898ee",
            "7adcdc01b9ac44e78f2ed32d1f674f49",
            "b7b3233affe14e288112148ecbe8f12f",
            "779e79ac30184050ad8cf31f81514c60",
            "0c7b02372ea0420faf688354cfec56a5",
            "ac73e90d83f947c6848bd077688b2a8b"
          ]
        },
        "id": "oEFg2aZSTcEQ",
        "outputId": "f2383d11-f61a-47fc-aa25-fbcdb89d9c30"
      },
      "execution_count": 16,
      "outputs": [
        {
          "output_type": "display_data",
          "data": {
            "text/plain": [
              "  0%|          | 0/6 [00:00<?, ?it/s]"
            ],
            "application/vnd.jupyter.widget-view+json": {
              "version_major": 2,
              "version_minor": 0,
              "model_id": "6da7414851da49998cca78d1f8d743ae"
            }
          },
          "metadata": {}
        },
        {
          "output_type": "display_data",
          "data": {
            "text/plain": [
              "2022-02-08 Canada at USA:   0%|          | 0/5 [00:00<?, ?it/s]"
            ],
            "application/vnd.jupyter.widget-view+json": {
              "version_major": 2,
              "version_minor": 0,
              "model_id": "94ca1d398051481d96e5b29f7d98c4f4"
            }
          },
          "metadata": {}
        },
        {
          "output_type": "display_data",
          "data": {
            "text/plain": [
              "2022-02-08 ROC at Finland:   0%|          | 0/4 [00:00<?, ?it/s]"
            ],
            "application/vnd.jupyter.widget-view+json": {
              "version_major": 2,
              "version_minor": 0,
              "model_id": "a4aca4ed972f4f18af5bc4acbe42a41a"
            }
          },
          "metadata": {}
        },
        {
          "output_type": "display_data",
          "data": {
            "text/plain": [
              "2022-02-12 Switzerland at ROC:   0%|          | 0/4 [00:00<?, ?it/s]"
            ],
            "application/vnd.jupyter.widget-view+json": {
              "version_major": 2,
              "version_minor": 0,
              "model_id": "76a7b9d1f4e648ee957db37ec92e1834"
            }
          },
          "metadata": {}
        },
        {
          "output_type": "display_data",
          "data": {
            "text/plain": [
              "2022-02-14 Switzerland at Canada:   0%|          | 0/4 [00:00<?, ?it/s]"
            ],
            "application/vnd.jupyter.widget-view+json": {
              "version_major": 2,
              "version_minor": 0,
              "model_id": "5067912afc324f408d6775e19b868ec1"
            }
          },
          "metadata": {}
        },
        {
          "output_type": "display_data",
          "data": {
            "text/plain": [
              "2022-02-14 USA at Finland:   0%|          | 0/3 [00:00<?, ?it/s]"
            ],
            "application/vnd.jupyter.widget-view+json": {
              "version_major": 2,
              "version_minor": 0,
              "model_id": "8dadbf1282504254880df99443fffab5"
            }
          },
          "metadata": {}
        },
        {
          "output_type": "display_data",
          "data": {
            "text/plain": [
              "2022-02-16 Switzerland at Finland:   0%|          | 0/8 [00:00<?, ?it/s]"
            ],
            "application/vnd.jupyter.widget-view+json": {
              "version_major": 2,
              "version_minor": 0,
              "model_id": "c416b81c4bdb4c42a598f1d7196efacc"
            }
          },
          "metadata": {}
        }
      ]
    },
    {
      "cell_type": "code",
      "source": [
        "powerplay_pbp.to_csv(\"powerplay_pbp.csv\", index=False)\n",
        "powerplay_possession.to_csv(\"powerplay_possession.csv\", index=False)\n",
        "powerplay_coords.to_csv(\"powerplay_coords.csv\", index=False)"
      ],
      "metadata": {
        "id": "sTqQ1VvCgtuG"
      },
      "execution_count": 17,
      "outputs": []
    },
    {
      "cell_type": "markdown",
      "source": [
        "# Visualizing an Example"
      ],
      "metadata": {
        "id": "PwEi-NKqpMDl"
      }
    },
    {
      "cell_type": "markdown",
      "source": [
        "Using the first row of the coordinate data to see what things look like."
      ],
      "metadata": {
        "id": "vMOul2qm9ind"
      }
    },
    {
      "cell_type": "code",
      "source": [
        "row = powerplay_coords.iloc[0]\n",
        "\n",
        "row"
      ],
      "metadata": {
        "colab": {
          "base_uri": "https://localhost:8080/"
        },
        "id": "DuVUyJZK_Xj3",
        "outputId": "25d90bca-0401-4f2d-a319-cc1b556b1923"
      },
      "execution_count": 18,
      "outputs": [
        {
          "output_type": "execute_result",
          "data": {
            "text/plain": [
              "frame_id                                                            301\n",
              "opponent_coords       ((187.278571, 37.64763874), (167.1163005, 34.7...\n",
              "goalie_coord                                 (187.2585244, 43.18264129)\n",
              "x                                                            195.732672\n",
              "y                                                             63.352362\n",
              "possession_coord                             (195.7326717, 63.35236208)\n",
              "team_name                                                        Canada\n",
              "acquisition                                                    Retained\n",
              "is_zone_entry                                                     False\n",
              "available_pct                                                  0.090479\n",
              "previous_available                                                  NaN\n",
              "opponent                                                            USA\n",
              "pp_name                                 2022-02-08 Canada at USA P1 PP1\n",
              "Name: 0, dtype: object"
            ]
          },
          "metadata": {},
          "execution_count": 18
        }
      ]
    },
    {
      "cell_type": "markdown",
      "source": [
        "Thanks to the unusual shape of the goalie zone, shapes may be made up of multiple unconnected polygons. The workaround is to create lists of required polygons for each shape."
      ],
      "metadata": {
        "id": "r62sOpECXYEu"
      }
    },
    {
      "cell_type": "code",
      "source": [
        "def get_sub_polygons(polygon):\n",
        "    try:\n",
        "        # need to avoid line segments\n",
        "        sub_polygons = [\n",
        "            sub_polygon\n",
        "            for sub_polygon in polygon.geoms\n",
        "            if isinstance(sub_polygon, Polygon)\n",
        "        ]\n",
        "    except AttributeError:\n",
        "        sub_polygons = [] if polygon.is_empty else [polygon]\n",
        "\n",
        "    return sub_polygons"
      ],
      "metadata": {
        "id": "z9ApPGmaXWWT"
      },
      "execution_count": 19,
      "outputs": []
    },
    {
      "cell_type": "code",
      "source": [
        "row_coords = get_row_coords(row)\n",
        "possession_coord, opponent_coords, goalie_coord = row_coords\n",
        "\n",
        "player_polygons = get_player_polygons(*row_coords)\n",
        "sub_polygons = [sub_polygon for polygon in player_polygons for sub_polygon in get_sub_polygons(polygon)]\n",
        "\n",
        "desirable_ice = get_desirable_ice(row.possession_coord)\n",
        "available_ice = get_available_ice(desirable_ice, player_polygons[0])"
      ],
      "metadata": {
        "id": "i-rbLYuAnzHL"
      },
      "execution_count": 20,
      "outputs": []
    },
    {
      "cell_type": "markdown",
      "source": [
        "## Voronoi Regions"
      ],
      "metadata": {
        "id": "pdKF-s7P94Oy"
      }
    },
    {
      "cell_type": "code",
      "source": [
        "rink = BDCRink(rotation=270, net={\"color\": \"black\", \"zorder\": 90})\n",
        "ax = rink.draw(display_range=\"ozone\")\n",
        "\n",
        "rink.scatter(*possession_coord, zorder=95)\n",
        "rink.scatter(*zip(*opponent_coords))\n",
        "rink.scatter(*goalie_coord, zorder=95)\n",
        "\n",
        "for sub_polygon in sub_polygons:\n",
        "    if not sub_polygon.is_empty:\n",
        "        ax.fill(*rink.convert_xy(*sub_polygon.exterior.xy), alpha=0.8, edgecolor=\"black\", zorder=19)"
      ],
      "metadata": {
        "colab": {
          "base_uri": "https://localhost:8080/",
          "height": 248
        },
        "id": "_aq174OYGRjH",
        "outputId": "fea9be88-cc43-495f-a431-0b665b304f3b"
      },
      "execution_count": 21,
      "outputs": [
        {
          "output_type": "display_data",
          "data": {
            "text/plain": [
              "<Figure size 432x288 with 1 Axes>"
            ],
            "image/png": "[encoded data removed]"
          },
          "metadata": {
            "needs_background": "light"
          }
        }
      ]
    },
    {
      "cell_type": "markdown",
      "source": [
        "## Desirable Ice"
      ],
      "metadata": {
        "id": "hAk1qhi-997e"
      }
    },
    {
      "cell_type": "code",
      "source": [
        "rink = BDCRink(rotation=270, crease={\"color\": \"white\"})\n",
        "ax = rink.draw(display_range=\"ozone\")\n",
        "\n",
        "rink.scatter(*possession_coord, edgecolor=\"black\")\n",
        "rink.scatter(*zip(*opponent_coords), edgecolor=\"black\")\n",
        "rink.scatter(*goalie_coord, edgecolor=\"black\")\n",
        "\n",
        "for sub_polygon in sub_polygons:\n",
        "    rink.plot(*sub_polygon.exterior.xy, ax=ax)\n",
        "\n",
        "for sub_desirable in get_sub_polygons(desirable_ice):\n",
        "    ax.fill(*rink.convert_xy(*sub_desirable.exterior.xy), color=\"salmon\", alpha=0.5)\n",
        "\n",
        "for sub_available in get_sub_polygons(available_ice):\n",
        "    ax.fill(*rink.convert_xy(*sub_available.exterior.xy), color=\"darkblue\", alpha=0.5)\n",
        "\n",
        "ax.set_title(f\"Available Area: {round(row.available_pct * 100, 2)}%\");"
      ],
      "metadata": {
        "colab": {
          "base_uri": "https://localhost:8080/",
          "height": 264
        },
        "id": "6CFAzfm8KRtF",
        "outputId": "1ec46596-4ce9-40d7-b4ed-17d03d7e63e7"
      },
      "execution_count": 22,
      "outputs": [
        {
          "output_type": "display_data",
          "data": {
            "text/plain": [
              "<Figure size 432x288 with 1 Axes>"
            ],
            "image/png": "[encoded data removed]"
          },
          "metadata": {
            "needs_background": "light"
          }
        }
      ]
    },
    {
      "cell_type": "code",
      "source": [
        ""
      ],
      "metadata": {
        "id": "BHEimkY7EEPW"
      },
      "execution_count": 22,
      "outputs": []
    }
  ]
}