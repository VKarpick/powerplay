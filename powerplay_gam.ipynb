{
  "nbformat": 4,
  "nbformat_minor": 0,
  "metadata": {
    "colab": {
      "name": "powerplay_gam.ipynb",
      "provenance": [],
      "collapsed_sections": [],
      "authorship_tag": "ABX9TyN6G5ohBgJ2Diekr5Vc8ywl",
      "include_colab_link": true
    },
    "kernelspec": {
      "name": "python3",
      "display_name": "Python 3"
    },
    "language_info": {
      "name": "python"
    }
  },
  "cells": [
    {
      "cell_type": "markdown",
      "metadata": {
        "id": "view-in-github",
        "colab_type": "text"
      },
      "source": [
        "<a href=\"https://colab.research.google.com/github/VKarpick/powerplay/blob/main/powerplay_gam.ipynb\" target=\"_parent\"><img src=\"https://colab.research.google.com/assets/colab-badge.svg\" alt=\"Open In Colab\"/></a>"
      ]
    },
    {
      "cell_type": "markdown",
      "source": [
        "# Installing and Importing Packages"
      ],
      "metadata": {
        "id": "tlxJlBxSxR9P"
      }
    },
    {
      "cell_type": "code",
      "source": [
        "!pip install hockey-rink pygam"
      ],
      "metadata": {
        "colab": {
          "base_uri": "https://localhost:8080/"
        },
        "id": "afsm55vLCpKD",
        "outputId": "d5c4051d-a357-4465-d04f-be8df6debd79"
      },
      "execution_count": 1,
      "outputs": [
        {
          "output_type": "stream",
          "name": "stdout",
          "text": [
            "Collecting hockey-rink\n",
            "  Downloading hockey_rink-0.1.7.tar.gz (34 kB)\n",
            "Collecting pygam\n",
            "  Downloading pygam-0.8.0-py2.py3-none-any.whl (1.8 MB)\n",
            "\u001b[K     |████████████████████████████████| 1.8 MB 8.2 MB/s \n",
            "\u001b[?25hRequirement already satisfied: matplotlib in /usr/local/lib/python3.7/dist-packages (from hockey-rink) (3.2.2)\n",
            "Requirement already satisfied: numpy in /usr/local/lib/python3.7/dist-packages (from hockey-rink) (1.21.6)\n",
            "Requirement already satisfied: scipy in /usr/local/lib/python3.7/dist-packages (from hockey-rink) (1.4.1)\n",
            "Requirement already satisfied: future in /usr/local/lib/python3.7/dist-packages (from pygam) (0.16.0)\n",
            "Requirement already satisfied: progressbar2 in /usr/local/lib/python3.7/dist-packages (from pygam) (3.38.0)\n",
            "Requirement already satisfied: cycler>=0.10 in /usr/local/lib/python3.7/dist-packages (from matplotlib->hockey-rink) (0.11.0)\n",
            "Requirement already satisfied: pyparsing!=2.0.4,!=2.1.2,!=2.1.6,>=2.0.1 in /usr/local/lib/python3.7/dist-packages (from matplotlib->hockey-rink) (3.0.8)\n",
            "Requirement already satisfied: python-dateutil>=2.1 in /usr/local/lib/python3.7/dist-packages (from matplotlib->hockey-rink) (2.8.2)\n",
            "Requirement already satisfied: kiwisolver>=1.0.1 in /usr/local/lib/python3.7/dist-packages (from matplotlib->hockey-rink) (1.4.2)\n",
            "Requirement already satisfied: typing-extensions in /usr/local/lib/python3.7/dist-packages (from kiwisolver>=1.0.1->matplotlib->hockey-rink) (4.2.0)\n",
            "Requirement already satisfied: six>=1.5 in /usr/local/lib/python3.7/dist-packages (from python-dateutil>=2.1->matplotlib->hockey-rink) (1.15.0)\n",
            "Requirement already satisfied: python-utils>=2.3.0 in /usr/local/lib/python3.7/dist-packages (from progressbar2->pygam) (3.1.0)\n",
            "Building wheels for collected packages: hockey-rink\n",
            "  Building wheel for hockey-rink (setup.py) ... \u001b[?25l\u001b[?25hdone\n",
            "  Created wheel for hockey-rink: filename=hockey_rink-0.1.7-py3-none-any.whl size=34876 sha256=5280f029b0121dff4f3c4f4ce3097712e26faeda0c3ea0bf0183bc59bb668947\n",
            "  Stored in directory: /root/.cache/pip/wheels/9b/9c/06/217d4c3a942284788e7fce440ef4e47a8d032cdceb372ff7ec\n",
            "Successfully built hockey-rink\n",
            "Installing collected packages: pygam, hockey-rink\n",
            "Successfully installed hockey-rink-0.1.7 pygam-0.8.0\n"
          ]
        }
      ]
    },
    {
      "cell_type": "code",
      "execution_count": 2,
      "metadata": {
        "id": "NU-0dzYlCkoT"
      },
      "outputs": [],
      "source": [
        "from hockey_rink import Rink\n",
        "from hyperopt import fmin, hp, STATUS_OK, tpe, Trials\n",
        "import matplotlib.pyplot as plt\n",
        "import numpy as np\n",
        "import pandas as pd\n",
        "import pickle\n",
        "from pygam import GAM\n",
        "from pygam.terms import TermList, FactorTerm, SplineTerm, TensorTerm\n",
        "from sklearn.preprocessing import StandardScaler\n",
        "import warnings"
      ]
    },
    {
      "cell_type": "markdown",
      "source": [
        "# Transforming the Data"
      ],
      "metadata": {
        "id": "QAwFHvYExY0J"
      }
    },
    {
      "cell_type": "markdown",
      "source": [
        "The features to be used in the GAM are:\n",
        "- x and y coordinates of the puckhandler.\n",
        " - These will be symmetrized so everything is considered to have happened in the same half of the ozone.\n",
        "- Proportion of area available to the puckhandler in the previous frame.\n",
        "- How the puck was acquired from the previous frame:\n",
        " - Continuation: the puck carrier maintained control of the puck.\n",
        " - Puck Recovery: either a recovery of a loose puck or a takeaway.\n",
        " - Reception: gained control off a pass.\n",
        " - Retained: the puck carrier maintained control of the puck but the data for the previous frame was unavailable.\n",
        " - Zone Entry: first frame upon entering the zone.\n",
        "- Team on the powerplay.\n",
        "- Team on the penalty kill.\n",
        "- A binary variable denoting whether or not the proportion of area from the previous frame is available.\n",
        " - This will be used as a type of gating mechanism to remove the proportions from the calculation when not available."
      ],
      "metadata": {
        "id": "kwwqQVNExgci"
      }
    },
    {
      "cell_type": "code",
      "source": [
        "MAX_EVALS = 100\n",
        "\n",
        "filename = \"https://raw.githubusercontent.com/VKarpick/powerplay/main/data/powerplay_coords.csv\"\n",
        "coords_df = pd.read_csv(filename)\n",
        "standard_scaler = StandardScaler()"
      ],
      "metadata": {
        "id": "9SLF98BLCm80"
      },
      "execution_count": 3,
      "outputs": []
    },
    {
      "cell_type": "code",
      "source": [
        "target = coords_df.available_pct"
      ],
      "metadata": {
        "id": "sLKiccVbn71g"
      },
      "execution_count": 4,
      "outputs": []
    },
    {
      "cell_type": "code",
      "source": [
        "numeric_columns = [\"x\", \"y\", \"previous_available\"]\n",
        "categorical_columns = [\"acquisition\", \"team_name\", \"opponent\"]\n",
        "\n",
        "features = coords_df.copy()[numeric_columns + categorical_columns]\n",
        "\n",
        "# move everything to the same half of the rink\n",
        "features.x = (features.x - 100).abs()\n",
        "features.y = (features.y - 42.5).abs()\n",
        "\n",
        "# keep everything within the bounds of the ozone, ignoring the curve in the boards\n",
        "features.x = features.x.clip(25, 100)\n",
        "features.y = features.y.clip(0, 42.5)\n",
        "\n",
        "# standardize numeric columns\n",
        "features[numeric_columns] = standard_scaler.fit_transform(\n",
        "    features[numeric_columns]\n",
        ")\n",
        "\n",
        "# create separate acquisition category for continuation of puck control\n",
        "has_previous = ~features.previous_available.isna()\n",
        "features.loc[has_previous, \"acquisition\"] = \"Continuation\"\n",
        "\n",
        "# convert categorical columns to numbers for use in factor terms\n",
        "cat_codes = {}\n",
        "for categorical_column in categorical_columns:\n",
        "    factorized_codes = features[categorical_column].factorize()\n",
        "    features[categorical_column] = factorized_codes[0]\n",
        "    cat_codes[categorical_column] = list(enumerate(factorized_codes[1]))\n",
        "\n",
        "# binary variable to be used as a gate for whether or not to use previous_area\n",
        "features[\"is_continuation\"] = has_previous.astype(int)\n",
        "\n",
        "# can't have NA values\n",
        "# gating will prevent previous_available from being where it oughtn't\n",
        "features.previous_available = features.previous_available.fillna(0)"
      ],
      "metadata": {
        "id": "rZwwtXtpykXn"
      },
      "execution_count": 5,
      "outputs": []
    },
    {
      "cell_type": "code",
      "source": [
        "features.join(target).head()"
      ],
      "metadata": {
        "colab": {
          "base_uri": "https://localhost:8080/",
          "height": 206
        },
        "id": "fD4PkLwy0tNT",
        "outputId": "a5a7756c-253b-4ef2-dcef-d3e4c99f904b"
      },
      "execution_count": 6,
      "outputs": [
        {
          "output_type": "execute_result",
          "data": {
            "text/plain": [
              "          x         y  previous_available  acquisition  team_name  opponent  \\\n",
              "0  1.900041 -0.118411            0.000000            0          0         0   \n",
              "1  1.888596 -0.088380            1.157579            1          0         0   \n",
              "2  1.896290 -0.048832            1.140741            1          0         0   \n",
              "3  1.896118 -0.014697            0.999932            1          0         0   \n",
              "4  1.905860 -0.012139            1.018609            1          0         0   \n",
              "\n",
              "   is_continuation  available_pct  \n",
              "0                0       0.090479  \n",
              "1                1       0.089837  \n",
              "2                1       0.084462  \n",
              "3                1       0.085175  \n",
              "4                1       0.085134  "
            ],
            "text/html": [
              "\n",
              "  <div id=\"df-6a742100-efca-42cf-99c4-d8cc174e6039\">\n",
              "    <div class=\"colab-df-container\">\n",
              "      <div>\n",
              "<style scoped>\n",
              "    .dataframe tbody tr th:only-of-type {\n",
              "        vertical-align: middle;\n",
              "    }\n",
              "\n",
              "    .dataframe tbody tr th {\n",
              "        vertical-align: top;\n",
              "    }\n",
              "\n",
              "    .dataframe thead th {\n",
              "        text-align: right;\n",
              "    }\n",
              "</style>\n",
              "<table border=\"1\" class=\"dataframe\">\n",
              "  <thead>\n",
              "    <tr style=\"text-align: right;\">\n",
              "      <th></th>\n",
              "      <th>x</th>\n",
              "      <th>y</th>\n",
              "      <th>previous_available</th>\n",
              "      <th>acquisition</th>\n",
              "      <th>team_name</th>\n",
              "      <th>opponent</th>\n",
              "      <th>is_continuation</th>\n",
              "      <th>available_pct</th>\n",
              "    </tr>\n",
              "  </thead>\n",
              "  <tbody>\n",
              "    <tr>\n",
              "      <th>0</th>\n",
              "      <td>1.900041</td>\n",
              "      <td>-0.118411</td>\n",
              "      <td>0.000000</td>\n",
              "      <td>0</td>\n",
              "      <td>0</td>\n",
              "      <td>0</td>\n",
              "      <td>0</td>\n",
              "      <td>0.090479</td>\n",
              "    </tr>\n",
              "    <tr>\n",
              "      <th>1</th>\n",
              "      <td>1.888596</td>\n",
              "      <td>-0.088380</td>\n",
              "      <td>1.157579</td>\n",
              "      <td>1</td>\n",
              "      <td>0</td>\n",
              "      <td>0</td>\n",
              "      <td>1</td>\n",
              "      <td>0.089837</td>\n",
              "    </tr>\n",
              "    <tr>\n",
              "      <th>2</th>\n",
              "      <td>1.896290</td>\n",
              "      <td>-0.048832</td>\n",
              "      <td>1.140741</td>\n",
              "      <td>1</td>\n",
              "      <td>0</td>\n",
              "      <td>0</td>\n",
              "      <td>1</td>\n",
              "      <td>0.084462</td>\n",
              "    </tr>\n",
              "    <tr>\n",
              "      <th>3</th>\n",
              "      <td>1.896118</td>\n",
              "      <td>-0.014697</td>\n",
              "      <td>0.999932</td>\n",
              "      <td>1</td>\n",
              "      <td>0</td>\n",
              "      <td>0</td>\n",
              "      <td>1</td>\n",
              "      <td>0.085175</td>\n",
              "    </tr>\n",
              "    <tr>\n",
              "      <th>4</th>\n",
              "      <td>1.905860</td>\n",
              "      <td>-0.012139</td>\n",
              "      <td>1.018609</td>\n",
              "      <td>1</td>\n",
              "      <td>0</td>\n",
              "      <td>0</td>\n",
              "      <td>1</td>\n",
              "      <td>0.085134</td>\n",
              "    </tr>\n",
              "  </tbody>\n",
              "</table>\n",
              "</div>\n",
              "      <button class=\"colab-df-convert\" onclick=\"convertToInteractive('df-6a742100-efca-42cf-99c4-d8cc174e6039')\"\n",
              "              title=\"Convert this dataframe to an interactive table.\"\n",
              "              style=\"display:none;\">\n",
              "        \n",
              "  <svg xmlns=\"http://www.w3.org/2000/svg\" height=\"24px\"viewBox=\"0 0 24 24\"\n",
              "       width=\"24px\">\n",
              "    <path d=\"M0 0h24v24H0V0z\" fill=\"none\"/>\n",
              "    <path d=\"M18.56 5.44l.94 2.06.94-2.06 2.06-.94-2.06-.94-.94-2.06-.94 2.06-2.06.94zm-11 1L8.5 8.5l.94-2.06 2.06-.94-2.06-.94L8.5 2.5l-.94 2.06-2.06.94zm10 10l.94 2.06.94-2.06 2.06-.94-2.06-.94-.94-2.06-.94 2.06-2.06.94z\"/><path d=\"M17.41 7.96l-1.37-1.37c-.4-.4-.92-.59-1.43-.59-.52 0-1.04.2-1.43.59L10.3 9.45l-7.72 7.72c-.78.78-.78 2.05 0 2.83L4 21.41c.39.39.9.59 1.41.59.51 0 1.02-.2 1.41-.59l7.78-7.78 2.81-2.81c.8-.78.8-2.07 0-2.86zM5.41 20L4 18.59l7.72-7.72 1.47 1.35L5.41 20z\"/>\n",
              "  </svg>\n",
              "      </button>\n",
              "      \n",
              "  <style>\n",
              "    .colab-df-container {\n",
              "      display:flex;\n",
              "      flex-wrap:wrap;\n",
              "      gap: 12px;\n",
              "    }\n",
              "\n",
              "    .colab-df-convert {\n",
              "      background-color: #E8F0FE;\n",
              "      border: none;\n",
              "      border-radius: 50%;\n",
              "      cursor: pointer;\n",
              "      display: none;\n",
              "      fill: #1967D2;\n",
              "      height: 32px;\n",
              "      padding: 0 0 0 0;\n",
              "      width: 32px;\n",
              "    }\n",
              "\n",
              "    .colab-df-convert:hover {\n",
              "      background-color: #E2EBFA;\n",
              "      box-shadow: 0px 1px 2px rgba(60, 64, 67, 0.3), 0px 1px 3px 1px rgba(60, 64, 67, 0.15);\n",
              "      fill: #174EA6;\n",
              "    }\n",
              "\n",
              "    [theme=dark] .colab-df-convert {\n",
              "      background-color: #3B4455;\n",
              "      fill: #D2E3FC;\n",
              "    }\n",
              "\n",
              "    [theme=dark] .colab-df-convert:hover {\n",
              "      background-color: #434B5C;\n",
              "      box-shadow: 0px 1px 3px 1px rgba(0, 0, 0, 0.15);\n",
              "      filter: drop-shadow(0px 1px 2px rgba(0, 0, 0, 0.3));\n",
              "      fill: #FFFFFF;\n",
              "    }\n",
              "  </style>\n",
              "\n",
              "      <script>\n",
              "        const buttonEl =\n",
              "          document.querySelector('#df-6a742100-efca-42cf-99c4-d8cc174e6039 button.colab-df-convert');\n",
              "        buttonEl.style.display =\n",
              "          google.colab.kernel.accessAllowed ? 'block' : 'none';\n",
              "\n",
              "        async function convertToInteractive(key) {\n",
              "          const element = document.querySelector('#df-6a742100-efca-42cf-99c4-d8cc174e6039');\n",
              "          const dataTable =\n",
              "            await google.colab.kernel.invokeFunction('convertToInteractive',\n",
              "                                                     [key], {});\n",
              "          if (!dataTable) return;\n",
              "\n",
              "          const docLinkHtml = 'Like what you see? Visit the ' +\n",
              "            '<a target=\"_blank\" href=https://colab.research.google.com/notebooks/data_table.ipynb>data table notebook</a>'\n",
              "            + ' to learn more about interactive tables.';\n",
              "          element.innerHTML = '';\n",
              "          dataTable['output_type'] = 'display_data';\n",
              "          await google.colab.output.renderOutput(dataTable, element);\n",
              "          const docLink = document.createElement('div');\n",
              "          docLink.innerHTML = docLinkHtml;\n",
              "          element.appendChild(docLink);\n",
              "        }\n",
              "      </script>\n",
              "    </div>\n",
              "  </div>\n",
              "  "
            ]
          },
          "metadata": {},
          "execution_count": 6
        }
      ]
    },
    {
      "cell_type": "code",
      "source": [
        "list(enumerate(features.columns))"
      ],
      "metadata": {
        "colab": {
          "base_uri": "https://localhost:8080/"
        },
        "id": "fJFMpYuTPXe-",
        "outputId": "983954cd-c1b3-43a7-b76b-a30c2eb8da0d"
      },
      "execution_count": 7,
      "outputs": [
        {
          "output_type": "execute_result",
          "data": {
            "text/plain": [
              "[(0, 'x'),\n",
              " (1, 'y'),\n",
              " (2, 'previous_available'),\n",
              " (3, 'acquisition'),\n",
              " (4, 'team_name'),\n",
              " (5, 'opponent'),\n",
              " (6, 'is_continuation')]"
            ]
          },
          "metadata": {},
          "execution_count": 7
        }
      ]
    },
    {
      "cell_type": "markdown",
      "source": [
        "The GAM will include:\n",
        "- An interaction term for the coordinates.\n",
        "- A spline term for the previous area available, with is_continuation used as an indicator variable to multiply by 0 when unavailable.\n",
        "- Factor terms for the remaining features."
      ],
      "metadata": {
        "id": "jPrPkOpN233j"
      }
    },
    {
      "cell_type": "code",
      "source": [
        "def get_terms(params):\n",
        "    return TermList(\n",
        "        # coordinates\n",
        "        TensorTerm(\n",
        "            0, 1, \n",
        "            n_splines=[int(params[\"x_splines\"]), int(params[\"y_splines\"])],\n",
        "            lam=[params[\"x_lam\"], params[\"y_lam\"]],\n",
        "        ),\n",
        "        # only consider previous area for continuation plays\n",
        "        SplineTerm(\n",
        "            2, by=6, \n",
        "            n_splines=int(params[\"area_splines\"]),\n",
        "            lam=params[\"area_lam\"]\n",
        "        ),\n",
        "        # categoricals\n",
        "        *[FactorTerm(i, lam=params[f\"categorical_lam{i}\"]) for i in range(3, 6)],\n",
        "    )"
      ],
      "metadata": {
        "id": "XaBXxLiAIclA"
      },
      "execution_count": 8,
      "outputs": []
    },
    {
      "cell_type": "markdown",
      "source": [
        "# Hyperparameter Tuning"
      ],
      "metadata": {
        "id": "EFATrHmn2dyu"
      }
    },
    {
      "cell_type": "markdown",
      "source": [
        "Parameters to be tuned:\n",
        "- The number of splines on the tensor term for the coordinates and the spline term for previous area.\n",
        "- Smoothing / L2 penalties on all terms."
      ],
      "metadata": {
        "id": "UZq05zd42iHp"
      }
    },
    {
      "cell_type": "code",
      "source": [
        "lam_names = (\n",
        "    [\"x_lam\", \"y_lam\", \"area_lam\"] \n",
        "    + [f\"categorical_lam{i}\" for i in range(3, 6)]\n",
        ")\n",
        "\n",
        "space = {\n",
        "    \"x_splines\": hp.quniform(\"x_splines\", 10, 30, 1),\n",
        "    \"y_splines\": hp.quniform(\"y_splines\", 10, 30, 1),\n",
        "    \"area_splines\": hp.quniform(\"area_splines\", 10, 30, 1),\n",
        "    **{\n",
        "        lam_name: hp.loguniform(lam_name, np.log(0.01), np.log(100.0))\n",
        "        for lam_name in lam_names\n",
        "    },\n",
        "}"
      ],
      "metadata": {
        "id": "9qplPT0kh5JV"
      },
      "execution_count": 9,
      "outputs": []
    },
    {
      "cell_type": "markdown",
      "source": [
        "The GAM uses a logit link with a binomial distribution to predict proportions.  \n",
        "\n",
        "UBRE is used as the loss because the target variable is bounded.  \n",
        "\n",
        "Warnings are suppressed because of an underflow issue on a summary statistic that doesn't affect the actual model."
      ],
      "metadata": {
        "id": "B71E2nBlzU8_"
      }
    },
    {
      "cell_type": "code",
      "source": [
        "best_model = None\n",
        "best_loss = np.Inf\n",
        "\n",
        "\n",
        "def objective(params):\n",
        "    global best_model, best_loss\n",
        "\n",
        "    terms = get_terms(params)\n",
        "    gam = GAM(terms=terms, link=\"logit\", distribution=\"binomial\")\n",
        "    gam.fit(features, target)\n",
        "\n",
        "    loss = gam.statistics_[\"UBRE\"]\n",
        "\n",
        "    if loss < best_loss:\n",
        "        best_loss = loss\n",
        "        best_model = gam\n",
        "\n",
        "    return {\"loss\": loss, \"params\": params, \"status\": STATUS_OK}\n",
        "\n",
        "\n",
        "trials = Trials()\n",
        "\n",
        "with warnings.catch_warnings():\n",
        "    warnings.simplefilter(\"ignore\")\n",
        "\n",
        "    best_params = fmin(\n",
        "        fn=objective,\n",
        "        space=space,\n",
        "        algo=tpe.suggest,\n",
        "        max_evals=MAX_EVALS,\n",
        "        trials=trials,\n",
        "        rstate=np.random.RandomState(42)\n",
        "    )"
      ],
      "metadata": {
        "colab": {
          "base_uri": "https://localhost:8080/"
        },
        "id": "OpDdT_a0d13k",
        "outputId": "0b407cff-67e5-4f02-dff4-e32a099cbde6"
      },
      "execution_count": 10,
      "outputs": [
        {
          "output_type": "stream",
          "name": "stdout",
          "text": [
            "100%|██████████| 100/100 [09:51<00:00,  5.91s/it, best loss: 2.005213376823916]\n"
          ]
        }
      ]
    },
    {
      "cell_type": "code",
      "source": [
        "trials_df = pd.DataFrame(trials.trials)\n",
        "results = pd.json_normalize(trials_df.result)\n",
        "trials_df = trials_df.join(results)"
      ],
      "metadata": {
        "id": "mzrR6ME9kXSY"
      },
      "execution_count": 11,
      "outputs": []
    },
    {
      "cell_type": "code",
      "source": [
        "pickle.dump(best_model, open(\"powerplay_gam.pkl\", \"wb\"))\n",
        "trials_df.to_csv(\"powerplay_gam_trials.csv\", index=False)"
      ],
      "metadata": {
        "id": "y4NT3Nhfo2w5"
      },
      "execution_count": 12,
      "outputs": []
    },
    {
      "cell_type": "code",
      "source": [
        "best_params"
      ],
      "metadata": {
        "colab": {
          "base_uri": "https://localhost:8080/"
        },
        "id": "fye1I2wPavKH",
        "outputId": "4194eef2-75b3-4233-e35f-1d1c1763d0e3"
      },
      "execution_count": 24,
      "outputs": [
        {
          "output_type": "execute_result",
          "data": {
            "text/plain": [
              "{'area_lam': 55.469483945552966,\n",
              " 'area_splines': 30.0,\n",
              " 'categorical_lam3': 18.70759827355464,\n",
              " 'categorical_lam4': 33.265729867933196,\n",
              " 'categorical_lam5': 70.23315322619536,\n",
              " 'x_lam': 96.73798362014365,\n",
              " 'x_splines': 14.0,\n",
              " 'y_lam': 73.54820289032583,\n",
              " 'y_splines': 14.0}"
            ]
          },
          "metadata": {},
          "execution_count": 24
        }
      ]
    },
    {
      "cell_type": "markdown",
      "source": [
        "# Inspecting the Results"
      ],
      "metadata": {
        "id": "oEiUP6X4y5JX"
      }
    },
    {
      "cell_type": "markdown",
      "source": [
        "In addition to plotting the values returned from the partial dependency function, the values will be compared to the change they have in the intercept.  \n",
        "\n",
        "For example, if the intercept is 0.5 and the partial dependence including the intercept causes the prediction to be 0.4, a value of -0.1 will be returned.  \n",
        "\n",
        "This way allows results to be interpreted as:\n",
        "- Negative values = presence of feature associated with available space being closed off.\n",
        "- Positive values = presence of feature associated with open ice being gained."
      ],
      "metadata": {
        "id": "MTcKwViaVllC"
      }
    },
    {
      "cell_type": "code",
      "source": [
        "def compute_model_link(values):\n",
        "    return best_model.link.mu(values, best_model.distribution)\n",
        "\n",
        "\n",
        "intercept = best_model.coef_[-1]\n",
        "intercept_link = compute_model_link(intercept)\n",
        "\n",
        "\n",
        "def compute_link_values(values):\n",
        "    return compute_model_link(values + intercept) - intercept_link\n",
        "\n",
        "\n",
        "intercept, intercept_link"
      ],
      "metadata": {
        "colab": {
          "base_uri": "https://localhost:8080/"
        },
        "id": "9lPMV_i9qGrt",
        "outputId": "498a9f2c-0c4b-46da-87e6-88afd0b9b108"
      },
      "execution_count": 13,
      "outputs": [
        {
          "output_type": "execute_result",
          "data": {
            "text/plain": [
              "(-2.7051489189330296, 0.06267021293584717)"
            ]
          },
          "metadata": {},
          "execution_count": 13
        }
      ]
    },
    {
      "cell_type": "code",
      "source": [
        "term_idx = 1\n",
        "term = best_model.terms[term_idx]\n",
        "\n",
        "XX = best_model.generate_X_grid(term=term_idx)\n",
        "pdep, confi = best_model.partial_dependence(term=term_idx, X=XX, width=0.95)\n",
        "\n",
        "previous_area = standard_scaler.inverse_transform(XX[:, :3])[:, -1]\n",
        "\n",
        "plt.plot(previous_area, pdep)\n",
        "plt.plot(previous_area, confi, c=\"r\", ls=\"--\")\n",
        "plt.title(\"Partial Dependence on Previous Area\");"
      ],
      "metadata": {
        "colab": {
          "base_uri": "https://localhost:8080/",
          "height": 281
        },
        "id": "jcR0XpxkWBZ6",
        "outputId": "6e0f7783-7a87-4068-e381-ddaec1e4394b"
      },
      "execution_count": 14,
      "outputs": [
        {
          "output_type": "display_data",
          "data": {
            "text/plain": [
              "<Figure size 432x288 with 1 Axes>"
            ],
            "image/png": "[encoded data removed]"
          },
          "metadata": {
            "needs_background": "light"
          }
        }
      ]
    },
    {
      "cell_type": "code",
      "source": [
        "plt.plot(previous_area, compute_link_values(pdep))\n",
        "plt.plot(previous_area, compute_link_values(confi), c=\"r\", ls=\"--\")\n",
        "plt.title(\"Partial Dependence on Previous Area\");"
      ],
      "metadata": {
        "colab": {
          "base_uri": "https://localhost:8080/",
          "height": 281
        },
        "id": "MQ3JCj9zshe1",
        "outputId": "e6c87a50-94db-43a2-89de-6d375cd34240"
      },
      "execution_count": 15,
      "outputs": [
        {
          "output_type": "display_data",
          "data": {
            "text/plain": [
              "<Figure size 432x288 with 1 Axes>"
            ],
            "image/png": "[encoded data removed]"
          },
          "metadata": {
            "needs_background": "light"
          }
        }
      ]
    },
    {
      "cell_type": "code",
      "source": [
        "XX = best_model.generate_X_grid(term=0, meshgrid=True)\n",
        "Z = best_model.partial_dependence(term=0, X=XX, meshgrid=True)\n",
        "\n",
        "XX_df = pd.DataFrame(zip(XX[0].flatten(), XX[1].flatten()), columns=[\"x\", \"y\"])\n",
        "XX_df[\"previous_available\"] = 0\n",
        "rink_coords = standard_scaler.inverse_transform(XX_df)[:, :2]\n",
        "\n",
        "rink = Rink(rotation=270)\n",
        "ax = rink.draw(display_range=\"ozone\");\n",
        "heatmap = rink.heatmap(\n",
        "    *zip(*rink_coords), \n",
        "    values=Z.flatten(), \n",
        "    statistic=\"mean\",\n",
        "    symmetrize=True, \n",
        "    binsize=0.5,\n",
        "    cmap=\"bwr\", \n",
        "    ax=ax\n",
        ")\n",
        "plt.colorbar(heatmap, ax=ax, orientation=\"horizontal\")\n",
        "ax.set_title(\"Partial Dependence on Coordinates\");"
      ],
      "metadata": {
        "colab": {
          "base_uri": "https://localhost:8080/",
          "height": 265
        },
        "id": "hnQ-Wv4COG97",
        "outputId": "45832b7c-8d8a-45b4-8231-c0af5c9454c0"
      },
      "execution_count": 16,
      "outputs": [
        {
          "output_type": "display_data",
          "data": {
            "text/plain": [
              "<Figure size 432x288 with 2 Axes>"
            ],
            "image/png": "[encoded data removed]"
          },
          "metadata": {
            "needs_background": "light"
          }
        }
      ]
    },
    {
      "cell_type": "code",
      "source": [
        "rink = Rink(rotation=270)\n",
        "ax = rink.draw(display_range=\"ozone\");\n",
        "heatmap = rink.heatmap(\n",
        "    *zip(*rink_coords), \n",
        "    values=compute_link_values(Z.flatten()), \n",
        "    statistic=\"mean\",\n",
        "    symmetrize=True, \n",
        "    binsize=0.5,\n",
        "    cmap=\"bwr\", \n",
        "    ax=ax,\n",
        ")\n",
        "plt.colorbar(heatmap, ax=ax, orientation=\"horizontal\")\n",
        "ax.set_title(\"Partial Dependence on Coordinates\");"
      ],
      "metadata": {
        "colab": {
          "base_uri": "https://localhost:8080/",
          "height": 265
        },
        "id": "d3Dxv4Vttrds",
        "outputId": "07cc9e1f-b97b-4498-e6b9-5658b7d16fdc"
      },
      "execution_count": 17,
      "outputs": [
        {
          "output_type": "display_data",
          "data": {
            "text/plain": [
              "<Figure size 432x288 with 2 Axes>"
            ],
            "image/png": "[encoded data removed]"
          },
          "metadata": {
            "needs_background": "light"
          }
        }
      ]
    },
    {
      "cell_type": "code",
      "source": [
        "acquisition_indices = best_model.terms.get_coef_indices(2)\n",
        "list(zip(\n",
        "    cat_codes[\"acquisition\"], \n",
        "    best_model.coef_[acquisition_indices],\n",
        "    compute_link_values(best_model.coef_[acquisition_indices]),\n",
        "))"
      ],
      "metadata": {
        "colab": {
          "base_uri": "https://localhost:8080/"
        },
        "id": "8VJ7LW9baplt",
        "outputId": "5678c6dd-ebb3-41f9-bbb1-9964840c6425"
      },
      "execution_count": 18,
      "outputs": [
        {
          "output_type": "execute_result",
          "data": {
            "text/plain": [
              "[((0, 'Retained'), 0.008889639625829837, 0.0005242356753766275),\n",
              " ((1, 'Continuation'), 1.8738519846149686e-08, 1.1007504491233888e-09),\n",
              " ((2, 'Reception'), 0.09898549280856074, 0.006072591628156654),\n",
              " ((3, 'Puck Recovery'), -0.03579077186647124, -0.002069826412064886),\n",
              " ((4, 'Zone Entry'), -0.0720843814611679, -0.0041032965175679115)]"
            ]
          },
          "metadata": {},
          "execution_count": 18
        }
      ]
    },
    {
      "cell_type": "code",
      "source": [
        "team_indices = best_model.terms.get_coef_indices(3)\n",
        "list(zip(\n",
        "    cat_codes[\"team_name\"], \n",
        "    best_model.coef_[team_indices],\n",
        "    compute_link_values(best_model.coef_[team_indices]),\n",
        "))"
      ],
      "metadata": {
        "colab": {
          "base_uri": "https://localhost:8080/"
        },
        "id": "nXQzQqHfUjJZ",
        "outputId": "fda8aa3b-8c15-4baa-e487-b8e196560071"
      },
      "execution_count": 19,
      "outputs": [
        {
          "output_type": "execute_result",
          "data": {
            "text/plain": [
              "[((0, 'Canada'), 0.00796123679749007, 0.00046929566668699185),\n",
              " ((1, 'USA'), -0.0014081063922642349, -8.266499197948085e-05),\n",
              " ((2, 'Finland'), -0.0017007848055857909, -9.983433782337348e-05),\n",
              " ((3, 'ROC'), 0.00494328229262559, 0.000291010063820929),\n",
              " ((4, 'Switzerland'), -0.009795629104023235, -0.0005729621780823299)]"
            ]
          },
          "metadata": {},
          "execution_count": 19
        }
      ]
    },
    {
      "cell_type": "code",
      "source": [
        "opponent_indices = best_model.terms.get_coef_indices(4)\n",
        "list(zip(\n",
        "    cat_codes[\"opponent\"], \n",
        "    best_model.coef_[opponent_indices],\n",
        "    compute_link_values(best_model.coef_[opponent_indices]),\n",
        "))"
      ],
      "metadata": {
        "colab": {
          "base_uri": "https://localhost:8080/"
        },
        "id": "NvMtIYKpU14R",
        "outputId": "be82b025-303e-425a-c5f3-9af9fc2fe1bd"
      },
      "execution_count": 20,
      "outputs": [
        {
          "output_type": "execute_result",
          "data": {
            "text/plain": [
              "[((0, 'USA'), -0.0010917545939939947, -6.410195374033367e-05),\n",
              " ((1, 'Canada'), -0.008773978666357651, -0.0005134334217837128),\n",
              " ((2, 'ROC'), 0.007240169785153752, 0.00042665588746144956),\n",
              " ((3, 'Finland'), 0.0041640796130764934, 0.00024505501159144405),\n",
              " ((4, 'Switzerland'), -0.0015385167118175396, -9.031577421698966e-05)]"
            ]
          },
          "metadata": {},
          "execution_count": 20
        }
      ]
    },
    {
      "cell_type": "code",
      "source": [
        ""
      ],
      "metadata": {
        "id": "glS9nxGF8Esm"
      },
      "execution_count": null,
      "outputs": []
    }
  ]
}