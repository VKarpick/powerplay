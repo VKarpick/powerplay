{
  "nbformat": 4,
  "nbformat_minor": 0,
  "metadata": {
    "colab": {
      "name": "powerplay_gam.ipynb",
      "provenance": [],
      "collapsed_sections": [],
      "authorship_tag": "ABX9TyOIrUrOIJ/s6FaAaDZu8Anj",
      "include_colab_link": true
    },
    "kernelspec": {
      "name": "python3",
      "display_name": "Python 3"
    },
    "language_info": {
      "name": "python"
    }
  },
  "cells": [
    {
      "cell_type": "markdown",
      "metadata": {
        "id": "view-in-github",
        "colab_type": "text"
      },
      "source": [
        "<a href=\"https://colab.research.google.com/github/VKarpick/powerplay/blob/main/powerplay_gam.ipynb\" target=\"_parent\"><img src=\"https://colab.research.google.com/assets/colab-badge.svg\" alt=\"Open In Colab\"/></a>"
      ]
    },
    {
      "cell_type": "markdown",
      "source": [
        "# Installing and Importing Packages"
      ],
      "metadata": {
        "id": "tlxJlBxSxR9P"
      }
    },
    {
      "cell_type": "code",
      "source": [
        "!pip install hockey-rink pygam"
      ],
      "metadata": {
        "colab": {
          "base_uri": "https://localhost:8080/"
        },
        "id": "afsm55vLCpKD",
        "outputId": "5e2c9b1f-bff8-49af-8eb3-a2cd89f40e08"
      },
      "execution_count": 1,
      "outputs": [
        {
          "output_type": "stream",
          "name": "stdout",
          "text": [
            "Collecting hockey-rink\n",
            "  Downloading hockey_rink-0.1.7.tar.gz (34 kB)\n",
            "Collecting pygam\n",
            "  Downloading pygam-0.8.0-py2.py3-none-any.whl (1.8 MB)\n",
            "\u001b[K     |████████████████████████████████| 1.8 MB 6.6 MB/s \n",
            "\u001b[?25hRequirement already satisfied: matplotlib in /usr/local/lib/python3.7/dist-packages (from hockey-rink) (3.2.2)\n",
            "Requirement already satisfied: numpy in /usr/local/lib/python3.7/dist-packages (from hockey-rink) (1.21.6)\n",
            "Requirement already satisfied: scipy in /usr/local/lib/python3.7/dist-packages (from hockey-rink) (1.4.1)\n",
            "Requirement already satisfied: future in /usr/local/lib/python3.7/dist-packages (from pygam) (0.16.0)\n",
            "Requirement already satisfied: progressbar2 in /usr/local/lib/python3.7/dist-packages (from pygam) (3.38.0)\n",
            "Requirement already satisfied: cycler>=0.10 in /usr/local/lib/python3.7/dist-packages (from matplotlib->hockey-rink) (0.11.0)\n",
            "Requirement already satisfied: pyparsing!=2.0.4,!=2.1.2,!=2.1.6,>=2.0.1 in /usr/local/lib/python3.7/dist-packages (from matplotlib->hockey-rink) (3.0.8)\n",
            "Requirement already satisfied: kiwisolver>=1.0.1 in /usr/local/lib/python3.7/dist-packages (from matplotlib->hockey-rink) (1.4.2)\n",
            "Requirement already satisfied: python-dateutil>=2.1 in /usr/local/lib/python3.7/dist-packages (from matplotlib->hockey-rink) (2.8.2)\n",
            "Requirement already satisfied: typing-extensions in /usr/local/lib/python3.7/dist-packages (from kiwisolver>=1.0.1->matplotlib->hockey-rink) (4.2.0)\n",
            "Requirement already satisfied: six>=1.5 in /usr/local/lib/python3.7/dist-packages (from python-dateutil>=2.1->matplotlib->hockey-rink) (1.15.0)\n",
            "Requirement already satisfied: python-utils>=2.3.0 in /usr/local/lib/python3.7/dist-packages (from progressbar2->pygam) (3.1.0)\n",
            "Building wheels for collected packages: hockey-rink\n",
            "  Building wheel for hockey-rink (setup.py) ... \u001b[?25l\u001b[?25hdone\n",
            "  Created wheel for hockey-rink: filename=hockey_rink-0.1.7-py3-none-any.whl size=34876 sha256=05c238060664d210cc6f0979adc1f7dbb8c0f0194ce92cb0632ffd9e666303d5\n",
            "  Stored in directory: /root/.cache/pip/wheels/9b/9c/06/217d4c3a942284788e7fce440ef4e47a8d032cdceb372ff7ec\n",
            "Successfully built hockey-rink\n",
            "Installing collected packages: pygam, hockey-rink\n",
            "Successfully installed hockey-rink-0.1.7 pygam-0.8.0\n"
          ]
        }
      ]
    },
    {
      "cell_type": "code",
      "execution_count": 2,
      "metadata": {
        "id": "NU-0dzYlCkoT"
      },
      "outputs": [],
      "source": [
        "from copy import deepcopy\n",
        "from hockey_rink import Rink\n",
        "from hyperopt import fmin, hp, STATUS_OK, tpe, Trials\n",
        "import matplotlib.pyplot as plt\n",
        "import numpy as np\n",
        "import pandas as pd\n",
        "import pickle\n",
        "from pygam import GAM\n",
        "from pygam.terms import TermList, FactorTerm, SplineTerm, TensorTerm\n",
        "import warnings"
      ]
    },
    {
      "cell_type": "markdown",
      "source": [
        "# Transforming the Data"
      ],
      "metadata": {
        "id": "QAwFHvYExY0J"
      }
    },
    {
      "cell_type": "markdown",
      "source": [
        "The features to be used in the GAM are:\n",
        "- x and y coordinates of the puckhandler.\n",
        "- Number of seconds since zone entry or puck recovery.\n",
        "- Team on the powerplay.\n",
        "- Team on the penalty kill.\n",
        " \n",
        "The first event after a faceoff is a recovery so faceoff wins are included in puck recoveries.\n"
      ],
      "metadata": {
        "id": "kwwqQVNExgci"
      }
    },
    {
      "cell_type": "code",
      "source": [
        "filename = \"https://raw.githubusercontent.com/VKarpick/powerplay/main/data/powerplay_coords.csv\"\n",
        "coords_df = pd.read_csv(filename)"
      ],
      "metadata": {
        "id": "9SLF98BLCm80"
      },
      "execution_count": 3,
      "outputs": []
    },
    {
      "cell_type": "markdown",
      "source": [
        "## Dropping Some Rows"
      ],
      "metadata": {
        "id": "mkh-EQ3Q_KUW"
      }
    },
    {
      "cell_type": "markdown",
      "source": [
        "There are occasionally puck recoveries that occur in the time that a player is supposed to have possession. Typically, this is the result of a player losing possession in a way that doesn't require an event recorded. The data was manually inspected and frames with these type of errors were identified in [a different notebook](https://github.com/VKarpick/powerplay/blob/main/potential_data_issues.ipynb)."
      ],
      "metadata": {
        "id": "Jnx_aJj2_RMD"
      }
    },
    {
      "cell_type": "code",
      "source": [
        "loose_puck_frames = [\n",
        "    (\"2022-02-08 Canada at USA P1 PP1\", 719, 733),\n",
        "    (\"2022-02-08 Canada at USA P1 PP2\", 1114, 1179),\n",
        "    (\"2022-02-08 Canada at USA P1 PP2\", 2853, 2920),\n",
        "    (\"2022-02-08 Canada at USA P2 PP3\", 438, 466),\n",
        "    (\"2022-02-08 Canada at USA P2 PP3\", 1743, 1782),\n",
        "    (\"2022-02-08 Canada at USA P2 PP5\", 1689, 1733),\n",
        "    (\"2022-02-08 ROC at Finland P2 PP5\", 2600, 2660),\n",
        "    (\"2022-02-08 ROC at Finland P2 PP5\", 2662, 2756),\n",
        "    (\"2022-02-08 ROC at Finland P3 PP6\", 375, 403),\n",
        "    (\"2022-02-08 ROC at Finland P3 PP6\", 976, 1052),\n",
        "    (\"2022-02-12 Switzerland at ROC P1 PP1\", 1106, 1144),\n",
        "    (\"2022-02-12 Switzerland at ROC P1 PP2\", 547, 628),\n",
        "    (\"2022-02-12 Switzerland at ROC P3 PP3\", 2432, 2451),\n",
        "    (\"2022-02-12 Switzerland at ROC P3 PP5\", 463, 502),\n",
        "    (\"2022-02-14 Switzerland at Canada P1 PP1\", 5576, 5626),\n",
        "    (\"2022-02-14 Switzerland at Canada P3 PP5\", 211, 248),\n",
        "    (\"2022-02-14 USA at Finland P2 PP1\", 562, 601),\n",
        "    (\"2022-02-14 USA at Finland P2 PP1\", 706, 723),\n",
        "    (\"2022-02-14 USA at Finland P2 PP3\", 1042, 1098),\n",
        "    (\"2022-02-14 USA at Finland P2 PP3\", 1238, 1454),\n",
        "    (\"2022-02-16 Switzerland at Finland P2 PP3\", 5125, 5179),\n",
        "    (\"2022-02-16 Switzerland at Finland P2 PP4\", 195, 252),\n",
        "    (\"2022-02-16 Switzerland at Finland P3 PP7\", 162, 201),\n",
        "    (\"2022-02-16 Switzerland at Finland P3 PP8\", 3107, 3192),\n",
        "    (\"2022-02-16 Switzerland at Finland P3 PP8\", 3194, 3265),\n",
        "    (\"2022-02-16 Switzerland at Finland P3 PP8\", 3853, 3988),\n",
        "]\n",
        "\n",
        "for pp_name, start_frame, end_frame in loose_puck_frames:\n",
        "    coords_df = coords_df.loc[\n",
        "        ~((coords_df.pp_name == pp_name) \n",
        "          & (coords_df.frame_id.between(start_frame, end_frame)))\n",
        "    ]"
      ],
      "metadata": {
        "id": "Kfm-RwQPAF52"
      },
      "execution_count": 4,
      "outputs": []
    },
    {
      "cell_type": "markdown",
      "source": [
        "## Target Variable"
      ],
      "metadata": {
        "id": "cDsXx0c9eGH5"
      }
    },
    {
      "cell_type": "code",
      "source": [
        "coords_df[\"target\"] = coords_df.player_area / coords_df.total_area\n",
        "target = coords_df.target"
      ],
      "metadata": {
        "id": "sLKiccVbn71g"
      },
      "execution_count": 5,
      "outputs": []
    },
    {
      "cell_type": "markdown",
      "source": [
        "## Time Features"
      ],
      "metadata": {
        "id": "3IzCvo5KeJfi"
      }
    },
    {
      "cell_type": "markdown",
      "source": [
        "These plots are meant to give a rough estimate of the amount of time required for zone entries and recoveries to cease to have a noticeable impact on the available space. Will use the values where the plots first hit the average."
      ],
      "metadata": {
        "id": "Bbj_lbrVeOaH"
      }
    },
    {
      "cell_type": "code",
      "source": [
        "fig, axs = plt.subplots(1, 2, figsize=(12, 4), sharey=True)\n",
        "\n",
        "mean_pct = coords_df.target.mean()\n",
        "\n",
        "for ax, event in zip(axs, (\"entry\", \"recovery\")):\n",
        "    event_column = f\"time_since_{event}\"\n",
        "\n",
        "    event_times = (\n",
        "        coords_df\n",
        "        .loc[coords_df[event_column].between(0, 5)]\n",
        "        .groupby(event_column)\n",
        "        [\"target\"]\n",
        "        .mean()\n",
        "    )\n",
        "\n",
        "    ax.plot(event_times.index, event_times.values)\n",
        "    ax.axhline(y=mean_pct, color=\"orange\")\n",
        "\n",
        "    ax.set_title(event.title())"
      ],
      "metadata": {
        "colab": {
          "base_uri": "https://localhost:8080/",
          "height": 281
        },
        "id": "xN-RIHhijXYJ",
        "outputId": "177745c4-aba1-4a8e-81a7-bcaba93d72a6"
      },
      "execution_count": 6,
      "outputs": [
        {
          "output_type": "display_data",
          "data": {
            "text/plain": [
              "<Figure size 864x288 with 2 Axes>"
            ],
            "image/png": "[encoded data removed]"
          },
          "metadata": {
            "needs_background": "light"
          }
        }
      ]
    },
    {
      "cell_type": "code",
      "source": [
        "max_evals = 0 #@param\n",
        "max_entry_time = 2 #@param\n",
        "max_recovery_time = 4 #@param"
      ],
      "metadata": {
        "id": "A6b6QIVHpLjq"
      },
      "execution_count": 7,
      "outputs": []
    },
    {
      "cell_type": "markdown",
      "source": [
        "## Features"
      ],
      "metadata": {
        "id": "qQT7z5Ame9OP"
      }
    },
    {
      "cell_type": "code",
      "source": [
        "features = (\n",
        "    coords_df\n",
        "    .copy()\n",
        "    [[\"x\", \"y\", \"time_since_entry\", \"time_since_recovery\", \"team_name\", \"opponent\"]]\n",
        "    .rename(columns={\"team_name\": \"pp\", \"opponent\": \"pk\"})\n",
        ")\n",
        "\n",
        "# move everything to the same half of the rink\n",
        "features.x = (features.x - 100).abs()\n",
        "features.y = (features.y - 42.5).abs()\n",
        "\n",
        "# keep everything within the bounds of the ozone, ignoring the curve in the boards\n",
        "features.x = features.x.clip(25, 100)\n",
        "features.y = features.y.clip(0, 42.5)\n",
        "\n",
        "# normalize coordinates\n",
        "features.x = (features.x - 25) / 75\n",
        "features.y /= 42.5\n",
        "\n",
        "# clip entry/recovery times\n",
        "is_off_recovery = features.time_since_recovery.between(0, max_recovery_time)\n",
        "features.loc[~is_off_recovery, \"time_since_recovery\"] = max_recovery_time\n",
        "\n",
        "is_off_entry = features.time_since_entry.between(0, max_entry_time)\n",
        "features.loc[~is_off_entry, \"time_since_entry\"] = max_entry_time\n",
        "\n",
        "# convert team columns to numbers for use in factor terms\n",
        "cat_codes = {}\n",
        "for categorical_column in [\"pp\", \"pk\"]:\n",
        "    factorized_codes = features[categorical_column].factorize()\n",
        "    features[categorical_column] = factorized_codes[0]\n",
        "    cat_codes[categorical_column] = list(enumerate(factorized_codes[1]))"
      ],
      "metadata": {
        "id": "rZwwtXtpykXn"
      },
      "execution_count": 8,
      "outputs": []
    },
    {
      "cell_type": "code",
      "source": [
        "features.join(target).head()"
      ],
      "metadata": {
        "colab": {
          "base_uri": "https://localhost:8080/",
          "height": 206
        },
        "id": "fD4PkLwy0tNT",
        "outputId": "43b615c1-4622-41b9-c34c-5f8af14134c6"
      },
      "execution_count": 9,
      "outputs": [
        {
          "output_type": "execute_result",
          "data": {
            "text/plain": [
              "          x         y  time_since_entry  time_since_recovery  pp  pk    target\n",
              "0  0.943102  0.490644               2.0                  3.0   0   0  0.092970\n",
              "1  0.939834  0.498106               2.0                  4.0   0   0  0.093567\n",
              "2  0.942031  0.507933               2.0                  4.0   0   0  0.090811\n",
              "3  0.941982  0.516415               2.0                  4.0   0   0  0.090624\n",
              "4  0.944764  0.517050               2.0                  4.0   0   0  0.089842"
            ],
            "text/html": [
              "\n",
              "  <div id=\"df-c755a71d-1abd-4329-9398-69a8029cbd32\">\n",
              "    <div class=\"colab-df-container\">\n",
              "      <div>\n",
              "<style scoped>\n",
              "    .dataframe tbody tr th:only-of-type {\n",
              "        vertical-align: middle;\n",
              "    }\n",
              "\n",
              "    .dataframe tbody tr th {\n",
              "        vertical-align: top;\n",
              "    }\n",
              "\n",
              "    .dataframe thead th {\n",
              "        text-align: right;\n",
              "    }\n",
              "</style>\n",
              "<table border=\"1\" class=\"dataframe\">\n",
              "  <thead>\n",
              "    <tr style=\"text-align: right;\">\n",
              "      <th></th>\n",
              "      <th>x</th>\n",
              "      <th>y</th>\n",
              "      <th>time_since_entry</th>\n",
              "      <th>time_since_recovery</th>\n",
              "      <th>pp</th>\n",
              "      <th>pk</th>\n",
              "      <th>target</th>\n",
              "    </tr>\n",
              "  </thead>\n",
              "  <tbody>\n",
              "    <tr>\n",
              "      <th>0</th>\n",
              "      <td>0.943102</td>\n",
              "      <td>0.490644</td>\n",
              "      <td>2.0</td>\n",
              "      <td>3.0</td>\n",
              "      <td>0</td>\n",
              "      <td>0</td>\n",
              "      <td>0.092970</td>\n",
              "    </tr>\n",
              "    <tr>\n",
              "      <th>1</th>\n",
              "      <td>0.939834</td>\n",
              "      <td>0.498106</td>\n",
              "      <td>2.0</td>\n",
              "      <td>4.0</td>\n",
              "      <td>0</td>\n",
              "      <td>0</td>\n",
              "      <td>0.093567</td>\n",
              "    </tr>\n",
              "    <tr>\n",
              "      <th>2</th>\n",
              "      <td>0.942031</td>\n",
              "      <td>0.507933</td>\n",
              "      <td>2.0</td>\n",
              "      <td>4.0</td>\n",
              "      <td>0</td>\n",
              "      <td>0</td>\n",
              "      <td>0.090811</td>\n",
              "    </tr>\n",
              "    <tr>\n",
              "      <th>3</th>\n",
              "      <td>0.941982</td>\n",
              "      <td>0.516415</td>\n",
              "      <td>2.0</td>\n",
              "      <td>4.0</td>\n",
              "      <td>0</td>\n",
              "      <td>0</td>\n",
              "      <td>0.090624</td>\n",
              "    </tr>\n",
              "    <tr>\n",
              "      <th>4</th>\n",
              "      <td>0.944764</td>\n",
              "      <td>0.517050</td>\n",
              "      <td>2.0</td>\n",
              "      <td>4.0</td>\n",
              "      <td>0</td>\n",
              "      <td>0</td>\n",
              "      <td>0.089842</td>\n",
              "    </tr>\n",
              "  </tbody>\n",
              "</table>\n",
              "</div>\n",
              "      <button class=\"colab-df-convert\" onclick=\"convertToInteractive('df-c755a71d-1abd-4329-9398-69a8029cbd32')\"\n",
              "              title=\"Convert this dataframe to an interactive table.\"\n",
              "              style=\"display:none;\">\n",
              "        \n",
              "  <svg xmlns=\"http://www.w3.org/2000/svg\" height=\"24px\"viewBox=\"0 0 24 24\"\n",
              "       width=\"24px\">\n",
              "    <path d=\"M0 0h24v24H0V0z\" fill=\"none\"/>\n",
              "    <path d=\"M18.56 5.44l.94 2.06.94-2.06 2.06-.94-2.06-.94-.94-2.06-.94 2.06-2.06.94zm-11 1L8.5 8.5l.94-2.06 2.06-.94-2.06-.94L8.5 2.5l-.94 2.06-2.06.94zm10 10l.94 2.06.94-2.06 2.06-.94-2.06-.94-.94-2.06-.94 2.06-2.06.94z\"/><path d=\"M17.41 7.96l-1.37-1.37c-.4-.4-.92-.59-1.43-.59-.52 0-1.04.2-1.43.59L10.3 9.45l-7.72 7.72c-.78.78-.78 2.05 0 2.83L4 21.41c.39.39.9.59 1.41.59.51 0 1.02-.2 1.41-.59l7.78-7.78 2.81-2.81c.8-.78.8-2.07 0-2.86zM5.41 20L4 18.59l7.72-7.72 1.47 1.35L5.41 20z\"/>\n",
              "  </svg>\n",
              "      </button>\n",
              "      \n",
              "  <style>\n",
              "    .colab-df-container {\n",
              "      display:flex;\n",
              "      flex-wrap:wrap;\n",
              "      gap: 12px;\n",
              "    }\n",
              "\n",
              "    .colab-df-convert {\n",
              "      background-color: #E8F0FE;\n",
              "      border: none;\n",
              "      border-radius: 50%;\n",
              "      cursor: pointer;\n",
              "      display: none;\n",
              "      fill: #1967D2;\n",
              "      height: 32px;\n",
              "      padding: 0 0 0 0;\n",
              "      width: 32px;\n",
              "    }\n",
              "\n",
              "    .colab-df-convert:hover {\n",
              "      background-color: #E2EBFA;\n",
              "      box-shadow: 0px 1px 2px rgba(60, 64, 67, 0.3), 0px 1px 3px 1px rgba(60, 64, 67, 0.15);\n",
              "      fill: #174EA6;\n",
              "    }\n",
              "\n",
              "    [theme=dark] .colab-df-convert {\n",
              "      background-color: #3B4455;\n",
              "      fill: #D2E3FC;\n",
              "    }\n",
              "\n",
              "    [theme=dark] .colab-df-convert:hover {\n",
              "      background-color: #434B5C;\n",
              "      box-shadow: 0px 1px 3px 1px rgba(0, 0, 0, 0.15);\n",
              "      filter: drop-shadow(0px 1px 2px rgba(0, 0, 0, 0.3));\n",
              "      fill: #FFFFFF;\n",
              "    }\n",
              "  </style>\n",
              "\n",
              "      <script>\n",
              "        const buttonEl =\n",
              "          document.querySelector('#df-c755a71d-1abd-4329-9398-69a8029cbd32 button.colab-df-convert');\n",
              "        buttonEl.style.display =\n",
              "          google.colab.kernel.accessAllowed ? 'block' : 'none';\n",
              "\n",
              "        async function convertToInteractive(key) {\n",
              "          const element = document.querySelector('#df-c755a71d-1abd-4329-9398-69a8029cbd32');\n",
              "          const dataTable =\n",
              "            await google.colab.kernel.invokeFunction('convertToInteractive',\n",
              "                                                     [key], {});\n",
              "          if (!dataTable) return;\n",
              "\n",
              "          const docLinkHtml = 'Like what you see? Visit the ' +\n",
              "            '<a target=\"_blank\" href=https://colab.research.google.com/notebooks/data_table.ipynb>data table notebook</a>'\n",
              "            + ' to learn more about interactive tables.';\n",
              "          element.innerHTML = '';\n",
              "          dataTable['output_type'] = 'display_data';\n",
              "          await google.colab.output.renderOutput(dataTable, element);\n",
              "          const docLink = document.createElement('div');\n",
              "          docLink.innerHTML = docLinkHtml;\n",
              "          element.appendChild(docLink);\n",
              "        }\n",
              "      </script>\n",
              "    </div>\n",
              "  </div>\n",
              "  "
            ]
          },
          "metadata": {},
          "execution_count": 9
        }
      ]
    },
    {
      "cell_type": "code",
      "source": [
        "list(enumerate(features.columns))"
      ],
      "metadata": {
        "colab": {
          "base_uri": "https://localhost:8080/"
        },
        "id": "fJFMpYuTPXe-",
        "outputId": "4fcb4e86-b556-4a2d-ccf0-eb8dc480c665"
      },
      "execution_count": 10,
      "outputs": [
        {
          "output_type": "execute_result",
          "data": {
            "text/plain": [
              "[(0, 'x'),\n",
              " (1, 'y'),\n",
              " (2, 'time_since_entry'),\n",
              " (3, 'time_since_recovery'),\n",
              " (4, 'pp'),\n",
              " (5, 'pk')]"
            ]
          },
          "metadata": {},
          "execution_count": 10
        }
      ]
    },
    {
      "cell_type": "markdown",
      "source": [
        "## Creating the Term List for the GAM"
      ],
      "metadata": {
        "id": "jPrPkOpN233j"
      }
    },
    {
      "cell_type": "code",
      "source": [
        "def get_terms(params):\n",
        "    return TermList(\n",
        "        # coordinates\n",
        "        *[\n",
        "            TensorTerm(\n",
        "                0, 1, \n",
        "                n_splines=[int(params[\"x_splines\"]), int(params[\"y_splines\"])],\n",
        "                lam=[params[\"x_lam\"], params[\"y_lam\"]],\n",
        "            )\n",
        "        ],\n",
        "        # time since entry\n",
        "        SplineTerm(\n",
        "            2,\n",
        "            spline_order=3, \n",
        "            n_splines=4,\n",
        "            lam=params[\"entry_lam\"],\n",
        "        ),\n",
        "        # time since recovery\n",
        "        SplineTerm(\n",
        "            3,\n",
        "            spline_order=2,\n",
        "            n_splines=3,\n",
        "            lam=params[\"recovery_lam\"],\n",
        "        ),\n",
        "        # pp team\n",
        "        FactorTerm(\n",
        "            4,\n",
        "            lam=params[\"pp_lam\"],\n",
        "        ),\n",
        "        # pk team\n",
        "        FactorTerm(\n",
        "            5,\n",
        "            lam=params[\"pk_lam\"],\n",
        "        )\n",
        "    )"
      ],
      "metadata": {
        "id": "XaBXxLiAIclA"
      },
      "execution_count": 11,
      "outputs": []
    },
    {
      "cell_type": "markdown",
      "source": [
        "# Hyperparameter Tuning"
      ],
      "metadata": {
        "id": "EFATrHmn2dyu"
      }
    },
    {
      "cell_type": "markdown",
      "source": [
        "Parameters to be tuned:\n",
        "- The number of splines on the tensor terms for the coordinates.\n",
        "- Smoothing / L2 penalties on all terms."
      ],
      "metadata": {
        "id": "UZq05zd42iHp"
      }
    },
    {
      "cell_type": "code",
      "source": [
        "space = {\n",
        "    **{\n",
        "        f\"{coord}_splines\": hp.quniform(f\"{coord}_splines\", 10, 30, 1)\n",
        "        for coord in (\"x\", \"y\")\n",
        "    },\n",
        "    **{\n",
        "        f\"{feature}_lam\": hp.loguniform(f\"{feature}_lam\", np.log(0.01), np.log(1000.0))\n",
        "        for feature in (\"x\", \"y\", \"entry\", \"recovery\", \"pp\", \"pk\")\n",
        "    },\n",
        "}"
      ],
      "metadata": {
        "id": "9qplPT0kh5JV"
      },
      "execution_count": 12,
      "outputs": []
    },
    {
      "cell_type": "markdown",
      "source": [
        "The GAM uses a logit link with a binomial distribution to predict proportions and UBRE is used as the loss because the target variable is bounded.  \n",
        "\n",
        "Warnings are suppressed because of an underflow issue on a summary statistic that doesn't affect the actual model.  \n",
        "\n",
        "When max_evals is 0, the best parameters found through tuning are used. Alternatively, the model could've been downloaded from [GitHub](https://github.com/VKarpick/powerplay/tree/main/model) and unpickled, but this seemed easier."
      ],
      "metadata": {
        "id": "B71E2nBlzU8_"
      }
    },
    {
      "cell_type": "code",
      "source": [
        "def fit_gam(params):\n",
        "    terms = get_terms(params)\n",
        "    gam = GAM(terms=terms, link=\"logit\", distribution=\"binomial\")\n",
        "\n",
        "    with warnings.catch_warnings():\n",
        "        warnings.simplefilter(\"ignore\")\n",
        "        gam.fit(features, target)\n",
        "\n",
        "    return gam\n",
        "\n",
        "\n",
        "if max_evals == 0:\n",
        "    best_params = {\n",
        "        \"entry_lam\": 6.425971777831048,\n",
        "        \"pk_lam\": 362.3408488493783,\n",
        "        \"pp_lam\": 160.54622159102445,\n",
        "        \"recovery_lam\": 0.03021934566054816,\n",
        "        \"x_lam\": 4.782840689702454,\n",
        "        \"x_splines\": 12.0,\n",
        "        \"y_lam\": 73.87456742413468,\n",
        "        \"y_splines\": 14.0,\n",
        "     }\n",
        "\n",
        "    best_model = fit_gam(best_params)\n",
        "else:\n",
        "    best_model = None\n",
        "    best_loss = np.Inf\n",
        "\n",
        "\n",
        "    def objective(params):\n",
        "        global best_model, best_loss\n",
        "\n",
        "        gam = fit_gam(params)\n",
        "\n",
        "        loss = gam.statistics_[\"UBRE\"]\n",
        "\n",
        "        if loss < best_loss:\n",
        "            best_loss = loss\n",
        "            best_model = gam\n",
        "\n",
        "        return {\"loss\": loss, \"params\": params, \"status\": STATUS_OK}\n",
        "\n",
        "\n",
        "    trials = Trials()\n",
        "\n",
        "    best_params = fmin(\n",
        "        fn=objective,\n",
        "        space=space,\n",
        "        algo=tpe.suggest,\n",
        "        max_evals=max_evals,\n",
        "        trials=trials,\n",
        "        rstate=np.random.RandomState(42),\n",
        "    )\n",
        "\n",
        "    # create a csv to log the results\n",
        "    trials_df = pd.DataFrame(trials.trials)\n",
        "    results = pd.json_normalize(trials_df.result)\n",
        "    trials_df = trials_df.join(results)\n",
        "\n",
        "    pickle.dump(best_model, open(\"powerplay_gam.pkl\", \"wb\"))\n",
        "    trials_df.to_csv(\"powerplay_gam_trials.csv\", index=False)"
      ],
      "metadata": {
        "id": "OpDdT_a0d13k"
      },
      "execution_count": 13,
      "outputs": []
    },
    {
      "cell_type": "code",
      "source": [
        "best_params"
      ],
      "metadata": {
        "colab": {
          "base_uri": "https://localhost:8080/"
        },
        "id": "LDj_TI0CyMOD",
        "outputId": "c34908ee-8b8b-4c96-bb8f-1f863b14cd9b"
      },
      "execution_count": 14,
      "outputs": [
        {
          "output_type": "execute_result",
          "data": {
            "text/plain": [
              "{'entry_lam': 6.425971777831048,\n",
              " 'pk_lam': 362.3408488493783,\n",
              " 'pp_lam': 160.54622159102445,\n",
              " 'recovery_lam': 0.03021934566054816,\n",
              " 'x_lam': 4.782840689702454,\n",
              " 'x_splines': 12.0,\n",
              " 'y_lam': 73.87456742413468,\n",
              " 'y_splines': 14.0}"
            ]
          },
          "metadata": {},
          "execution_count": 14
        }
      ]
    },
    {
      "cell_type": "markdown",
      "source": [
        "# Inspecting the Results"
      ],
      "metadata": {
        "id": "oEiUP6X4y5JX"
      }
    },
    {
      "cell_type": "code",
      "source": [
        "x = np.arange(25, 101)\n",
        "y = np.arange(0, 43)\n",
        "XX = tuple(np.meshgrid((x - 25) / 75, y / 42.5))\n",
        "Z = best_model.partial_dependence(term=0, X=XX, meshgrid=True)\n",
        "x, y = np.meshgrid(x, y)\n",
        "\n",
        "rink = Rink(rotation=270)\n",
        "ax = rink.draw(display_range=\"ozone\");\n",
        "\n",
        "heatmap = rink.heatmap(\n",
        "    x.flatten(), y.flatten(), \n",
        "    values=Z.flatten(), \n",
        "    statistic=\"mean\",\n",
        "    symmetrize=True, \n",
        "    binsize=1,\n",
        "    cmap=\"bwr\", \n",
        "    ax=ax,\n",
        ")\n",
        "\n",
        "plt.colorbar(heatmap, ax=ax, orientation=\"horizontal\")\n",
        "ax.set_title(\"Partial Dependence on Coordinates\");"
      ],
      "metadata": {
        "colab": {
          "base_uri": "https://localhost:8080/",
          "height": 265
        },
        "id": "AQ7050e9DXpA",
        "outputId": "406783cf-9aac-44d4-cfed-97dae57f1773"
      },
      "execution_count": 15,
      "outputs": [
        {
          "output_type": "display_data",
          "data": {
            "text/plain": [
              "<Figure size 432x288 with 2 Axes>"
            ],
            "image/png": "[encoded data removed]"
          },
          "metadata": {
            "needs_background": "light"
          }
        }
      ]
    },
    {
      "cell_type": "code",
      "source": [
        "fig, axs = plt.subplots(1, 2, sharey=True, figsize=(12, 4))\n",
        "\n",
        "for i, (term, title, ax) in enumerate(zip(best_model.terms[1:3], (\"Entry\", \"Recovery\"), axs)):\n",
        "    term_idx = i + 1\n",
        "    XX = best_model.generate_X_grid(term=term_idx)\n",
        "    pdep, confi = best_model.partial_dependence(term=term_idx, X=XX, width=0.95)\n",
        "\n",
        "    ax.axhline(y=0, color=\"black\")\n",
        "    ax.plot(XX[:, term.feature], pdep)\n",
        "    ax.plot(XX[:, term.feature], confi, c=\"r\", ls=\"--\")\n",
        "    ax.set_title(title)"
      ],
      "metadata": {
        "colab": {
          "base_uri": "https://localhost:8080/",
          "height": 281
        },
        "id": "UUB9EOpWDXmB",
        "outputId": "0bbec2ea-d904-48ee-e5b6-38637be22245"
      },
      "execution_count": 16,
      "outputs": [
        {
          "output_type": "display_data",
          "data": {
            "text/plain": [
              "<Figure size 864x288 with 2 Axes>"
            ],
            "image/png": "[encoded data removed]"
          },
          "metadata": {
            "needs_background": "light"
          }
        }
      ]
    },
    {
      "cell_type": "code",
      "source": [
        "fig, axs = plt.subplots(1, 2, sharey=True, figsize=(12, 4))\n",
        "\n",
        "for i, (coef_idx, title, ax) in enumerate(zip((-11, -6), (\"pp\", \"pk\"), axs)):\n",
        "    term_idx = i + 3\n",
        "    coefs = best_model.coef_[coef_idx:coef_idx + 5]\n",
        "    teams = [cat_code[1] for cat_code in cat_codes[title]]\n",
        "\n",
        "    ax.axhline(y=0, color=\"black\")\n",
        "    ax.bar(*zip(*sorted(tuple(zip(teams, coefs)))))\n",
        "    ax.set_title(title.upper())"
      ],
      "metadata": {
        "colab": {
          "base_uri": "https://localhost:8080/",
          "height": 281
        },
        "id": "WgJ6KZqQJjLh",
        "outputId": "c8125dac-6cc0-473b-8c2a-f31b753be673"
      },
      "execution_count": 17,
      "outputs": [
        {
          "output_type": "display_data",
          "data": {
            "text/plain": [
              "<Figure size 864x288 with 2 Axes>"
            ],
            "image/png": "[encoded data removed]"
          },
          "metadata": {
            "needs_background": "light"
          }
        }
      ]
    },
    {
      "cell_type": "code",
      "source": [
        ""
      ],
      "metadata": {
        "id": "b8Ksx1IiK6c3"
      },
      "execution_count": 17,
      "outputs": []
    }
  ]
}